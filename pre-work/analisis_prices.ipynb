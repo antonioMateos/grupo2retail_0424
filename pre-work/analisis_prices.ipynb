{
 "cells": [
  {
   "cell_type": "markdown",
   "metadata": {},
   "source": [
    "**item** - product id    \n",
    "\n",
    "**category** - product category   \n",
    "\n",
    "**store_code** - alphanumeric code of the store    \n",
    "\n",
    "**yearweek** - date period for the price (year-week format)    \n",
    "\n",
    "**sell_price** - price for the product “item” for the period in “yearweek”. Prices are provided per week (average across 7 days). If not available, there were no sales for the product during that week  \n"
   ]
  },
  {
   "cell_type": "code",
   "execution_count": 113,
   "metadata": {},
   "outputs": [],
   "source": [
    "import pandas as pd\n",
    "import numpy as np \n",
    "import matplotlib.pyplot as plt\n",
    "\n",
    "pd.set_option('display.max_columns', 500)\n",
    "pd.set_option('display.float_format', lambda x: '%.2f' % x)"
   ]
  },
  {
   "cell_type": "code",
   "execution_count": 114,
   "metadata": {},
   "outputs": [
    {
     "data": {
      "text/html": [
       "<div>\n",
       "<style scoped>\n",
       "    .dataframe tbody tr th:only-of-type {\n",
       "        vertical-align: middle;\n",
       "    }\n",
       "\n",
       "    .dataframe tbody tr th {\n",
       "        vertical-align: top;\n",
       "    }\n",
       "\n",
       "    .dataframe thead th {\n",
       "        text-align: right;\n",
       "    }\n",
       "</style>\n",
       "<table border=\"1\" class=\"dataframe\">\n",
       "  <thead>\n",
       "    <tr style=\"text-align: right;\">\n",
       "      <th></th>\n",
       "      <th>item</th>\n",
       "      <th>category</th>\n",
       "      <th>store_code</th>\n",
       "      <th>yearweek</th>\n",
       "      <th>sell_price</th>\n",
       "    </tr>\n",
       "  </thead>\n",
       "  <tbody>\n",
       "    <tr>\n",
       "      <th>0</th>\n",
       "      <td>ACCESORIES_1_001</td>\n",
       "      <td>ACCESORIES</td>\n",
       "      <td>NYC_1</td>\n",
       "      <td>201328.00</td>\n",
       "      <td>12.74</td>\n",
       "    </tr>\n",
       "    <tr>\n",
       "      <th>1</th>\n",
       "      <td>ACCESORIES_1_001</td>\n",
       "      <td>ACCESORIES</td>\n",
       "      <td>NYC_1</td>\n",
       "      <td>201329.00</td>\n",
       "      <td>12.74</td>\n",
       "    </tr>\n",
       "    <tr>\n",
       "      <th>2</th>\n",
       "      <td>ACCESORIES_1_001</td>\n",
       "      <td>ACCESORIES</td>\n",
       "      <td>NYC_1</td>\n",
       "      <td>201330.00</td>\n",
       "      <td>10.99</td>\n",
       "    </tr>\n",
       "  </tbody>\n",
       "</table>\n",
       "</div>"
      ],
      "text/plain": [
       "               item    category store_code  yearweek  sell_price\n",
       "0  ACCESORIES_1_001  ACCESORIES      NYC_1 201328.00       12.74\n",
       "1  ACCESORIES_1_001  ACCESORIES      NYC_1 201329.00       12.74\n",
       "2  ACCESORIES_1_001  ACCESORIES      NYC_1 201330.00       10.99"
      ]
     },
     "execution_count": 114,
     "metadata": {},
     "output_type": "execute_result"
    }
   ],
   "source": [
    "path = \"data_dsmarket\\item_prices.csv\"\n",
    "\n",
    "df = pd.read_csv(path, sep=\",\", encoding=\"utf-8\")\n",
    "\n",
    "df.head(3)"
   ]
  },
  {
   "cell_type": "code",
   "execution_count": 115,
   "metadata": {},
   "outputs": [
    {
     "name": "stdout",
     "output_type": "stream",
     "text": [
      "<class 'pandas.core.frame.DataFrame'>\n",
      "RangeIndex: 6965706 entries, 0 to 6965705\n",
      "Data columns (total 5 columns):\n",
      " #   Column      Dtype  \n",
      "---  ------      -----  \n",
      " 0   item        object \n",
      " 1   category    object \n",
      " 2   store_code  object \n",
      " 3   yearweek    float64\n",
      " 4   sell_price  float64\n",
      "dtypes: float64(2), object(3)\n",
      "memory usage: 265.7+ MB\n"
     ]
    }
   ],
   "source": [
    "df.info()"
   ]
  },
  {
   "cell_type": "code",
   "execution_count": 116,
   "metadata": {},
   "outputs": [
    {
     "data": {
      "text/html": [
       "<div>\n",
       "<style scoped>\n",
       "    .dataframe tbody tr th:only-of-type {\n",
       "        vertical-align: middle;\n",
       "    }\n",
       "\n",
       "    .dataframe tbody tr th {\n",
       "        vertical-align: top;\n",
       "    }\n",
       "\n",
       "    .dataframe thead th {\n",
       "        text-align: right;\n",
       "    }\n",
       "</style>\n",
       "<table border=\"1\" class=\"dataframe\">\n",
       "  <thead>\n",
       "    <tr style=\"text-align: right;\">\n",
       "      <th></th>\n",
       "      <th>count</th>\n",
       "      <th>mean</th>\n",
       "      <th>std</th>\n",
       "      <th>min</th>\n",
       "      <th>25%</th>\n",
       "      <th>50%</th>\n",
       "      <th>75%</th>\n",
       "      <th>max</th>\n",
       "    </tr>\n",
       "  </thead>\n",
       "  <tbody>\n",
       "    <tr>\n",
       "      <th>yearweek</th>\n",
       "      <td>6721786.00</td>\n",
       "      <td>201382.42</td>\n",
       "      <td>145.02</td>\n",
       "      <td>201105.00</td>\n",
       "      <td>201248.00</td>\n",
       "      <td>201410.00</td>\n",
       "      <td>201515.00</td>\n",
       "      <td>201617.00</td>\n",
       "    </tr>\n",
       "    <tr>\n",
       "      <th>sell_price</th>\n",
       "      <td>6965706.00</td>\n",
       "      <td>5.52</td>\n",
       "      <td>4.39</td>\n",
       "      <td>0.01</td>\n",
       "      <td>2.62</td>\n",
       "      <td>4.20</td>\n",
       "      <td>7.18</td>\n",
       "      <td>134.15</td>\n",
       "    </tr>\n",
       "  </tbody>\n",
       "</table>\n",
       "</div>"
      ],
      "text/plain": [
       "                count      mean    std       min       25%       50%  \\\n",
       "yearweek   6721786.00 201382.42 145.02 201105.00 201248.00 201410.00   \n",
       "sell_price 6965706.00      5.52   4.39      0.01      2.62      4.20   \n",
       "\n",
       "                 75%       max  \n",
       "yearweek   201515.00 201617.00  \n",
       "sell_price      7.18    134.15  "
      ]
     },
     "execution_count": 116,
     "metadata": {},
     "output_type": "execute_result"
    }
   ],
   "source": [
    "df.describe().T"
   ]
  },
  {
   "cell_type": "code",
   "execution_count": 117,
   "metadata": {},
   "outputs": [
    {
     "data": {
      "text/html": [
       "<div>\n",
       "<style scoped>\n",
       "    .dataframe tbody tr th:only-of-type {\n",
       "        vertical-align: middle;\n",
       "    }\n",
       "\n",
       "    .dataframe tbody tr th {\n",
       "        vertical-align: top;\n",
       "    }\n",
       "\n",
       "    .dataframe thead th {\n",
       "        text-align: right;\n",
       "    }\n",
       "</style>\n",
       "<table border=\"1\" class=\"dataframe\">\n",
       "  <thead>\n",
       "    <tr style=\"text-align: right;\">\n",
       "      <th></th>\n",
       "      <th>count</th>\n",
       "      <th>unique</th>\n",
       "      <th>top</th>\n",
       "      <th>freq</th>\n",
       "    </tr>\n",
       "  </thead>\n",
       "  <tbody>\n",
       "    <tr>\n",
       "      <th>item</th>\n",
       "      <td>6965706</td>\n",
       "      <td>3049</td>\n",
       "      <td>SUPERMARKET_3_587</td>\n",
       "      <td>2870</td>\n",
       "    </tr>\n",
       "    <tr>\n",
       "      <th>category</th>\n",
       "      <td>6965706</td>\n",
       "      <td>3</td>\n",
       "      <td>SUPERMARKET</td>\n",
       "      <td>3239821</td>\n",
       "    </tr>\n",
       "    <tr>\n",
       "      <th>store_code</th>\n",
       "      <td>6965706</td>\n",
       "      <td>10</td>\n",
       "      <td>BOS_2</td>\n",
       "      <td>713960</td>\n",
       "    </tr>\n",
       "  </tbody>\n",
       "</table>\n",
       "</div>"
      ],
      "text/plain": [
       "              count unique                top     freq\n",
       "item        6965706   3049  SUPERMARKET_3_587     2870\n",
       "category    6965706      3        SUPERMARKET  3239821\n",
       "store_code  6965706     10              BOS_2   713960"
      ]
     },
     "execution_count": 117,
     "metadata": {},
     "output_type": "execute_result"
    }
   ],
   "source": [
    "df.describe(include='object').T"
   ]
  },
  {
   "cell_type": "markdown",
   "metadata": {},
   "source": [
    "### **De que es está tabla?**  \n",
    "\n",
    "Fila -> Precio para una semana de un producto concreto  \n",
    "  \n",
    "Que podemos ver aquí?  \n",
    "    \n",
    "- Global / Por tiendas / Comparar tiendas\n",
    "- Evolución de los precios de cada producto (Si separamos por años y semanas además podemos ver por año o por semana concreta)\n",
    "- Que categorías tienen más productos\n",
    "- Si cruzamos con la tabla calendar podemos ver que influencia tienen en los precios eventos concretos"
   ]
  },
  {
   "cell_type": "code",
   "execution_count": 118,
   "metadata": {},
   "outputs": [
    {
     "data": {
      "text/plain": [
       "item               0\n",
       "category           0\n",
       "store_code         0\n",
       "yearweek      243920\n",
       "sell_price         0\n",
       "dtype: int64"
      ]
     },
     "execution_count": 118,
     "metadata": {},
     "output_type": "execute_result"
    }
   ],
   "source": [
    "df.isna().sum()"
   ]
  },
  {
   "cell_type": "code",
   "execution_count": 119,
   "metadata": {},
   "outputs": [
    {
     "data": {
      "text/plain": [
       "False    6753586\n",
       "True      212120\n",
       "Name: count, dtype: int64"
      ]
     },
     "execution_count": 119,
     "metadata": {},
     "output_type": "execute_result"
    }
   ],
   "source": [
    "df.duplicated().value_counts()"
   ]
  },
  {
   "cell_type": "code",
   "execution_count": 120,
   "metadata": {},
   "outputs": [
    {
     "data": {
      "text/plain": [
       "True"
      ]
     },
     "execution_count": 120,
     "metadata": {},
     "output_type": "execute_result"
    }
   ],
   "source": [
    "# Coinciden las filas duplicadas con las que yearweek isna?\n",
    "# Que significa esto? -> Aportan información? Creo que no\n",
    "df[df.duplicated()].equals(df[df.duplicated() & df['yearweek'].isna()])"
   ]
  },
  {
   "cell_type": "code",
   "execution_count": 121,
   "metadata": {},
   "outputs": [
    {
     "data": {
      "text/plain": [
       "(6721786, 5)"
      ]
     },
     "execution_count": 121,
     "metadata": {},
     "output_type": "execute_result"
    }
   ],
   "source": [
    "df_clean = df[df['yearweek'].notna()]\n",
    "\n",
    "df_clean.shape"
   ]
  },
  {
   "cell_type": "code",
   "execution_count": 122,
   "metadata": {},
   "outputs": [
    {
     "data": {
      "text/plain": [
       "0"
      ]
     },
     "execution_count": 122,
     "metadata": {},
     "output_type": "execute_result"
    }
   ],
   "source": [
    "df_clean.duplicated().sum()"
   ]
  },
  {
   "cell_type": "code",
   "execution_count": 123,
   "metadata": {},
   "outputs": [
    {
     "data": {
      "text/plain": [
       "0"
      ]
     },
     "execution_count": 123,
     "metadata": {},
     "output_type": "execute_result"
    }
   ],
   "source": [
    "df_clean['yearweek'].isna().sum()"
   ]
  },
  {
   "cell_type": "code",
   "execution_count": 124,
   "metadata": {},
   "outputs": [
    {
     "data": {
      "text/html": [
       "<div>\n",
       "<style scoped>\n",
       "    .dataframe tbody tr th:only-of-type {\n",
       "        vertical-align: middle;\n",
       "    }\n",
       "\n",
       "    .dataframe tbody tr th {\n",
       "        vertical-align: top;\n",
       "    }\n",
       "\n",
       "    .dataframe thead th {\n",
       "        text-align: right;\n",
       "    }\n",
       "</style>\n",
       "<table border=\"1\" class=\"dataframe\">\n",
       "  <thead>\n",
       "    <tr style=\"text-align: right;\">\n",
       "      <th></th>\n",
       "      <th>item</th>\n",
       "      <th>category</th>\n",
       "      <th>store_code</th>\n",
       "      <th>yearweek</th>\n",
       "      <th>sell_price</th>\n",
       "    </tr>\n",
       "  </thead>\n",
       "  <tbody>\n",
       "  </tbody>\n",
       "</table>\n",
       "</div>"
      ],
      "text/plain": [
       "Empty DataFrame\n",
       "Columns: [item, category, store_code, yearweek, sell_price]\n",
       "Index: []"
      ]
     },
     "execution_count": 124,
     "metadata": {},
     "output_type": "execute_result"
    }
   ],
   "source": [
    "infinite_mask = np.isinf(df_clean['yearweek'])\n",
    "\n",
    "df_clean[infinite_mask].head()"
   ]
  },
  {
   "cell_type": "code",
   "execution_count": 125,
   "metadata": {},
   "outputs": [
    {
     "name": "stderr",
     "output_type": "stream",
     "text": [
      "C:\\Users\\alexa\\AppData\\Local\\Temp\\ipykernel_13628\\2267496485.py:2: FutureWarning: Setting an item of incompatible dtype is deprecated and will raise in a future error of pandas. Value '['201328' '201329' '201330' ... '201615' '201616' '201617']' has dtype incompatible with float64, please explicitly cast to a compatible dtype first.\n",
      "  df_clean.loc[:,'yearweek'] = df_clean.loc[:,'yearweek'].astype(int).astype(str)\n",
      "C:\\Users\\alexa\\AppData\\Local\\Temp\\ipykernel_13628\\2267496485.py:4: SettingWithCopyWarning: \n",
      "A value is trying to be set on a copy of a slice from a DataFrame.\n",
      "Try using .loc[row_indexer,col_indexer] = value instead\n",
      "\n",
      "See the caveats in the documentation: https://pandas.pydata.org/pandas-docs/stable/user_guide/indexing.html#returning-a-view-versus-a-copy\n",
      "  df_clean['year'] = df_clean.loc[:,'yearweek'].str[:4] # Año\n",
      "C:\\Users\\alexa\\AppData\\Local\\Temp\\ipykernel_13628\\2267496485.py:5: SettingWithCopyWarning: \n",
      "A value is trying to be set on a copy of a slice from a DataFrame.\n",
      "Try using .loc[row_indexer,col_indexer] = value instead\n",
      "\n",
      "See the caveats in the documentation: https://pandas.pydata.org/pandas-docs/stable/user_guide/indexing.html#returning-a-view-versus-a-copy\n",
      "  df_clean['week'] = df_clean.loc[:,'yearweek'].str[4:6] # Semana\n",
      "C:\\Users\\alexa\\AppData\\Local\\Temp\\ipykernel_13628\\2267496485.py:8: SettingWithCopyWarning: \n",
      "A value is trying to be set on a copy of a slice from a DataFrame.\n",
      "Try using .loc[row_indexer,col_indexer] = value instead\n",
      "\n",
      "See the caveats in the documentation: https://pandas.pydata.org/pandas-docs/stable/user_guide/indexing.html#returning-a-view-versus-a-copy\n",
      "  df_clean['year-week'] = df_clean.loc[:,'year'] + '-W' + df_clean.loc[:,'week']\n"
     ]
    }
   ],
   "source": [
    "# Extraer el año y la semana\n",
    "df_clean.loc[:,'yearweek'] = df_clean.loc[:,'yearweek'].astype(int).astype(str)\n",
    "\n",
    "df_clean['year'] = df_clean.loc[:,'yearweek'].str[:4] # Año\n",
    "df_clean['week'] = df_clean.loc[:,'yearweek'].str[4:6] # Semana\n",
    "\n",
    "# Crear una nueva columna de fecha en el formato year-week\n",
    "df_clean['year-week'] = df_clean.loc[:,'year'] + '-W' + df_clean.loc[:,'week']\n",
    "\n",
    "# Convertir la nueva columna de string a un objeto datetime\n",
    "df_clean.loc[:,'year-week'] = pd.to_datetime(df_clean.loc[:,'year-week'] + '-1', format='%Y-W%W-%w')"
   ]
  },
  {
   "cell_type": "code",
   "execution_count": 126,
   "metadata": {},
   "outputs": [
    {
     "data": {
      "text/html": [
       "<div>\n",
       "<style scoped>\n",
       "    .dataframe tbody tr th:only-of-type {\n",
       "        vertical-align: middle;\n",
       "    }\n",
       "\n",
       "    .dataframe tbody tr th {\n",
       "        vertical-align: top;\n",
       "    }\n",
       "\n",
       "    .dataframe thead th {\n",
       "        text-align: right;\n",
       "    }\n",
       "</style>\n",
       "<table border=\"1\" class=\"dataframe\">\n",
       "  <thead>\n",
       "    <tr style=\"text-align: right;\">\n",
       "      <th></th>\n",
       "      <th>item</th>\n",
       "      <th>category</th>\n",
       "      <th>store_code</th>\n",
       "      <th>yearweek</th>\n",
       "      <th>sell_price</th>\n",
       "      <th>year</th>\n",
       "      <th>week</th>\n",
       "      <th>year-week</th>\n",
       "    </tr>\n",
       "  </thead>\n",
       "  <tbody>\n",
       "    <tr>\n",
       "      <th>0</th>\n",
       "      <td>ACCESORIES_1_001</td>\n",
       "      <td>ACCESORIES</td>\n",
       "      <td>NYC_1</td>\n",
       "      <td>201328</td>\n",
       "      <td>12.74</td>\n",
       "      <td>2013</td>\n",
       "      <td>28</td>\n",
       "      <td>2013-07-15 00:00:00</td>\n",
       "    </tr>\n",
       "    <tr>\n",
       "      <th>1</th>\n",
       "      <td>ACCESORIES_1_001</td>\n",
       "      <td>ACCESORIES</td>\n",
       "      <td>NYC_1</td>\n",
       "      <td>201329</td>\n",
       "      <td>12.74</td>\n",
       "      <td>2013</td>\n",
       "      <td>29</td>\n",
       "      <td>2013-07-22 00:00:00</td>\n",
       "    </tr>\n",
       "    <tr>\n",
       "      <th>2</th>\n",
       "      <td>ACCESORIES_1_001</td>\n",
       "      <td>ACCESORIES</td>\n",
       "      <td>NYC_1</td>\n",
       "      <td>201330</td>\n",
       "      <td>10.99</td>\n",
       "      <td>2013</td>\n",
       "      <td>30</td>\n",
       "      <td>2013-07-29 00:00:00</td>\n",
       "    </tr>\n",
       "    <tr>\n",
       "      <th>3</th>\n",
       "      <td>ACCESORIES_1_001</td>\n",
       "      <td>ACCESORIES</td>\n",
       "      <td>NYC_1</td>\n",
       "      <td>201331</td>\n",
       "      <td>10.99</td>\n",
       "      <td>2013</td>\n",
       "      <td>31</td>\n",
       "      <td>2013-08-05 00:00:00</td>\n",
       "    </tr>\n",
       "    <tr>\n",
       "      <th>4</th>\n",
       "      <td>ACCESORIES_1_001</td>\n",
       "      <td>ACCESORIES</td>\n",
       "      <td>NYC_1</td>\n",
       "      <td>201332</td>\n",
       "      <td>10.99</td>\n",
       "      <td>2013</td>\n",
       "      <td>32</td>\n",
       "      <td>2013-08-12 00:00:00</td>\n",
       "    </tr>\n",
       "  </tbody>\n",
       "</table>\n",
       "</div>"
      ],
      "text/plain": [
       "               item    category store_code yearweek  sell_price  year week  \\\n",
       "0  ACCESORIES_1_001  ACCESORIES      NYC_1   201328       12.74  2013   28   \n",
       "1  ACCESORIES_1_001  ACCESORIES      NYC_1   201329       12.74  2013   29   \n",
       "2  ACCESORIES_1_001  ACCESORIES      NYC_1   201330       10.99  2013   30   \n",
       "3  ACCESORIES_1_001  ACCESORIES      NYC_1   201331       10.99  2013   31   \n",
       "4  ACCESORIES_1_001  ACCESORIES      NYC_1   201332       10.99  2013   32   \n",
       "\n",
       "             year-week  \n",
       "0  2013-07-15 00:00:00  \n",
       "1  2013-07-22 00:00:00  \n",
       "2  2013-07-29 00:00:00  \n",
       "3  2013-08-05 00:00:00  \n",
       "4  2013-08-12 00:00:00  "
      ]
     },
     "execution_count": 126,
     "metadata": {},
     "output_type": "execute_result"
    }
   ],
   "source": [
    "df_clean.head()"
   ]
  },
  {
   "cell_type": "code",
   "execution_count": 127,
   "metadata": {},
   "outputs": [
    {
     "name": "stderr",
     "output_type": "stream",
     "text": [
      "C:\\Users\\alexa\\AppData\\Local\\Temp\\ipykernel_13628\\2750375105.py:1: FutureWarning: The behavior of value_counts with object-dtype is deprecated. In a future version, this will *not* perform dtype inference on the resulting index. To retain the old behavior, use `result.index = result.index.infer_objects()`\n",
      "  df_clean.describe(include='object')\n"
     ]
    },
    {
     "data": {
      "text/html": [
       "<div>\n",
       "<style scoped>\n",
       "    .dataframe tbody tr th:only-of-type {\n",
       "        vertical-align: middle;\n",
       "    }\n",
       "\n",
       "    .dataframe tbody tr th {\n",
       "        vertical-align: top;\n",
       "    }\n",
       "\n",
       "    .dataframe thead th {\n",
       "        text-align: right;\n",
       "    }\n",
       "</style>\n",
       "<table border=\"1\" class=\"dataframe\">\n",
       "  <thead>\n",
       "    <tr style=\"text-align: right;\">\n",
       "      <th></th>\n",
       "      <th>item</th>\n",
       "      <th>category</th>\n",
       "      <th>store_code</th>\n",
       "      <th>yearweek</th>\n",
       "      <th>year</th>\n",
       "      <th>week</th>\n",
       "      <th>year-week</th>\n",
       "    </tr>\n",
       "  </thead>\n",
       "  <tbody>\n",
       "    <tr>\n",
       "      <th>count</th>\n",
       "      <td>6721786</td>\n",
       "      <td>6721786</td>\n",
       "      <td>6721786</td>\n",
       "      <td>6721786</td>\n",
       "      <td>6721786</td>\n",
       "      <td>6721786</td>\n",
       "      <td>6721786</td>\n",
       "    </tr>\n",
       "    <tr>\n",
       "      <th>unique</th>\n",
       "      <td>3049</td>\n",
       "      <td>3</td>\n",
       "      <td>10</td>\n",
       "      <td>279</td>\n",
       "      <td>6</td>\n",
       "      <td>54</td>\n",
       "      <td>275</td>\n",
       "    </tr>\n",
       "    <tr>\n",
       "      <th>top</th>\n",
       "      <td>SUPERMARKET_3_587</td>\n",
       "      <td>SUPERMARKET</td>\n",
       "      <td>BOS_2</td>\n",
       "      <td>201608</td>\n",
       "      <td>2015</td>\n",
       "      <td>17</td>\n",
       "      <td>2015-12-28 00:00:00</td>\n",
       "    </tr>\n",
       "    <tr>\n",
       "      <th>freq</th>\n",
       "      <td>2790</td>\n",
       "      <td>3124861</td>\n",
       "      <td>689568</td>\n",
       "      <td>30490</td>\n",
       "      <td>1601188</td>\n",
       "      <td>145530</td>\n",
       "      <td>60948</td>\n",
       "    </tr>\n",
       "  </tbody>\n",
       "</table>\n",
       "</div>"
      ],
      "text/plain": [
       "                     item     category store_code yearweek     year     week  \\\n",
       "count             6721786      6721786    6721786  6721786  6721786  6721786   \n",
       "unique               3049            3         10      279        6       54   \n",
       "top     SUPERMARKET_3_587  SUPERMARKET      BOS_2   201608     2015       17   \n",
       "freq                 2790      3124861     689568    30490  1601188   145530   \n",
       "\n",
       "                  year-week  \n",
       "count               6721786  \n",
       "unique                  275  \n",
       "top     2015-12-28 00:00:00  \n",
       "freq                  60948  "
      ]
     },
     "execution_count": 127,
     "metadata": {},
     "output_type": "execute_result"
    }
   ],
   "source": [
    "df_clean.describe(include='object')"
   ]
  },
  {
   "cell_type": "markdown",
   "metadata": {},
   "source": [
    "### **Evolución Anual del Precio avg de SUPERMARKET_3_587**"
   ]
  },
  {
   "cell_type": "code",
   "execution_count": 128,
   "metadata": {},
   "outputs": [
    {
     "data": {
      "image/png": "[encoded data removed]",
      "text/plain": [
       "<Figure size 1000x600 with 1 Axes>"
      ]
     },
     "metadata": {},
     "output_type": "display_data"
    }
   ],
   "source": [
    "# Que hay que hacer para ver la evolucion del precio del\n",
    "# producto SUPERMARKET_3_587 para toda la empresa a lo largo de los años?\n",
    "\n",
    "# Filtrar el DataFrame para el producto SUPERMARKET_3_587\n",
    "df_filtered = df_clean[df_clean['item'] == 'SUPERMARKET_3_587']\n",
    "\n",
    "# Ordenar los datos por 'year-week'\n",
    "df_filtered = df_filtered.sort_values(by='year-week')\n",
    "\n",
    "# Calcular la media anual del precio de venta\n",
    "annual_avg_price = df_filtered.groupby('year')['sell_price'].mean().reset_index()\n",
    "\n",
    "# Graficar la evolución del precio anual\n",
    "annual_avg_price.plot(kind='bar', x='year', y='sell_price', figsize=(10, 6), title='Evolución Anual del Precio de SUPERMARKET_3_587')\n",
    "plt.xlabel('Año')\n",
    "plt.ylabel('Precio de Venta Promedio')\n",
    "plt.grid(True)\n",
    "plt.show()"
   ]
  },
  {
   "cell_type": "code",
   "execution_count": 139,
   "metadata": {},
   "outputs": [],
   "source": [
    "# Ranking productos precios más altos en el 2016\n",
    "\n",
    "# Filtrar el DataFrame para el 2016\n",
    "df_2016 = df_clean[df_clean['year'] == '2016']\n",
    "\n",
    "# Calcular la media del precio de venta\n",
    "avg_price_per_product = df_2016.groupby(['item'])['sell_price'].max().reset_index()"
   ]
  },
  {
   "cell_type": "code",
   "execution_count": 140,
   "metadata": {},
   "outputs": [
    {
     "data": {
      "text/html": [
       "<div>\n",
       "<style scoped>\n",
       "    .dataframe tbody tr th:only-of-type {\n",
       "        vertical-align: middle;\n",
       "    }\n",
       "\n",
       "    .dataframe tbody tr th {\n",
       "        vertical-align: top;\n",
       "    }\n",
       "\n",
       "    .dataframe thead th {\n",
       "        text-align: right;\n",
       "    }\n",
       "</style>\n",
       "<table border=\"1\" class=\"dataframe\">\n",
       "  <thead>\n",
       "    <tr style=\"text-align: right;\">\n",
       "      <th></th>\n",
       "      <th>item</th>\n",
       "      <th>sell_price</th>\n",
       "    </tr>\n",
       "  </thead>\n",
       "  <tbody>\n",
       "    <tr>\n",
       "      <th>0</th>\n",
       "      <td>ACCESORIES_1_001</td>\n",
       "      <td>11.15</td>\n",
       "    </tr>\n",
       "    <tr>\n",
       "      <th>1</th>\n",
       "      <td>ACCESORIES_1_002</td>\n",
       "      <td>5.28</td>\n",
       "    </tr>\n",
       "    <tr>\n",
       "      <th>2</th>\n",
       "      <td>ACCESORIES_1_003</td>\n",
       "      <td>3.95</td>\n",
       "    </tr>\n",
       "    <tr>\n",
       "      <th>3</th>\n",
       "      <td>ACCESORIES_1_004</td>\n",
       "      <td>6.17</td>\n",
       "    </tr>\n",
       "    <tr>\n",
       "      <th>4</th>\n",
       "      <td>ACCESORIES_1_005</td>\n",
       "      <td>3.83</td>\n",
       "    </tr>\n",
       "    <tr>\n",
       "      <th>5</th>\n",
       "      <td>ACCESORIES_1_006</td>\n",
       "      <td>1.33</td>\n",
       "    </tr>\n",
       "    <tr>\n",
       "      <th>6</th>\n",
       "      <td>ACCESORIES_1_007</td>\n",
       "      <td>10.48</td>\n",
       "    </tr>\n",
       "    <tr>\n",
       "      <th>7</th>\n",
       "      <td>ACCESORIES_1_008</td>\n",
       "      <td>0.64</td>\n",
       "    </tr>\n",
       "    <tr>\n",
       "      <th>8</th>\n",
       "      <td>ACCESORIES_1_009</td>\n",
       "      <td>2.35</td>\n",
       "    </tr>\n",
       "    <tr>\n",
       "      <th>9</th>\n",
       "      <td>ACCESORIES_1_010</td>\n",
       "      <td>3.95</td>\n",
       "    </tr>\n",
       "  </tbody>\n",
       "</table>\n",
       "</div>"
      ],
      "text/plain": [
       "               item  sell_price\n",
       "0  ACCESORIES_1_001       11.15\n",
       "1  ACCESORIES_1_002        5.28\n",
       "2  ACCESORIES_1_003        3.95\n",
       "3  ACCESORIES_1_004        6.17\n",
       "4  ACCESORIES_1_005        3.83\n",
       "5  ACCESORIES_1_006        1.33\n",
       "6  ACCESORIES_1_007       10.48\n",
       "7  ACCESORIES_1_008        0.64\n",
       "8  ACCESORIES_1_009        2.35\n",
       "9  ACCESORIES_1_010        3.95"
      ]
     },
     "execution_count": 140,
     "metadata": {},
     "output_type": "execute_result"
    }
   ],
   "source": [
    "avg_price_per_product.head(10)"
   ]
  },
  {
   "cell_type": "code",
   "execution_count": 141,
   "metadata": {},
   "outputs": [
    {
     "data": {
      "image/png": "[encoded data removed]",
      "text/plain": [
       "<Figure size 1000x600 with 1 Axes>"
      ]
     },
     "metadata": {},
     "output_type": "display_data"
    }
   ],
   "source": [
    "# Ordenar los productos por el precio promedio en orden descendente\n",
    "avg_price_per_product = avg_price_per_product.sort_values(by='sell_price', ascending=False)\n",
    "\n",
    "# Ranking productos con media de precio más alto para el 2016\n",
    "avg_price_per_product.head(10).plot(kind='barh', x='item', y='sell_price', figsize=(10, 6), title='Ranking productos por precio medio en 2016')\n",
    "plt.xlabel('Precio avg')\n",
    "plt.ylabel('Producto')\n",
    "plt.gca().invert_yaxis()\n",
    "#plt.grid(True)\n",
    "plt.show()"
   ]
  }
 ],
 "metadata": {
  "kernelspec": {
   "display_name": "Python 3",
   "language": "python",
   "name": "python3"
  },
  "language_info": {
   "codemirror_mode": {
    "name": "ipython",
    "version": 3
   },
   "file_extension": ".py",
   "mimetype": "text/x-python",
   "name": "python",
   "nbconvert_exporter": "python",
   "pygments_lexer": "ipython3",
   "version": "3.11.9"
  }
 },
 "nbformat": 4,
 "nbformat_minor": 2
}

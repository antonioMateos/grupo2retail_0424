{
 "cells": [
  {
   "cell_type": "markdown",
   "metadata": {},
   "source": [
    "# Librerias comunes"
   ]
  },
  {
   "cell_type": "code",
   "execution_count": null,
   "metadata": {},
   "outputs": [],
   "source": [
    "import pandas as pd\n",
    "import numpy as np\n",
    "import matplotlib.pyplot as plt\n",
    "import seaborn as sns"
   ]
  },
  {
   "cell_type": "markdown",
   "metadata": {},
   "source": [
    "# Importacion datos"
   ]
  },
  {
   "cell_type": "code",
   "execution_count": null,
   "metadata": {},
   "outputs": [],
   "source": [
    "from mongo_local_module import connect_to_db, get_collection_as_dataframe"
   ]
  },
  {
   "cell_type": "markdown",
   "metadata": {},
   "source": [
    "## Conectar a db"
   ]
  },
  {
   "cell_type": "code",
   "execution_count": null,
   "metadata": {},
   "outputs": [],
   "source": [
    "db_name = 'ds_market'         # Nombre de la base de datos\n",
    "\n",
    "# Conectar a la base de datos\n",
    "db = connect_to_db(db_name, local=True)"
   ]
  },
  {
   "cell_type": "markdown",
   "metadata": {},
   "source": [
    "## Obtener colecciones"
   ]
  },
  {
   "cell_type": "code",
   "execution_count": null,
   "metadata": {},
   "outputs": [],
   "source": [
    "# Diccionario colecciones\n",
    "db_collections = [\n",
    "    'calendar',\n",
    "    'items',\n",
    "    'prices',\n",
    "    'tiendas',\n",
    "    'departments',\n",
    "    'sales_main',\n",
    "    'weekly_sales',\n",
    "    'year_sales',\n",
    "    'day_sales'\n",
    "    ]"
   ]
  },
  {
   "cell_type": "code",
   "execution_count": null,
   "metadata": {},
   "outputs": [],
   "source": [
    "df_cal = get_collection_as_dataframe(db, 'calendar').drop(columns='_id')\n",
    "# Se añadieron columnas week y month a calendar para hacer cruces de datos mas faciles\n",
    "\n",
    "df_cal = df_cal.fillna('None') # event tiene NaN\n",
    "\n",
    "display(df_cal.head())"
   ]
  },
  {
   "cell_type": "code",
   "execution_count": null,
   "metadata": {},
   "outputs": [],
   "source": [
    "df_shops = get_collection_as_dataframe(db, 'tiendas').drop(columns='_id')\n",
    "df_items = get_collection_as_dataframe(db, 'items').drop(columns='_id')\n",
    "\n",
    "df_ws = get_collection_as_dataframe(db, 'weekly_sales').drop(columns='_id')\n",
    "\n",
    "# Añadimos eventos para no perder esa información\n",
    "# Crear un diccionario desde df_cal\n",
    "event_dict = df_cal.set_index('week')['event'].to_dict()\n",
    "\n",
    "# Añadir la columna 'event' a df_ws usando el método 'map'\n",
    "df_ws['event'] = df_ws['week'].map(event_dict)"
   ]
  },
  {
   "cell_type": "markdown",
   "metadata": {},
   "source": [
    "# Clustering productos"
   ]
  },
  {
   "cell_type": "markdown",
   "metadata": {},
   "source": [
    "## Creacion caracteristicas"
   ]
  },
  {
   "cell_type": "code",
   "execution_count": null,
   "metadata": {},
   "outputs": [],
   "source": [
    "import feature_creation_module as fcm"
   ]
  },
  {
   "cell_type": "code",
   "execution_count": null,
   "metadata": {},
   "outputs": [],
   "source": [
    "# DataFrames de entrada\n",
    "feature_matrix = fcm.create_features(df_items, df_shops, df_ws)\n",
    "\n",
    "# Renombrar características si es necesario\n",
    "feature_matrix_renamed = fcm.rename_features(feature_matrix)"
   ]
  },
  {
   "cell_type": "markdown",
   "metadata": {},
   "source": [
    "**Desviación estándar de las semanas de venta (`STD(sales.week)`):**  \n",
    "\n",
    "Esta métrica revela si las ventas de un producto están concentradas en ciertos períodos del año o dispersas. Un alto valor indica ventas distribuidas, mientras que un valor bajo sugiere un patrón estacional claro. Esto es útil para identificar productos estacionales.\n",
    "\n",
    "**Media de los años de venta (`MEAN(sales.year)`):**  \n",
    "\n",
    "La media de los años de venta muestra cuándo los productos han sido más populares, ayudando a detectar si una tendencia es reciente o si un producto está en declive. Esto facilita el agrupamiento de productos según su ciclo de vida y relevancia actual.\n",
    "\n",
    "**Media de las semanas de venta (`MEAN(sales.week)`):**  \n",
    "\n",
    "Esta métrica indica en qué parte del año un producto suele venderse más. Permite agrupar productos según su popularidad en diferentes épocas, ayudando a identificar patrones estacionales y planificar estrategias de ventas e inventario."
   ]
  },
  {
   "cell_type": "code",
   "execution_count": null,
   "metadata": {},
   "outputs": [],
   "source": [
    "feature_matrix_renamed.head(10)"
   ]
  },
  {
   "cell_type": "markdown",
   "metadata": {},
   "source": [
    "## Preprocesamiento de los datos"
   ]
  },
  {
   "cell_type": "code",
   "execution_count": null,
   "metadata": {},
   "outputs": [],
   "source": [
    "from sklearn.compose import ColumnTransformer\n",
    "from sklearn.preprocessing import RobustScaler, OneHotEncoder\n",
    "from sklearn.exceptions import NotFittedError\n",
    "\n",
    "def preprocess_features(feature_matrix):\n",
    "    try:\n",
    "        # Identificar columnas categóricas y numéricas\n",
    "        categorical_columns = feature_matrix.select_dtypes(include=['object', 'category']).columns.tolist()\n",
    "        numeric_columns = feature_matrix.select_dtypes(include=[float, int]).columns.tolist()\n",
    "\n",
    "        print(f'Cat cols: {len(categorical_columns)}')\n",
    "        print(f'Num cols: {len(numeric_columns)}')\n",
    "\n",
    "        # Definir la lista de transformadores\n",
    "        transformers = []\n",
    "        \n",
    "        # Agregar el RobustScaler para las columnas numéricas si existen\n",
    "        if numeric_columns:\n",
    "            transformers.append(('num', RobustScaler(), numeric_columns))\n",
    "        \n",
    "        # Agregar el OneHotEncoder para las columnas categóricas si existen\n",
    "        if categorical_columns:\n",
    "            transformers.append(('cat', OneHotEncoder(drop='first', sparse=False), categorical_columns))\n",
    "\n",
    "        # Crear el preprocesador con los transformadores existentes\n",
    "        preprocessor = ColumnTransformer(transformers)\n",
    "\n",
    "        # Aplicar las transformaciones utilizando el preprocesador\n",
    "        scaled_features = preprocessor.fit_transform(feature_matrix)\n",
    "\n",
    "        # Obtener el nombre de las columnas después de la transformación\n",
    "        all_columns = numeric_columns.copy()  # Empezamos con las columnas numéricas\n",
    "\n",
    "        if categorical_columns:\n",
    "            encoded_columns = preprocessor.named_transformers_['cat'].get_feature_names_out(categorical_columns)\n",
    "            all_columns += encoded_columns.tolist()\n",
    "\n",
    "        # Convertir el resultado de nuevo a un DataFrame\n",
    "        scaled_df = pd.DataFrame(scaled_features, columns=all_columns)\n",
    "\n",
    "        # Devolver el DataFrame transformado\n",
    "        return scaled_df\n",
    "    \n",
    "    except NotFittedError as e:\n",
    "        print(f\"Error: {e}\")\n",
    "        return None\n",
    "\n",
    "# Uso\n",
    "# scaled_df = preprocess_features(fm_selected_sales)"
   ]
  },
  {
   "cell_type": "code",
   "execution_count": null,
   "metadata": {},
   "outputs": [],
   "source": [
    "scaled_df = preprocess_features(feature_matrix_renamed)"
   ]
  },
  {
   "cell_type": "code",
   "execution_count": null,
   "metadata": {},
   "outputs": [],
   "source": [
    "scaled_df.head()"
   ]
  },
  {
   "cell_type": "markdown",
   "metadata": {},
   "source": [
    "## Kmeans"
   ]
  },
  {
   "cell_type": "code",
   "execution_count": null,
   "metadata": {},
   "outputs": [],
   "source": [
    "import kmeans_module as km_m"
   ]
  },
  {
   "cell_type": "markdown",
   "metadata": {},
   "source": [
    "### Elbow & Silouette"
   ]
  },
  {
   "cell_type": "code",
   "execution_count": null,
   "metadata": {},
   "outputs": [],
   "source": [
    "km_m.plot_elbow_silhouette(scaled_df, 20)"
   ]
  },
  {
   "cell_type": "code",
   "execution_count": null,
   "metadata": {},
   "outputs": [],
   "source": [
    "optimal_k = 10 # Segun silueta\n",
    "\n",
    "kmeans_model, feature_matrix_with_clusters = km_m.apply_kmeans_and_plot(optimal_k, scaled_df, feature_matrix_renamed)\n",
    "\n",
    "feature_matrix_with_clusters.head(5)"
   ]
  },
  {
   "cell_type": "markdown",
   "metadata": {},
   "source": [
    "### Analisis"
   ]
  },
  {
   "cell_type": "markdown",
   "metadata": {},
   "source": [
    "#### PCAs"
   ]
  },
  {
   "cell_type": "code",
   "execution_count": null,
   "metadata": {},
   "outputs": [],
   "source": [
    "pca_df = km_m.pca_visualization_2d(feature_matrix_with_clusters)\n",
    "\n",
    "display(pca_df.head())"
   ]
  },
  {
   "cell_type": "code",
   "execution_count": null,
   "metadata": {},
   "outputs": [],
   "source": [
    "km_m.pca_variance_plot(feature_matrix_with_clusters)"
   ]
  },
  {
   "cell_type": "markdown",
   "metadata": {},
   "source": [
    "#### Importancia caracteristicas"
   ]
  },
  {
   "cell_type": "code",
   "execution_count": null,
   "metadata": {},
   "outputs": [],
   "source": [
    "# Preprocesamos datos\n",
    "cluster_col='Cluster'\n",
    "cols_to_scale = feature_matrix_with_clusters.columns.tolist()\n",
    "df_clusters = feature_matrix_with_clusters[[cluster_col]].copy().reset_index(drop=True)\n",
    "cols_to_scale.remove(cluster_col) # Columna Objetivo\n",
    "preprocessed_df = preprocess_features(feature_matrix_with_clusters[cols_to_scale])\n",
    "\n",
    "# Combinar los DataFrames basándose en la columna 'Index'\n",
    "preprocessed_df = pd.concat([preprocessed_df, df_clusters], axis=1)\n",
    "\n",
    "clusters = kmeans_model.labels_\n",
    "\n",
    "# sales_importance_df = km_m.get_feature_importances(feature_matrix_with_clusters, clusters, imp_threshold=0.05)\n",
    "sales_importance_df = km_m.get_feature_importances(preprocessed_df, clusters, imp_threshold=0.05)\n",
    "\n",
    "display(sales_importance_df.head(10))"
   ]
  },
  {
   "cell_type": "markdown",
   "metadata": {},
   "source": [
    "### Dimension Redux"
   ]
  },
  {
   "cell_type": "code",
   "execution_count": null,
   "metadata": {},
   "outputs": [],
   "source": [
    "pca_df, importance_df = km_m.redux_dimensions_pca_and_cluster(preprocessed_df, n_clusters=optimal_k, n_components=1)"
   ]
  },
  {
   "cell_type": "code",
   "execution_count": null,
   "metadata": {},
   "outputs": [],
   "source": [
    "pca_df, importance_df = km_m.redux_dimensions_pca_and_cluster(preprocessed_df, n_clusters=optimal_k, n_components=2)"
   ]
  },
  {
   "cell_type": "markdown",
   "metadata": {},
   "source": [
    "## CLUSTERING MODULE"
   ]
  },
  {
   "cell_type": "code",
   "execution_count": null,
   "metadata": {},
   "outputs": [],
   "source": [
    "import clustering_module as cm"
   ]
  },
  {
   "cell_type": "code",
   "execution_count": null,
   "metadata": {},
   "outputs": [],
   "source": [
    "# K-means\n",
    "rf_model_kmeans, preprocessor_kmeans, pca_loadings_kmeans, pca_contributions_kmeans = cm.main(\n",
    "    feature_matrix_renamed, method='kmeans', n_clusters=4\n",
    ")"
   ]
  },
  {
   "cell_type": "code",
   "execution_count": null,
   "metadata": {},
   "outputs": [],
   "source": [
    "# K-means\n",
    "rf_model_kmeans, preprocessor_kmeans, pca_loadings_kmeans, pca_contributions_kmeans = cm.main(\n",
    "    preprocessed_df, method='kmeans', n_clusters=10\n",
    ")"
   ]
  },
  {
   "cell_type": "code",
   "execution_count": null,
   "metadata": {},
   "outputs": [],
   "source": [
    "# Ejemplo con DBSCAN\n",
    "rf_model_dbscan, preprocessor_dbscan, pca_loadings_dbscan, pca_contributions_dbscan = cm.main(\n",
    "    feature_matrix_renamed, method='dbscan', eps=0.5, min_samples=5\n",
    ")"
   ]
  }
 ],
 "metadata": {
  "kernelspec": {
   "display_name": "Python 3",
   "language": "python",
   "name": "python3"
  },
  "language_info": {
   "codemirror_mode": {
    "name": "ipython",
    "version": 3
   },
   "file_extension": ".py",
   "mimetype": "text/x-python",
   "name": "python",
   "nbconvert_exporter": "python",
   "pygments_lexer": "ipython3",
   "version": "3.11.9"
  }
 },
 "nbformat": 4,
 "nbformat_minor": 2
}

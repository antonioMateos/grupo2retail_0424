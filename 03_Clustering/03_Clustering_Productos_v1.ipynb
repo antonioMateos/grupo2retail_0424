{
 "cells": [
  {
   "cell_type": "markdown",
   "metadata": {},
   "source": [
    "# INIT"
   ]
  },
  {
   "cell_type": "markdown",
   "metadata": {},
   "source": [
    "## Librerias"
   ]
  },
  {
   "cell_type": "code",
   "execution_count": 2,
   "metadata": {},
   "outputs": [],
   "source": [
    "import pandas as pd\n",
    "import numpy as np\n",
    "import matplotlib.pyplot as plt\n",
    "import seaborn as sns"
   ]
  },
  {
   "cell_type": "markdown",
   "metadata": {},
   "source": [
    "## Importacion datos"
   ]
  },
  {
   "cell_type": "code",
   "execution_count": 4,
   "metadata": {},
   "outputs": [],
   "source": [
    "# Diccionario colecciones\n",
    "db_collections = [\n",
    "    'calendar',\n",
    "    'items',\n",
    "    'prices',\n",
    "    'tiendas',\n",
    "    'departments',\n",
    "    'sales_main',\n",
    "    'weekly_sales',\n",
    "    'year_sales',\n",
    "    'day_sales'\n",
    "    ]"
   ]
  },
  {
   "cell_type": "markdown",
   "metadata": {},
   "source": [
    "### Mongo DB"
   ]
  },
  {
   "cell_type": "code",
   "execution_count": 1,
   "metadata": {},
   "outputs": [
    {
     "data": {
      "text/plain": [
       "\"\\nfrom modules.mongo_local_module import connect_to_db, get_collection_as_dataframe\\n\\ndb_name = 'ds_market'         # Nombre de la base de datos\\n\\n# Conectar a la base de datos\\ndb = connect_to_db(db_name, local=True)\\n\\n# Obtener colecciones\\ndf_cal = get_collection_as_dataframe(db, 'calendar').drop(columns='_id')\\n# Se añadieron columnas week y month a calendar para hacer cruces de datos mas faciles\\n\\ndf_cal = df_cal.fillna('None') # event tiene NaN\\n\\n\\n\\ndf_shops = get_collection_as_dataframe(db, 'tiendas').drop(columns='_id')\\ndf_items = get_collection_as_dataframe(db, 'items').drop(columns='_id')\\n\\ndf_ws = get_collection_as_dataframe(db, 'weekly_sales').drop(columns='_id')\\n\\n# Añadimos eventos para no perder esa información\\n# Crear un diccionario desde df_cal\\nevent_dict = df_cal.set_index('week')['event'].to_dict()\\n\\n# Añadir la columna 'event' a df_ws usando el método 'map'\\ndf_ws['event'] = df_ws['week'].map(event_dict)\\n\""
      ]
     },
     "execution_count": 1,
     "metadata": {},
     "output_type": "execute_result"
    }
   ],
   "source": [
    "'''\n",
    "from modules.mongo_local_module import connect_to_db, get_collection_as_dataframe\n",
    "\n",
    "db_name = 'ds_market'         # Nombre de la base de datos\n",
    "\n",
    "# Conectar a la base de datos\n",
    "db = connect_to_db(db_name, local=True)\n",
    "\n",
    "# Obtener colecciones\n",
    "df_cal = get_collection_as_dataframe(db, 'calendar').drop(columns='_id')\n",
    "# Se añadieron columnas week y month a calendar para hacer cruces de datos mas faciles\n",
    "\n",
    "df_cal = df_cal.fillna('None') # event tiene NaN\n",
    "\n",
    "\n",
    "\n",
    "df_shops = get_collection_as_dataframe(db, 'tiendas').drop(columns='_id')\n",
    "df_items = get_collection_as_dataframe(db, 'items').drop(columns='_id')\n",
    "\n",
    "df_ws = get_collection_as_dataframe(db, 'weekly_sales').drop(columns='_id')\n",
    "\n",
    "# Añadimos eventos para no perder esa información\n",
    "# Crear un diccionario desde df_cal\n",
    "event_dict = df_cal.set_index('week')['event'].to_dict()\n",
    "\n",
    "# Añadir la columna 'event' a df_ws usando el método 'map'\n",
    "df_ws['event'] = df_ws['week'].map(event_dict)\n",
    "'''"
   ]
  },
  {
   "cell_type": "markdown",
   "metadata": {},
   "source": [
    "### CSVs"
   ]
  },
  {
   "cell_type": "code",
   "execution_count": 1,
   "metadata": {},
   "outputs": [],
   "source": [
    "from modules.get_data import get_data"
   ]
  },
  {
   "cell_type": "code",
   "execution_count": 2,
   "metadata": {},
   "outputs": [],
   "source": [
    "df_cal = get_data('exp_calendar.csv')\n",
    "df_items = get_data('exp_items.csv')\n",
    "df_shops = get_data('exp_shops.csv')\n",
    "df_ws = get_data('exp_weekly_sales.csv')"
   ]
  },
  {
   "cell_type": "code",
   "execution_count": 3,
   "metadata": {},
   "outputs": [
    {
     "data": {
      "text/html": [
       "<div>\n",
       "<style scoped>\n",
       "    .dataframe tbody tr th:only-of-type {\n",
       "        vertical-align: middle;\n",
       "    }\n",
       "\n",
       "    .dataframe tbody tr th {\n",
       "        vertical-align: top;\n",
       "    }\n",
       "\n",
       "    .dataframe thead th {\n",
       "        text-align: right;\n",
       "    }\n",
       "</style>\n",
       "<table border=\"1\" class=\"dataframe\">\n",
       "  <thead>\n",
       "    <tr style=\"text-align: right;\">\n",
       "      <th></th>\n",
       "      <th>fecha</th>\n",
       "      <th>event</th>\n",
       "    </tr>\n",
       "  </thead>\n",
       "  <tbody>\n",
       "    <tr>\n",
       "      <th>0</th>\n",
       "      <td>2011-02-06</td>\n",
       "      <td>SuperBowl</td>\n",
       "    </tr>\n",
       "    <tr>\n",
       "      <th>1</th>\n",
       "      <td>2011-08-01</td>\n",
       "      <td>Ramadan starts</td>\n",
       "    </tr>\n",
       "    <tr>\n",
       "      <th>2</th>\n",
       "      <td>2011-11-24</td>\n",
       "      <td>Thanksgiving</td>\n",
       "    </tr>\n",
       "    <tr>\n",
       "      <th>3</th>\n",
       "      <td>2012-01-01</td>\n",
       "      <td>NewYear</td>\n",
       "    </tr>\n",
       "    <tr>\n",
       "      <th>4</th>\n",
       "      <td>2012-02-05</td>\n",
       "      <td>SuperBowl</td>\n",
       "    </tr>\n",
       "  </tbody>\n",
       "</table>\n",
       "</div>"
      ],
      "text/plain": [
       "        fecha           event\n",
       "0  2011-02-06       SuperBowl\n",
       "1  2011-08-01  Ramadan starts\n",
       "2  2011-11-24    Thanksgiving\n",
       "3  2012-01-01         NewYear\n",
       "4  2012-02-05       SuperBowl"
      ]
     },
     "metadata": {},
     "output_type": "display_data"
    },
    {
     "data": {
      "text/html": [
       "<div>\n",
       "<style scoped>\n",
       "    .dataframe tbody tr th:only-of-type {\n",
       "        vertical-align: middle;\n",
       "    }\n",
       "\n",
       "    .dataframe tbody tr th {\n",
       "        vertical-align: top;\n",
       "    }\n",
       "\n",
       "    .dataframe thead th {\n",
       "        text-align: right;\n",
       "    }\n",
       "</style>\n",
       "<table border=\"1\" class=\"dataframe\">\n",
       "  <thead>\n",
       "    <tr style=\"text-align: right;\">\n",
       "      <th></th>\n",
       "      <th>item</th>\n",
       "      <th>category</th>\n",
       "      <th>department</th>\n",
       "    </tr>\n",
       "  </thead>\n",
       "  <tbody>\n",
       "    <tr>\n",
       "      <th>0</th>\n",
       "      <td>ACCESORIES_1_001</td>\n",
       "      <td>ACCESORIES</td>\n",
       "      <td>ACCESORIES_1</td>\n",
       "    </tr>\n",
       "    <tr>\n",
       "      <th>1</th>\n",
       "      <td>ACCESORIES_1_002</td>\n",
       "      <td>ACCESORIES</td>\n",
       "      <td>ACCESORIES_1</td>\n",
       "    </tr>\n",
       "    <tr>\n",
       "      <th>2</th>\n",
       "      <td>ACCESORIES_1_003</td>\n",
       "      <td>ACCESORIES</td>\n",
       "      <td>ACCESORIES_1</td>\n",
       "    </tr>\n",
       "    <tr>\n",
       "      <th>3</th>\n",
       "      <td>ACCESORIES_1_004</td>\n",
       "      <td>ACCESORIES</td>\n",
       "      <td>ACCESORIES_1</td>\n",
       "    </tr>\n",
       "    <tr>\n",
       "      <th>4</th>\n",
       "      <td>ACCESORIES_1_005</td>\n",
       "      <td>ACCESORIES</td>\n",
       "      <td>ACCESORIES_1</td>\n",
       "    </tr>\n",
       "  </tbody>\n",
       "</table>\n",
       "</div>"
      ],
      "text/plain": [
       "               item    category    department\n",
       "0  ACCESORIES_1_001  ACCESORIES  ACCESORIES_1\n",
       "1  ACCESORIES_1_002  ACCESORIES  ACCESORIES_1\n",
       "2  ACCESORIES_1_003  ACCESORIES  ACCESORIES_1\n",
       "3  ACCESORIES_1_004  ACCESORIES  ACCESORIES_1\n",
       "4  ACCESORIES_1_005  ACCESORIES  ACCESORIES_1"
      ]
     },
     "metadata": {},
     "output_type": "display_data"
    },
    {
     "data": {
      "text/html": [
       "<div>\n",
       "<style scoped>\n",
       "    .dataframe tbody tr th:only-of-type {\n",
       "        vertical-align: middle;\n",
       "    }\n",
       "\n",
       "    .dataframe tbody tr th {\n",
       "        vertical-align: top;\n",
       "    }\n",
       "\n",
       "    .dataframe thead th {\n",
       "        text-align: right;\n",
       "    }\n",
       "</style>\n",
       "<table border=\"1\" class=\"dataframe\">\n",
       "  <thead>\n",
       "    <tr style=\"text-align: right;\">\n",
       "      <th></th>\n",
       "      <th>store_code</th>\n",
       "      <th>region</th>\n",
       "      <th>store</th>\n",
       "    </tr>\n",
       "  </thead>\n",
       "  <tbody>\n",
       "    <tr>\n",
       "      <th>0</th>\n",
       "      <td>NYC_1</td>\n",
       "      <td>New York</td>\n",
       "      <td>Greenwich_Village</td>\n",
       "    </tr>\n",
       "    <tr>\n",
       "      <th>1</th>\n",
       "      <td>NYC_2</td>\n",
       "      <td>New York</td>\n",
       "      <td>Harlem</td>\n",
       "    </tr>\n",
       "    <tr>\n",
       "      <th>2</th>\n",
       "      <td>NYC_3</td>\n",
       "      <td>New York</td>\n",
       "      <td>Tribeca</td>\n",
       "    </tr>\n",
       "    <tr>\n",
       "      <th>3</th>\n",
       "      <td>NYC_4</td>\n",
       "      <td>New York</td>\n",
       "      <td>Brooklyn</td>\n",
       "    </tr>\n",
       "    <tr>\n",
       "      <th>4</th>\n",
       "      <td>BOS_1</td>\n",
       "      <td>Boston</td>\n",
       "      <td>South_End</td>\n",
       "    </tr>\n",
       "  </tbody>\n",
       "</table>\n",
       "</div>"
      ],
      "text/plain": [
       "  store_code    region              store\n",
       "0      NYC_1  New York  Greenwich_Village\n",
       "1      NYC_2  New York             Harlem\n",
       "2      NYC_3  New York            Tribeca\n",
       "3      NYC_4  New York           Brooklyn\n",
       "4      BOS_1    Boston          South_End"
      ]
     },
     "metadata": {},
     "output_type": "display_data"
    },
    {
     "data": {
      "text/html": [
       "<div>\n",
       "<style scoped>\n",
       "    .dataframe tbody tr th:only-of-type {\n",
       "        vertical-align: middle;\n",
       "    }\n",
       "\n",
       "    .dataframe tbody tr th {\n",
       "        vertical-align: top;\n",
       "    }\n",
       "\n",
       "    .dataframe thead th {\n",
       "        text-align: right;\n",
       "    }\n",
       "</style>\n",
       "<table border=\"1\" class=\"dataframe\">\n",
       "  <thead>\n",
       "    <tr style=\"text-align: right;\">\n",
       "      <th></th>\n",
       "      <th>item</th>\n",
       "      <th>store_code</th>\n",
       "      <th>ejercicio</th>\n",
       "      <th>semana</th>\n",
       "      <th>unidades</th>\n",
       "      <th>sell_price</th>\n",
       "      <th>cifra</th>\n",
       "    </tr>\n",
       "  </thead>\n",
       "  <tbody>\n",
       "    <tr>\n",
       "      <th>0</th>\n",
       "      <td>ACCESORIES_1_004</td>\n",
       "      <td>BOS_1</td>\n",
       "      <td>2011</td>\n",
       "      <td>4</td>\n",
       "      <td>3.0</td>\n",
       "      <td>5.77</td>\n",
       "      <td>17.32</td>\n",
       "    </tr>\n",
       "    <tr>\n",
       "      <th>1</th>\n",
       "      <td>ACCESORIES_1_004</td>\n",
       "      <td>BOS_2</td>\n",
       "      <td>2011</td>\n",
       "      <td>4</td>\n",
       "      <td>8.0</td>\n",
       "      <td>5.77</td>\n",
       "      <td>46.18</td>\n",
       "    </tr>\n",
       "    <tr>\n",
       "      <th>2</th>\n",
       "      <td>ACCESORIES_1_004</td>\n",
       "      <td>NYC_2</td>\n",
       "      <td>2011</td>\n",
       "      <td>4</td>\n",
       "      <td>9.0</td>\n",
       "      <td>5.77</td>\n",
       "      <td>51.95</td>\n",
       "    </tr>\n",
       "    <tr>\n",
       "      <th>3</th>\n",
       "      <td>ACCESORIES_1_004</td>\n",
       "      <td>NYC_4</td>\n",
       "      <td>2011</td>\n",
       "      <td>4</td>\n",
       "      <td>2.0</td>\n",
       "      <td>5.77</td>\n",
       "      <td>11.54</td>\n",
       "    </tr>\n",
       "    <tr>\n",
       "      <th>4</th>\n",
       "      <td>ACCESORIES_1_004</td>\n",
       "      <td>PHI_1</td>\n",
       "      <td>2011</td>\n",
       "      <td>4</td>\n",
       "      <td>3.0</td>\n",
       "      <td>5.77</td>\n",
       "      <td>17.32</td>\n",
       "    </tr>\n",
       "  </tbody>\n",
       "</table>\n",
       "</div>"
      ],
      "text/plain": [
       "               item store_code  ejercicio  semana  unidades  sell_price  cifra\n",
       "0  ACCESORIES_1_004      BOS_1       2011       4       3.0        5.77  17.32\n",
       "1  ACCESORIES_1_004      BOS_2       2011       4       8.0        5.77  46.18\n",
       "2  ACCESORIES_1_004      NYC_2       2011       4       9.0        5.77  51.95\n",
       "3  ACCESORIES_1_004      NYC_4       2011       4       2.0        5.77  11.54\n",
       "4  ACCESORIES_1_004      PHI_1       2011       4       3.0        5.77  17.32"
      ]
     },
     "metadata": {},
     "output_type": "display_data"
    }
   ],
   "source": [
    "display(df_cal.head())\n",
    "display(df_items.head())\n",
    "display(df_shops.head())\n",
    "display(df_ws.head())"
   ]
  },
  {
   "cell_type": "markdown",
   "metadata": {},
   "source": [
    "# **Creacion caracteristicas**\n",
    "___\n",
    "___  \n",
    "  \n",
    "Creamos las caracteristicas generales y luego filtraremos para cada supuesto."
   ]
  },
  {
   "cell_type": "code",
   "execution_count": null,
   "metadata": {},
   "outputs": [],
   "source": [
    "from modules import feature_creation_module as fcm"
   ]
  },
  {
   "cell_type": "markdown",
   "metadata": {},
   "source": [
    "Resumen de las **Primitivas de Agregación** y **Transformación**:\n",
    "\n",
    "**Primitivas de Agregación:**\n",
    "\n",
    "1\\. **`sum`**: \n",
    "\n",
    "   - **Por qué la usamos**: Nos permite calcular el total de unidades vendidas y los ingresos (`raw_earn`) generados por cada producto.\n",
    "\n",
    "   - **Qué esperamos obtener**: Queremos conocer cuáles productos generan mayores ingresos o tienen mayores volúmenes de venta en total, lo cual es un indicador de rendimiento absoluto.\n",
    "\n",
    "2\\. **`mean`**:\n",
    "\n",
    "   - **Por qué la usamos**: El promedio de ventas (`units`) y el precio de venta (`sell_price`) por semana nos ayuda a ver qué tan consistente es el rendimiento de un producto a lo largo del tiempo.\n",
    "\n",
    "   - **Qué esperamos obtener**: Identificar productos con un rendimiento constante o con precios estables, lo cual puede ser útil para determinar qué productos son menos volátiles en términos de ventas o precio.\n",
    "\n",
    "3\\. **`std`**:\n",
    "\n",
    "   - **Por qué la usamos**: La desviación estándar mide la variabilidad en ventas y en ingresos. Es útil para entender la estabilidad o fluctuación de los productos.\n",
    "\n",
    "   - **Qué esperamos obtener**: Productos con alta desviación estándar tienen ventas más impredecibles, mientras que aquellos con baja desviación estándar son más consistentes. Esto ayuda a identificar productos estables frente a aquellos que experimentan picos o caídas drásticas.\n",
    "\n",
    "4\\. **`count`**:\n",
    "\n",
    "   - **Por qué la usamos**: Nos ayuda a saber en cuántas tiendas se vendió cada producto.\n",
    "\n",
    "   - **Qué esperamos obtener**: Determina la penetración del producto en el mercado. Productos que se venden en más tiendas podrían ser más populares o estar más ampliamente disponibles.\n",
    "\n",
    "5\\. **`max`**:\n",
    "\n",
    "   - **Por qué la usamos**: Queremos conocer el valor máximo de ventas (`units`) o ingresos (`raw_earn`) de un producto en una semana.\n",
    "\n",
    "   - **Qué esperamos obtener**: Identificar productos que hayan tenido semanas excepcionales de ventas o ingresos, lo que puede indicar eventos o promociones que impulsaron el rendimiento.\n",
    "\n",
    "---\n",
    "\n",
    "**Primitivas de Transformación:**\n",
    "\n",
    "1\\. **`divide_numeric`**:\n",
    "\n",
    "   - **Por qué la usamos**: Calcula relaciones como `units/sell_price`, lo que nos permite obtener el ratio de unidades vendidas por cada unidad de precio.\n",
    "\n",
    "   - **Qué esperamos obtener**: Nos da una idea de cómo varía la relación entre el precio y las ventas. Por ejemplo, productos que venden muchas unidades a precios más bajos podrían comportarse de manera diferente a aquellos que venden menos unidades a precios altos.\n",
    "\n",
    "2\\. **`percentile`**:\n",
    "\n",
    "   - **Por qué la usamos**: Nos permite calcular el percentil de un valor en una distribución (por ejemplo, cómo se comparan las ventas de un producto con el resto).\n",
    "\n",
    "   - **Qué esperamos obtener**: Clasificar productos según su rendimiento en comparación con los demás. Esto nos ayuda a identificar cuáles están en los niveles más altos o bajos de rendimiento relativo.\n",
    "\n",
    "---\n",
    "\n",
    "¿Qué esperamos obtener con estas características?\n",
    "\n",
    "1\\. **Identificación de patrones de ventas**: \n",
    "\n",
    "   - Queremos descubrir qué productos se venden de forma constante (baja variabilidad) frente a aquellos que son más volátiles (alta desviación estándar en ventas o ingresos).\n",
    "\n",
    "2\\. **Estudio del precio frente a las ventas**:\n",
    "\n",
    "   - Al calcular ratios como `units/sell_price`, buscamos entender si el precio influye en el volumen de ventas. Productos con un bajo precio podrían compensar con altos volúmenes de venta y viceversa.\n",
    "\n",
    "En resumen, estas características nos ayudarán a realizar un **clustering más efectivo**, diferenciando productos con base en su rendimiento en ventas, su consistencia, su presencia en distintas tiendas y cómo reaccionan a factores como el precio o el tiempo."
   ]
  },
  {
   "cell_type": "code",
   "execution_count": null,
   "metadata": {},
   "outputs": [],
   "source": [
    "# # Creacion caracteristicas para productos basadas en ventas/performance\n",
    "# fc_config = {\n",
    "#     'target_df': 'items',  # Objetivo: productos\n",
    "#     'agg_primitives': [\n",
    "#         'sum',      # Total de ventas, ingresos\n",
    "#         'mean',     # Promedio de ventas, precio, ingresos\n",
    "#         'std',      # Variabilidad en ventas e ingresos\n",
    "#         'count'     # Total de tiendas donde se vendió\n",
    "#     ],  \n",
    "#     'trans_primitives': [],\n",
    "#     'max_depth': 2\n",
    "# }\n",
    "\n",
    "# Creamos caracteristicas a lo bruto para filtrar más tarde\n",
    "# fc_config = {\n",
    "#     'target_df': 'items',  # Queremos generar características sobre los productos (items)\n",
    "#     'agg_primitives': [\n",
    "#         'sum',       # Total de ventas, ingresos\n",
    "#         'mean',      # Promedio de ventas, precio, ingresos\n",
    "#         'std',       # Variabilidad en ventas e ingresos\n",
    "#         'count',     # Total de tiendas donde se vendió\n",
    "#         'max',       # Máximo para calcular ventas máximas en una tienda\n",
    "#     ],\n",
    "#     'trans_primitives': [\n",
    "#         # 'divide_numeric',  # Ratio de ventas por ingreso, proporción de disponibilidad\n",
    "#         'percentile'       # Porcentaje de ventas respecto a la tienda de mayor rendimiento\n",
    "#     ],\n",
    "#     'max_depth': 2\n",
    "# }\n",
    "fc_config = {\n",
    "    'target_df': 'sales',  # Nombre del DataFrame objetivo\n",
    "    'agg_primitives': [\n",
    "        'min',               # Mínimo\n",
    "        'max',               # Máximo\n",
    "        'mean',              # Promedio\n",
    "        'std',               # Desviación estándar\n",
    "        'sum',               # Suma\n",
    "        'count'              # Totales\n",
    "    ],\n",
    "    'trans_primitives': [\n",
    "        # 'divide_numeric',    # División entre características numéricas -> GENERA MUCHAS!!!\n",
    "        'percentile'       # Porcentaje de ventas respecto a la tienda de mayor rendimiento\n",
    "    ],\n",
    "    'max_depth': 2         # Profundidad máxima de la generación de características\n",
    "}\n",
    "\n",
    "\n",
    "feature_matrix, feature_defs = fcm.create_features(df_items, df_shops, df_ws, fc_config)"
   ]
  },
  {
   "cell_type": "code",
   "execution_count": null,
   "metadata": {},
   "outputs": [],
   "source": [
    "len(feature_defs)"
   ]
  },
  {
   "cell_type": "code",
   "execution_count": null,
   "metadata": {},
   "outputs": [],
   "source": [
    "# Revision definiciones caracteristicas creadas\n",
    "fcm.get_features_descriptions(feature_defs)"
   ]
  },
  {
   "cell_type": "markdown",
   "metadata": {},
   "source": [
    "# **PRODUCTOS: PERFORMANCE**\n",
    "___\n",
    "___"
   ]
  },
  {
   "cell_type": "markdown",
   "metadata": {},
   "source": [
    "__Filtrado caracteristicas usando liberira FeatureTools__\n",
    "**Feature encode** (codifica categorical)\n",
    "\n",
    "> https://featuretools.alteryx.com/en/stable/api_reference.html#feature-encoding\n",
    "\n",
    "**Feature selection**\n",
    "\n",
    "> https://featuretools.alteryx.com/en/stable/api_reference.html#feature-selection  \n",
    "  \n",
    "- *remove_low_information_features(feature_matrix)*  \n",
    "Select features that have at least 2 unique values and that are not all null\n",
    "\n",
    "- *remove_highly_correlated_features(feature_matrix)*  \n",
    "Removes columns in feature matrix that are highly correlated with another column.\n",
    "\n",
    "- *remove_highly_null_features(feature_matrix)*  \n",
    "Removes columns from a feature matrix that have higher than a set threshold of null values.\n",
    "\n",
    "- *remove_single_value_features(feature_matrix)*  \n",
    "Removes columns in feature matrix where all the values are the same."
   ]
  },
  {
   "cell_type": "code",
   "execution_count": null,
   "metadata": {},
   "outputs": [],
   "source": [
    "# Aplicar filtros a las caracteristicas creadas\n",
    "# Remove low information, highly correlated, highly null and single value features\n",
    "filtered_feature_matrix = fcm.filter_feature_matrix(feature_matrix)\n",
    "\n",
    "display(filtered_feature_matrix.head(5))"
   ]
  },
  {
   "cell_type": "code",
   "execution_count": 51,
   "metadata": {},
   "outputs": [],
   "source": [
    "# Seleccionar y renombrar características relevantes para el clustering de productos ventas/performance\n",
    "# selected_features = {\n",
    "#     'COUNT(sales)': 'num_sales',                   \n",
    "#     'SUM(sales.units)': 'total_units_sold',        \n",
    "#     'SUM(sales.raw_earn)': 'total_revenue',        \n",
    "#     'MEAN(sales.sell_price)': 'avg_sell_price',    \n",
    "#     'STD(sales.sell_price)': 'std_sell_price',     \n",
    "#     'STD(sales.units)': 'std_units_sold',          \n",
    "#     'MEAN(sales.units)': 'avg_units_per_week',     \n",
    "#     'MEAN(sales.week)': 'avg_week',                \n",
    "#     'STD(sales.week)': 'std_week',                 \n",
    "#     'MEAN(sales.year)': 'avg_year'                 \n",
    "# }\n",
    "\n",
    "selected_features = {\n",
    "    'COUNT(sales)': 'num_sales',                      # Número total de ventas\n",
    "    'SUM(sales.raw_earn)': 'total_revenue',           # Suma de las ganancias brutas\n",
    "    'MEAN(sales.sell_price)': 'avg_sell_price',       # Precio de venta promedio\n",
    "    'MAX(sales.units)': 'max_units_sold',             # Máximo número de unidades vendidas\n",
    "    'STD(sales.raw_earn)': 'std_revenue',             # Desviación estándar de las ganancias brutas\n",
    "    'STD(sales.sell_price)': 'std_sell_price',        # Desviación estándar del precio de venta\n",
    "    'PERCENTILE(MAX(sales.raw_earn))': 'percentile_max_revenue', # Percentil del máximo de ganancias brutas\n",
    "    'PERCENTILE(MEAN(sales.sell_price))': 'percentile_avg_sell_price' # Percentil del promedio del precio de venta\n",
    "}\n",
    "\n",
    "feature_matrix_selected = fcm.select_features(feature_matrix, selected_features)"
   ]
  },
  {
   "cell_type": "code",
   "execution_count": 52,
   "metadata": {},
   "outputs": [],
   "source": [
    "# Renombrar características si es necesario\n",
    "# feature_matrix_renamed = fcm.rename_features(filtered_feature_matrix, selected_features) # Hemos filtrado antes de renombrar\n",
    "feature_matrix_renamed = fcm.rename_features(feature_matrix_selected, selected_features)"
   ]
  },
  {
   "cell_type": "code",
   "execution_count": null,
   "metadata": {},
   "outputs": [],
   "source": [
    "feature_matrix_renamed.head(5)"
   ]
  },
  {
   "cell_type": "markdown",
   "metadata": {},
   "source": [
    "## Preprocesamiento de los datos"
   ]
  },
  {
   "cell_type": "code",
   "execution_count": 54,
   "metadata": {},
   "outputs": [],
   "source": [
    "from modules import preprocessing_module as pm"
   ]
  },
  {
   "cell_type": "code",
   "execution_count": null,
   "metadata": {},
   "outputs": [],
   "source": [
    "scaled_df = pm.preprocess_features(feature_matrix_renamed)"
   ]
  },
  {
   "cell_type": "code",
   "execution_count": null,
   "metadata": {},
   "outputs": [],
   "source": [
    "scaled_df.head()"
   ]
  },
  {
   "cell_type": "markdown",
   "metadata": {},
   "source": [
    "## Kmeans"
   ]
  },
  {
   "cell_type": "code",
   "execution_count": 57,
   "metadata": {},
   "outputs": [],
   "source": [
    "from modules import kmeans_module as km_m"
   ]
  },
  {
   "cell_type": "markdown",
   "metadata": {},
   "source": [
    "### Elbow & Silouette"
   ]
  },
  {
   "cell_type": "code",
   "execution_count": null,
   "metadata": {},
   "outputs": [],
   "source": [
    "km_m.plot_elbow_silhouette(scaled_df, 30)"
   ]
  },
  {
   "cell_type": "code",
   "execution_count": null,
   "metadata": {},
   "outputs": [],
   "source": [
    "# Apreciamos varias opciones 5 y 10\n",
    "optimal_k = 5 \n",
    "\n",
    "kmeans_model, feature_matrix_with_clusters = km_m.apply_kmeans_and_plot(optimal_k, scaled_df, feature_matrix_renamed)\n",
    "\n",
    "feature_matrix_with_clusters.head(5)"
   ]
  },
  {
   "cell_type": "code",
   "execution_count": null,
   "metadata": {},
   "outputs": [],
   "source": [
    "feature_matrix_with_clusters.shape"
   ]
  },
  {
   "cell_type": "markdown",
   "metadata": {},
   "source": [
    "### Analisis"
   ]
  },
  {
   "cell_type": "markdown",
   "metadata": {},
   "source": [
    "#### PCAs"
   ]
  },
  {
   "cell_type": "code",
   "execution_count": null,
   "metadata": {},
   "outputs": [],
   "source": [
    "pca_df = km_m.pca_visualization_2d(feature_matrix_with_clusters)\n",
    "\n",
    "display(pca_df.head())"
   ]
  },
  {
   "cell_type": "code",
   "execution_count": null,
   "metadata": {},
   "outputs": [],
   "source": [
    "explained_variance = km_m.pca_variance_plot(feature_matrix_with_clusters, 1)\n",
    "\n",
    "display(explained_variance)"
   ]
  },
  {
   "cell_type": "markdown",
   "metadata": {},
   "source": [
    "#### Importancia caracteristicas"
   ]
  },
  {
   "cell_type": "code",
   "execution_count": null,
   "metadata": {},
   "outputs": [],
   "source": [
    "# Preprocesamos datos\n",
    "cluster_col='Cluster'\n",
    "cols_to_scale = feature_matrix_with_clusters.columns.tolist()\n",
    "df_clusters = feature_matrix_with_clusters[[cluster_col]].copy().reset_index(drop=True)\n",
    "cols_to_scale.remove(cluster_col) # Columna Objetivo\n",
    "preprocessed_df = pm.preprocess_features(feature_matrix_with_clusters[cols_to_scale])\n",
    "\n",
    "# Combinar los DataFrames basándose en la columna 'Index'\n",
    "preprocessed_df = pd.concat([preprocessed_df, df_clusters], axis=1)\n",
    "\n",
    "clusters = kmeans_model.labels_\n",
    "\n",
    "# sales_importance_df = km_m.get_feature_importances(feature_matrix_with_clusters, clusters, imp_threshold=0.05)\n",
    "sales_importance_df = km_m.get_feature_importances(preprocessed_df, clusters, imp_threshold=0.05)\n",
    "\n",
    "display(sales_importance_df.head(10))"
   ]
  },
  {
   "cell_type": "markdown",
   "metadata": {},
   "source": [
    "### Dimension Redux"
   ]
  },
  {
   "cell_type": "code",
   "execution_count": null,
   "metadata": {},
   "outputs": [],
   "source": [
    "pca_df, importance_df = km_m.redux_dimensions_pca_and_cluster(preprocessed_df, n_clusters=optimal_k, n_components=1)"
   ]
  },
  {
   "cell_type": "code",
   "execution_count": null,
   "metadata": {},
   "outputs": [],
   "source": [
    "# El segundo componente es residual\n",
    "pca_df, importance_df = km_m.redux_dimensions_pca_and_cluster(preprocessed_df, n_clusters=optimal_k, n_components=2)"
   ]
  },
  {
   "cell_type": "markdown",
   "metadata": {},
   "source": [
    "## Descripcion de los clusters"
   ]
  },
  {
   "cell_type": "code",
   "execution_count": null,
   "metadata": {},
   "outputs": [],
   "source": [
    "# Ejecutar PCA y clustering\n",
    "# optimal_k = 10\n",
    "n_components = 1\n",
    "df_with_pca, importance_df = km_m.pca_and_cluster(scaled_df, n_clusters=optimal_k, n_components=n_components)\n",
    "\n",
    "# Mostrar el DataFrame con PCA y clustering\n",
    "display(df_with_pca.head(5))\n",
    "\n",
    "# Graficar la cantidad de items por cluster\n",
    "# km_m.plot_items_per_cluster(df_with_pca)\n",
    "show_clusters = km_m.plot_cluster_sizes(df_with_pca)"
   ]
  },
  {
   "cell_type": "markdown",
   "metadata": {},
   "source": [
    "### Mostrar descripciones"
   ]
  },
  {
   "cell_type": "code",
   "execution_count": null,
   "metadata": {},
   "outputs": [],
   "source": [
    "# Crear y mostrar descripciones de los clusters\n",
    "description_df = km_m.create_cluster_descriptions(df_with_pca, importance_df)\n",
    "print('###########################################################')\n",
    "print('Descripcion de los clusters')\n",
    "print('###########################################################')\n",
    "display(description_df)"
   ]
  },
  {
   "cell_type": "markdown",
   "metadata": {},
   "source": [
    "Para nombrar y describir los clusters en función de las estadísticas proporcionadas para cada característica, considera lo siguiente:\n",
    "\n",
    "1. **Interpretación de Estadísticas**\n",
    "\n",
    "Aquí está una interpretación básica de cada característica basada en los valores proporcionados para cada cluster:\n",
    "\n",
    "- **Max Units Sold**: La cantidad máxima de unidades vendidas. Los valores varían desde negativos (menos unidades) hasta positivos (más unidades).\n",
    "\n",
    "- **Std Revenue**: La desviación estándar de los ingresos totales. Indica la variabilidad en los ingresos.\n",
    "\n",
    "- **Total Revenue**: Los ingresos totales generados por los productos. Valores positivos indican mayores ingresos.\n",
    "\n",
    "- **Percentile Max Revenue**: Percentil del máximo ingreso. Mide cómo se compara el máximo ingreso de cada producto con otros productos.\n",
    "\n",
    "- **Num Sales**: El número total de ventas realizadas. Los valores varían desde negativos (menos ventas) hasta positivos (más ventas).\n",
    "\n",
    "2. **Asignación de Nombres y Descripción a Clusters**\n",
    "\n",
    "Voy a usar los valores de cada característica para describir y nombrar cada cluster. Los valores negativos y positivos sugieren que los clusters pueden tener diferentes perfiles basados en estas características.\n",
    "\n",
    "**Cluster 0**\n",
    "\n",
    "- **Nombre**: **Bajo Rendimiento General**\n",
    "\n",
    "- **Descripción**: Este cluster se caracteriza por una baja cantidad máxima de unidades vendidas y bajos ingresos totales y estándar. Las ventas y los ingresos se encuentran en los percentiles más bajos. Es el cluster con menor actividad general y menor variabilidad en los ingresos.\n",
    "\n",
    "**Cluster 1**\n",
    "\n",
    "- **Nombre**: **Ventas Moderadas con Ingresos Altos**\n",
    "\n",
    "- **Descripción**: Este cluster muestra un número moderado de ventas y un ingreso total bajo en comparación con otros clusters. Sin embargo, la desviación estándar en los ingresos es alta, lo que sugiere variabilidad. Los ingresos máximos están en un percentil bajo, indicando que los productos no están generando ingresos máximos comparables a otros clusters.\n",
    "\n",
    "**Cluster 2**\n",
    "\n",
    "- **Nombre**: **Alto Ingreso y Ventas Consistentes**\n",
    "\n",
    "- **Descripción**: Aquí encontramos un alto nivel en la cantidad máxima de unidades vendidas y en los ingresos totales. La desviación estándar en los ingresos es también alta, lo que indica una considerable variabilidad en los ingresos. Los productos en este cluster generan ingresos totales consistentes con percentiles altos.\n",
    "\n",
    "**Cluster 3**\n",
    "\n",
    "- **Nombre**: **Ventas Altas y Alta Variabilidad en Ingresos**\n",
    "\n",
    "- **Descripción**: Este cluster se distingue por una gran cantidad máxima de unidades vendidas y una alta desviación estándar en los ingresos. Los ingresos totales son elevados, con percentiles máximos también altos. La alta variabilidad sugiere que los productos tienen un alto rendimiento con grandes fluctuaciones en los ingresos.\n",
    "\n",
    "**Cluster 4**\n",
    "\n",
    "- **Nombre**: **Ventas Moderadas y Alta Rentabilidad**\n",
    "\n",
    "- **Descripción**: Este cluster tiene un número moderado de ventas y un alto ingreso total, con baja variabilidad en los ingresos. El percentil de ingresos máximos es alto, indicando que los productos en este cluster tienen un buen rendimiento en términos de ingresos, pero con menos variabilidad comparado con el cluster 3."
   ]
  },
  {
   "cell_type": "markdown",
   "metadata": {},
   "source": [
    "### DF Descripciones"
   ]
  },
  {
   "cell_type": "code",
   "execution_count": null,
   "metadata": {},
   "outputs": [],
   "source": [
    "# Crear el DataFrame\n",
    "data = {\n",
    "    'Cluster': [0, 1, 2, 3, 4],\n",
    "    'Nombre': [\n",
    "        'Bajo Rendimiento General',\n",
    "        'Ventas Moderadas con Ingresos Altos',\n",
    "        'Alto Ingreso y Ventas Consistentes',\n",
    "        'Ventas Altas y Alta Variabilidad en Ingresos',\n",
    "        'Ventas Moderadas y Alta Rentabilidad'\n",
    "    ],\n",
    "    'Descripción': [\n",
    "        'Bajo número de ventas, bajos ingresos y baja variabilidad.',\n",
    "        'Ventas moderadas, ingresos bajos pero alta variabilidad.',\n",
    "        'Alta cantidad de ventas, altos ingresos y alta variabilidad.',\n",
    "        'Alta cantidad de ventas e ingresos con gran variabilidad.',\n",
    "        'Ventas moderadas, altos ingresos con baja variabilidad.'\n",
    "    ]\n",
    "}\n",
    "\n",
    "df_clusters = pd.DataFrame(data)\n",
    "\n",
    "# Mostrar el DataFrame\n",
    "display(df_clusters)\n"
   ]
  },
  {
   "cell_type": "markdown",
   "metadata": {},
   "source": [
    "## Asignacion clusters a items"
   ]
  },
  {
   "cell_type": "code",
   "execution_count": null,
   "metadata": {},
   "outputs": [],
   "source": []
  },
  {
   "cell_type": "markdown",
   "metadata": {},
   "source": [
    "# **PRODUCTOS: PRECIOS**\n",
    "___\n",
    "___"
   ]
  },
  {
   "cell_type": "markdown",
   "metadata": {},
   "source": [
    "**Rangos de precios de productos**"
   ]
  },
  {
   "cell_type": "code",
   "execution_count": 69,
   "metadata": {},
   "outputs": [],
   "source": [
    "# # Crear la feature matrix para los productos (items) enfocada en los precios\n",
    "# feature_matrix_price, feature_defs_price = ft.dfs(\n",
    "#     entityset=es,\n",
    "#     target_dataframe_name=\"items\",\n",
    "#     agg_primitives=[\"mean\", \"std\", \"min\", \"max\"],\n",
    "#     trans_primitives=[],  # No necesitamos transformaciones adicionales aquí\n",
    "#     max_depth=2\n",
    "# )\n",
    "\n",
    "# # Seleccionar y renombrar características relevantes para el análisis de precios\n",
    "# selected_features_price = {\n",
    "#     'MEAN(sales.sell_price)': 'avg_sell_price',  # Precio promedio de venta\n",
    "#     'STD(sales.sell_price)': 'std_sell_price',   # Desviación estándar del precio de venta\n",
    "#     'MIN(sales.sell_price)': 'min_sell_price',   # Precio mínimo de venta\n",
    "#     'MAX(sales.sell_price)': 'max_sell_price',   # Precio máximo de venta\n",
    "# }"
   ]
  },
  {
   "cell_type": "markdown",
   "metadata": {},
   "source": [
    "## Creacion caracteristicas"
   ]
  },
  {
   "cell_type": "code",
   "execution_count": null,
   "metadata": {},
   "outputs": [],
   "source": [
    "# display(feature_matrix.shape)\n",
    "\n",
    "feature_matrix.columns.tolist()"
   ]
  },
  {
   "cell_type": "markdown",
   "metadata": {},
   "source": [
    "**Explicación**\n",
    "\n",
    "1.  **`MEAN(sales.sell_price)`**: Mide el precio medio de los productos. Es crucial para determinar el rango promedio de precios.\n",
    "\n",
    "2.  **`MAX(sales.sell_price)`**: Identifica el precio máximo, lo que ayuda a entender el rango superior de precios en el dataset.\n",
    "\n",
    "3.  **`STD(sales.sell_price)`**: Mide la variabilidad en los precios. Una alta desviación estándar indica una amplia gama de precios, lo cual es relevante para el clustering.\n",
    "\n",
    "4.  **`PERCENTILE(MAX(sales.sell_price))`**: Mide la posición relativa del máximo precio en comparación con otros productos. Ayuda a comprender la distribución extrema de los precios.\n",
    "\n",
    "5.  **`PERCENTILE(MEAN(sales.sell_price))`**: Mide la posición relativa del promedio de precios. Ofrece perspectiva sobre cómo se compara el promedio de precios con otros productos.\n",
    "\n",
    "6.  **`PERCENTILE(STD(sales.sell_price))`**: Mide la posición relativa de la desviación estándar en comparación con otros productos. Proporciona información sobre la variabilidad relativa de los precios.\n",
    "\n",
    "**¿Por Qué Seleccionar Estas Características?**\n",
    "\n",
    "Estas características permiten una comprensión integral de los precios en tus datos:\n",
    "\n",
    "-   **Promedio y Máximo**: Para entender los rangos generales y extremos de precios.\n",
    "-   **Desviación Estándar**: Para conocer la variabilidad de precios.\n",
    "-   **Percentiles**: Para comparar cómo se sitúan los precios en relación con el resto de los datos.\n",
    "\n",
    "Seleccionar estas características permitirá una segmentación efectiva en clusters basados en rangos de precios, capturando tanto la variabilidad como la posición relativa de los precios."
   ]
  },
  {
   "cell_type": "code",
   "execution_count": null,
   "metadata": {},
   "outputs": [],
   "source": [
    "price__features = {\n",
    "    'MEAN(sales.sell_price)': 'avg_sell_price',   # Promedio del precio de venta, útil para conocer el rango medio de precios.\n",
    "    'MAX(sales.sell_price)': 'max_sell_price',     # Máximo precio de venta, ayuda a identificar los valores más altos en el rango de precios.\n",
    "    'STD(sales.sell_price)': 'std_sell_price',     # Desviación estándar del precio de venta, muestra la variabilidad en los precios.\n",
    "    'PERCENTILE(MAX(sales.sell_price))': 'percentile_max_sell_price',  # Percentil del máximo precio de venta, muestra la posición relativa del precio máximo.\n",
    "    'PERCENTILE(MEAN(sales.sell_price))': 'percentile_avg_sell_price',  # Percentil del promedio del precio de venta, muestra la posición relativa del promedio de precios.\n",
    "    'PERCENTILE(STD(sales.sell_price))': 'percentile_std_sell_price'    # Percentil de la desviación estándar del precio de venta, muestra la variabilidad en comparación con otros precios.\n",
    "}\n",
    "\n",
    "feature_matrix_selected = fcm.select_features(feature_matrix, price_features)\n",
    "\n",
    "# Renombrar características si es necesario\n",
    "# feature_matrix_renamed = fcm.rename_features(filtered_feature_matrix, selected_features) # Hemos filtrado antes de renombrar\n",
    "# feature_matrix_renamed = fcm.rename_features(feature_matrix_selected, price_features)\n",
    "\n",
    "# display(feature_matrix_renamed.head(5))"
   ]
  },
  {
   "cell_type": "markdown",
   "metadata": {},
   "source": [
    "## Preprocesamiento"
   ]
  },
  {
   "cell_type": "code",
   "execution_count": null,
   "metadata": {},
   "outputs": [],
   "source": [
    "scaled_df = pm.preprocess_features(feature_matrix_renamed)"
   ]
  },
  {
   "cell_type": "code",
   "execution_count": null,
   "metadata": {},
   "outputs": [],
   "source": [
    "scaled_df.head(5)"
   ]
  },
  {
   "cell_type": "markdown",
   "metadata": {},
   "source": [
    "## Kmeans"
   ]
  },
  {
   "cell_type": "markdown",
   "metadata": {},
   "source": [
    "### Elbow & Silhoutte"
   ]
  },
  {
   "cell_type": "code",
   "execution_count": null,
   "metadata": {},
   "outputs": [],
   "source": [
    "km_m.plot_elbow_silhouette(scaled_df, 30)"
   ]
  },
  {
   "cell_type": "markdown",
   "metadata": {},
   "source": [
    "### Analisis"
   ]
  },
  {
   "cell_type": "markdown",
   "metadata": {},
   "source": [
    "#### PCAs"
   ]
  },
  {
   "cell_type": "code",
   "execution_count": null,
   "metadata": {},
   "outputs": [],
   "source": [
    "pca_df = km_m.pca_visualization_2d(feature_matrix_with_clusters)\n",
    "\n",
    "display(pca_df.head())"
   ]
  },
  {
   "cell_type": "code",
   "execution_count": null,
   "metadata": {},
   "outputs": [],
   "source": [
    "explained_variance = km_m.pca_variance_plot(feature_matrix_with_clusters, 1)\n",
    "\n",
    "display(explained_variance)"
   ]
  },
  {
   "cell_type": "markdown",
   "metadata": {},
   "source": [
    "#### Importancia caracteristicas"
   ]
  },
  {
   "cell_type": "code",
   "execution_count": null,
   "metadata": {},
   "outputs": [],
   "source": [
    "# Preprocesamos datos\n",
    "cluster_col='Cluster'\n",
    "cols_to_scale = feature_matrix_with_clusters.columns.tolist()\n",
    "df_clusters = feature_matrix_with_clusters[[cluster_col]].copy().reset_index(drop=True)\n",
    "cols_to_scale.remove(cluster_col) # Columna Objetivo\n",
    "preprocessed_df = pm.preprocess_features(feature_matrix_with_clusters[cols_to_scale])\n",
    "\n",
    "# Combinar los DataFrames basándose en la columna 'Index'\n",
    "preprocessed_df = pd.concat([preprocessed_df, df_clusters], axis=1)\n",
    "\n",
    "clusters = kmeans_model.labels_\n",
    "\n",
    "# sales_importance_df = km_m.get_feature_importances(feature_matrix_with_clusters, clusters, imp_threshold=0.05)\n",
    "sales_importance_df = km_m.get_feature_importances(preprocessed_df, clusters, imp_threshold=0.05)\n",
    "\n",
    "display(sales_importance_df.head(10))"
   ]
  },
  {
   "cell_type": "markdown",
   "metadata": {},
   "source": [
    "### Dimension Redux"
   ]
  },
  {
   "cell_type": "code",
   "execution_count": null,
   "metadata": {},
   "outputs": [],
   "source": [
    "pca_df, importance_df = km_m.redux_dimensions_pca_and_cluster(preprocessed_df, n_clusters=optimal_k, n_components=1)"
   ]
  },
  {
   "cell_type": "code",
   "execution_count": null,
   "metadata": {},
   "outputs": [],
   "source": [
    "# El segundo componente es residual\n",
    "pca_df, importance_df = km_m.redux_dimensions_pca_and_cluster(preprocessed_df, n_clusters=optimal_k, n_components=2)"
   ]
  },
  {
   "cell_type": "markdown",
   "metadata": {},
   "source": [
    "## Descripcion de los clusters"
   ]
  },
  {
   "cell_type": "markdown",
   "metadata": {},
   "source": [
    "### Mostrar descripciones"
   ]
  },
  {
   "cell_type": "code",
   "execution_count": null,
   "metadata": {},
   "outputs": [],
   "source": [
    "# Crear y mostrar descripciones de los clusters\n",
    "description_df = km_m.create_cluster_descriptions(df_with_pca, importance_df)\n",
    "print('###########################################################')\n",
    "print('Descripcion de los clusters')\n",
    "print('###########################################################')\n",
    "display(description_df)"
   ]
  },
  {
   "cell_type": "markdown",
   "metadata": {},
   "source": [
    "Lipsum dolor sit amet"
   ]
  },
  {
   "cell_type": "markdown",
   "metadata": {},
   "source": [
    "### DF Descripciones"
   ]
  },
  {
   "cell_type": "code",
   "execution_count": null,
   "metadata": {},
   "outputs": [],
   "source": [
    "# Crear el DataFrame\n",
    "data = {\n",
    "    'Cluster': [0, 1, 2, 3, 4],\n",
    "    'Nombre': [\n",
    "        'Bajo Rendimiento General',\n",
    "        'Ventas Moderadas con Ingresos Altos',\n",
    "        'Alto Ingreso y Ventas Consistentes',\n",
    "        'Ventas Altas y Alta Variabilidad en Ingresos',\n",
    "        'Ventas Moderadas y Alta Rentabilidad'\n",
    "    ],\n",
    "    'Descripción': [\n",
    "        'Bajo número de ventas, bajos ingresos y baja variabilidad.',\n",
    "        'Ventas moderadas, ingresos bajos pero alta variabilidad.',\n",
    "        'Alta cantidad de ventas, altos ingresos y alta variabilidad.',\n",
    "        'Alta cantidad de ventas e ingresos con gran variabilidad.',\n",
    "        'Ventas moderadas, altos ingresos con baja variabilidad.'\n",
    "    ]\n",
    "}\n",
    "\n",
    "df_clusters = pd.DataFrame(data)\n",
    "\n",
    "# Mostrar el DataFrame\n",
    "display(df_clusters)\n"
   ]
  },
  {
   "cell_type": "markdown",
   "metadata": {},
   "source": [
    "## Asignacion clusters a items"
   ]
  },
  {
   "cell_type": "code",
   "execution_count": null,
   "metadata": {},
   "outputs": [],
   "source": []
  },
  {
   "cell_type": "markdown",
   "metadata": {},
   "source": [
    "# **PRODUCTOS: EVENTOS**\n",
    "___\n",
    "___"
   ]
  },
  {
   "cell_type": "markdown",
   "metadata": {},
   "source": [
    "**Efecto de eventos en ventas de productos**"
   ]
  },
  {
   "cell_type": "code",
   "execution_count": null,
   "metadata": {},
   "outputs": [],
   "source": [
    "# # Crear la feature matrix para los productos (items) enfocada en el efecto de los eventos\n",
    "# feature_matrix_events, feature_defs_events = ft.dfs(\n",
    "#     entityset=es,\n",
    "#     target_dataframe_name=\"items\",\n",
    "#     agg_primitives=[\"mean\", \"count\", \"sum\"],\n",
    "#     trans_primitives=[],  # No necesitamos transformaciones adicionales aquí\n",
    "#     max_depth=2\n",
    "# )\n",
    "\n",
    "# # Seleccionar y renombrar características relevantes para el análisis del efecto de eventos\n",
    "# selected_features_events = {\n",
    "#     'MEAN(sales.event)': 'avg_event_sales_ratio',  # Promedio de ventas durante eventos\n",
    "#     'COUNT(sales.event)': 'num_events',            # Número de eventos en los que el producto fue vendido\n",
    "#     'SUM(sales.units)': 'total_units_sold',        # Total de unidades vendidas\n",
    "#     'SUM(sales.raw_earn)': 'total_revenue',        # Ingresos totales generados\n",
    "# }"
   ]
  },
  {
   "cell_type": "markdown",
   "metadata": {},
   "source": [
    "## Creacion caracteristicas"
   ]
  },
  {
   "cell_type": "code",
   "execution_count": null,
   "metadata": {},
   "outputs": [],
   "source": []
  },
  {
   "cell_type": "markdown",
   "metadata": {},
   "source": [
    "## Preprocesamiento"
   ]
  },
  {
   "cell_type": "code",
   "execution_count": null,
   "metadata": {},
   "outputs": [],
   "source": []
  },
  {
   "cell_type": "markdown",
   "metadata": {},
   "source": [
    "## Kmeans"
   ]
  },
  {
   "cell_type": "code",
   "execution_count": null,
   "metadata": {},
   "outputs": [],
   "source": []
  },
  {
   "cell_type": "markdown",
   "metadata": {},
   "source": [
    "## Descripcion de los clusters"
   ]
  },
  {
   "cell_type": "code",
   "execution_count": null,
   "metadata": {},
   "outputs": [],
   "source": []
  },
  {
   "cell_type": "markdown",
   "metadata": {},
   "source": [
    "## Asignacion clusters a items"
   ]
  },
  {
   "cell_type": "code",
   "execution_count": null,
   "metadata": {},
   "outputs": [],
   "source": []
  },
  {
   "cell_type": "markdown",
   "metadata": {},
   "source": [
    "___\n",
    "___"
   ]
  },
  {
   "cell_type": "markdown",
   "metadata": {},
   "source": [
    "# SECCION - master"
   ]
  },
  {
   "cell_type": "markdown",
   "metadata": {},
   "source": [
    "**Descripcion** Lipsum dolor sit amet"
   ]
  },
  {
   "cell_type": "markdown",
   "metadata": {},
   "source": [
    "## Creacion caracteristicas"
   ]
  },
  {
   "cell_type": "code",
   "execution_count": null,
   "metadata": {},
   "outputs": [],
   "source": []
  },
  {
   "cell_type": "markdown",
   "metadata": {},
   "source": [
    "## Preprocesamiento"
   ]
  },
  {
   "cell_type": "code",
   "execution_count": null,
   "metadata": {},
   "outputs": [],
   "source": []
  },
  {
   "cell_type": "markdown",
   "metadata": {},
   "source": [
    "## Kmeans"
   ]
  },
  {
   "cell_type": "code",
   "execution_count": null,
   "metadata": {},
   "outputs": [],
   "source": []
  },
  {
   "cell_type": "markdown",
   "metadata": {},
   "source": [
    "## Descripcion de los clusters"
   ]
  },
  {
   "cell_type": "code",
   "execution_count": null,
   "metadata": {},
   "outputs": [],
   "source": []
  },
  {
   "cell_type": "markdown",
   "metadata": {},
   "source": [
    "___\n",
    "___"
   ]
  },
  {
   "cell_type": "markdown",
   "metadata": {},
   "source": [
    "# CLUSTERING MODULE"
   ]
  },
  {
   "cell_type": "code",
   "execution_count": 25,
   "metadata": {},
   "outputs": [],
   "source": [
    "from modules import clustering_module as cm"
   ]
  },
  {
   "cell_type": "code",
   "execution_count": null,
   "metadata": {},
   "outputs": [],
   "source": [
    "# K-means\n",
    "rf_model_kmeans, preprocessor_kmeans, pca_loadings_kmeans, pca_contributions_kmeans = cm.main(\n",
    "    feature_matrix_renamed, method='kmeans', n_clusters=4\n",
    ")"
   ]
  },
  {
   "cell_type": "code",
   "execution_count": null,
   "metadata": {},
   "outputs": [],
   "source": [
    "# K-means\n",
    "rf_model_kmeans, preprocessor_kmeans, pca_loadings_kmeans, pca_contributions_kmeans = cm.main(\n",
    "    preprocessed_df, method='kmeans', n_clusters=optimal_k\n",
    ")"
   ]
  },
  {
   "cell_type": "code",
   "execution_count": null,
   "metadata": {},
   "outputs": [],
   "source": [
    "kmeans_cluster_labels, kmeans_cluster_summary = cm.perform_clustering_analysis(preprocessed_df, n_clusters=optimal_k)"
   ]
  },
  {
   "cell_type": "code",
   "execution_count": 29,
   "metadata": {},
   "outputs": [],
   "source": [
    "# display(kmeans_cluster_labels)"
   ]
  },
  {
   "cell_type": "code",
   "execution_count": null,
   "metadata": {},
   "outputs": [],
   "source": [
    "display(kmeans_cluster_summary)"
   ]
  },
  {
   "cell_type": "markdown",
   "metadata": {},
   "source": [
    "## !!! PENDING"
   ]
  },
  {
   "cell_type": "markdown",
   "metadata": {},
   "source": [
    "___\n",
    "___"
   ]
  },
  {
   "cell_type": "markdown",
   "metadata": {},
   "source": [
    "# IDEAS"
   ]
  },
  {
   "cell_type": "markdown",
   "metadata": {},
   "source": [
    "## PRODUCTOS"
   ]
  },
  {
   "cell_type": "markdown",
   "metadata": {},
   "source": [
    "## TIENDAS"
   ]
  },
  {
   "cell_type": "markdown",
   "metadata": {},
   "source": [
    "__A priori parece NO TENER sentido aplicar clustering a tiendas con tan pocas muestras.__"
   ]
  },
  {
   "cell_type": "code",
   "execution_count": null,
   "metadata": {},
   "outputs": [],
   "source": [
    "# Creacion caracteristicas para tiendas basadas en el comportamiento temporal de ventas\n",
    "fc_config = {\n",
    "    'target_df':'shops',\n",
    "    'agg_primitives':[\"sum\", \"mean\", \"std\", \"count\"],\n",
    "    'trans_primitives':[],\n",
    "    'max_depth':2\n",
    "}\n",
    "\n",
    "feature_matrix, feature_defs = fcm.create_features(df_items, df_shops, df_ws, fc_config)\n",
    "\n",
    "# Revision definiciones caracteristicas creadas\n",
    "fcm.get_features_descriptions(feature_defs)\n",
    "\n",
    "# Seleccionar y renombrar características relevantes para el clustering de productos ventas/performance\n",
    "selected_features_sales = {\n",
    "    'SUM(sales.units)': 'total_units_sold',\n",
    "    'SUM(sales.raw_earn)': 'total_revenue',\n",
    "    'MEAN(sales.units)': 'avg_units_per_week',\n",
    "    'STD(sales.units)': 'std_units_sold',\n",
    "    'COUNT(sales)': 'num_sales',\n",
    "}\n",
    "\n",
    "feature_matrix = fcm.select_features(feature_matrix, selected_features_sales)\n",
    "\n",
    "# Remove low information, highly correlated, highly null and single value features\n",
    "filtered_feature_matrix = fcm.filter_feature_matrix(feature_matrix)\n",
    "\n",
    "display(filtered_feature_matrix.head(5))\n",
    "\n",
    "# Renombrar características si es necesario\n",
    "feature_matrix_renamed = fcm.rename_features(filtered_feature_matrix, selected_features)\n",
    "\n",
    "display(feature_matrix_renamed.head(5))\n",
    "\n",
    "# Preprocesamiento datos\n",
    "scaled_df = pm.preprocess_features(feature_matrix_renamed)"
   ]
  },
  {
   "cell_type": "code",
   "execution_count": null,
   "metadata": {},
   "outputs": [],
   "source": [
    "km_m.plot_elbow_silhouette(scaled_df, 9) # No puede haber mas clusters que etiquetas"
   ]
  },
  {
   "cell_type": "code",
   "execution_count": null,
   "metadata": {},
   "outputs": [],
   "source": [
    "optimal_k = 6 # Segun elbow\n",
    "\n",
    "kmeans_model, feature_matrix_with_clusters = km_m.apply_kmeans_and_plot(optimal_k, scaled_df, feature_matrix_renamed)\n",
    "\n",
    "feature_matrix_with_clusters.head(5)\n",
    "\n",
    "pca_df = km_m.pca_visualization_2d(feature_matrix_with_clusters)\n",
    "\n",
    "display(pca_df.head())\n",
    "\n",
    "km_m.pca_variance_plot(feature_matrix_with_clusters)\n",
    "\n",
    "# Preprocesamos datos\n",
    "cluster_col='Cluster'\n",
    "cols_to_scale = feature_matrix_with_clusters.columns.tolist()\n",
    "df_clusters = feature_matrix_with_clusters[[cluster_col]].copy().reset_index(drop=True)\n",
    "cols_to_scale.remove(cluster_col) # Columna Objetivo\n",
    "preprocessed_df = pm.preprocess_features(feature_matrix_with_clusters[cols_to_scale])\n",
    "\n",
    "# Combinar los DataFrames basándose en la columna 'Index'\n",
    "preprocessed_df = pd.concat([preprocessed_df, df_clusters], axis=1)\n",
    "\n",
    "clusters = kmeans_model.labels_\n",
    "\n",
    "# sales_importance_df = km_m.get_feature_importances(feature_matrix_with_clusters, clusters, imp_threshold=0.05)\n",
    "sales_importance_df = km_m.get_feature_importances(preprocessed_df, clusters, imp_threshold=0.05)\n",
    "\n",
    "display(sales_importance_df.head(10))"
   ]
  },
  {
   "cell_type": "code",
   "execution_count": null,
   "metadata": {},
   "outputs": [],
   "source": [
    "display(scaled_df.head())\n",
    "\n",
    "display(scaled_df.shape)"
   ]
  },
  {
   "cell_type": "code",
   "execution_count": null,
   "metadata": {},
   "outputs": [],
   "source": [
    "km_m.plot_elbow_silhouette(scaled_df, 5) # No puede haber mas clusters que etiquetas\n",
    "\n",
    "optimal_k = 5 # Segun silueta\n",
    "\n",
    "kmeans_model, feature_matrix_with_clusters = km_m.apply_kmeans_and_plot(optimal_k, scaled_df, feature_matrix_renamed)\n",
    "\n",
    "feature_matrix_with_clusters.head(5)\n",
    "\n",
    "pca_df = km_m.pca_visualization_2d(feature_matrix_with_clusters)\n",
    "\n",
    "display(pca_df.head())\n",
    "\n",
    "km_m.pca_variance_plot(feature_matrix_with_clusters)\n",
    "\n",
    "# Preprocesamos datos\n",
    "cluster_col='Cluster'\n",
    "cols_to_scale = feature_matrix_with_clusters.columns.tolist()\n",
    "df_clusters = feature_matrix_with_clusters[[cluster_col]].copy().reset_index(drop=True)\n",
    "cols_to_scale.remove(cluster_col) # Columna Objetivo\n",
    "preprocessed_df = pm.preprocess_features(feature_matrix_with_clusters[cols_to_scale])\n",
    "\n",
    "# Combinar los DataFrames basándose en la columna 'Index'\n",
    "preprocessed_df = pd.concat([preprocessed_df, df_clusters], axis=1)\n",
    "\n",
    "clusters = kmeans_model.labels_\n",
    "\n",
    "# sales_importance_df = km_m.get_feature_importances(feature_matrix_with_clusters, clusters, imp_threshold=0.05)\n",
    "sales_importance_df = km_m.get_feature_importances(preprocessed_df, clusters, imp_threshold=0.05)\n",
    "\n",
    "display(sales_importance_df.head(10))"
   ]
  },
  {
   "cell_type": "code",
   "execution_count": null,
   "metadata": {},
   "outputs": [],
   "source": [
    "# K-means\n",
    "rf_model_kmeans, preprocessor_kmeans, pca_loadings_kmeans, pca_contributions_kmeans = cm.main(\n",
    "    feature_matrix_renamed, method='kmeans', n_clusters=2\n",
    ")\n",
    "\n",
    "# Este error se da cuando el numero clusters es igual o mayor que el numero de etiquetas!!!"
   ]
  }
 ],
 "metadata": {
  "kernelspec": {
   "display_name": "Python 3",
   "language": "python",
   "name": "python3"
  },
  "language_info": {
   "codemirror_mode": {
    "name": "ipython",
    "version": 3
   },
   "file_extension": ".py",
   "mimetype": "text/x-python",
   "name": "python",
   "nbconvert_exporter": "python",
   "pygments_lexer": "ipython3",
   "version": "3.11.9"
  }
 },
 "nbformat": 4,
 "nbformat_minor": 2
}

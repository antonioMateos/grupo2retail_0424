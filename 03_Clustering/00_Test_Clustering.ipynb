{
 "cells": [
  {
   "cell_type": "markdown",
   "metadata": {},
   "source": [
    "# Referencias\n",
    "\n",
    "**FeatureTools**  \n",
    "\n",
    "> https://chatgpt.com/share/8ec15bc1-781c-475d-b356-64576f3ad47f\n",
    "\n",
    "**Demo**\n",
    "\n",
    "> https://featuretools.alteryx.com/en/stable/\n"
   ]
  },
  {
   "cell_type": "code",
   "execution_count": null,
   "metadata": {},
   "outputs": [],
   "source": []
  }
 ],
 "metadata": {
  "language_info": {
   "name": "python"
  }
 },
 "nbformat": 4,
 "nbformat_minor": 2
}

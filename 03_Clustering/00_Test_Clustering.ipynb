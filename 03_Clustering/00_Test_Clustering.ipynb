{
 "cells": [
  {
   "cell_type": "markdown",
   "metadata": {},
   "source": [
    "# Referencias\n",
    "\n",
    "**FeatureTools**  \n",
    "\n",
    "> https://featuretools.alteryx.com/en/stable/  \n",
    "\n",
    "**Demo**\n",
    "\n",
    "> https://chatgpt.com/share/8ec15bc1-781c-475d-b356-64576f3ad47f\n",
    "  \n",
    "**Clustering con muchos datos**  \n",
    "\n",
    "> https://chatgpt.com/share/54042083-573b-4670-81f2-f3ad50d9ff2c\n"
   ]
  },
  {
   "cell_type": "markdown",
   "metadata": {},
   "source": [
    ">Hola Nicole,En primer lugar, ¡bienvenida a la empresa!Hablando con Michelle, hemos pensado que sería ideal que pudiéramos identificar grupos de productos que se comportan de manera similar. Michelle estaba diciendo que con tu magia es fácil identificar grupos de productos similares, y tales grupos serán súper útiles para evaluar el rendimiento de nuestras diferentes campañas. ¿Cuántos grupos crees que deberíamos considerar? 5? 10? 20? Además, ¿crees que podríamos encontrar un enfoque ”similar\" para identificar cómo de similares son las tiendas entre sí? ¿La agrupación de tiendas también tendría sentido aquí? ¿Podrías hacer eso también?¡Me alegra que finalmente podamos contar con alguien con tus habilidades dentro del equipo! Saludos -- <cite>- Joelle</cite>\n",
    "\n",
    "___"
   ]
  }
 ],
 "metadata": {
  "language_info": {
   "name": "python"
  }
 },
 "nbformat": 4,
 "nbformat_minor": 2
}

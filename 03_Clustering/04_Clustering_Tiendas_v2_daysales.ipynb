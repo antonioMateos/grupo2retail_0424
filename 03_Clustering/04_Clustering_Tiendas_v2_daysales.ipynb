{
  "cells": [
    {
      "cell_type": "markdown",
      "metadata": {
        "id": "LHPKiE_K9fr1"
      },
      "source": [
        "# INIT"
      ]
    },
    {
      "cell_type": "code",
      "source": [
        "from google.colab import drive\n",
        "drive.mount('/content/drive')"
      ],
      "metadata": {
        "id": "kzq7YQXkAvs4",
        "colab": {
          "base_uri": "https://localhost:8080/"
        },
        "outputId": "9ac24c39-7485-4c71-a7fc-aee1440e3ff5"
      },
      "execution_count": 1,
      "outputs": [
        {
          "output_type": "stream",
          "name": "stdout",
          "text": [
            "Mounted at /content/drive\n"
          ]
        }
      ]
    },
    {
      "cell_type": "markdown",
      "metadata": {
        "id": "Z3MazNvT9fr7"
      },
      "source": [
        "## Librerias"
      ]
    },
    {
      "cell_type": "code",
      "execution_count": 2,
      "metadata": {
        "id": "GKCD5C2p9fr8"
      },
      "outputs": [],
      "source": [
        "import pandas as pd\n",
        "import numpy as np\n",
        "import matplotlib.pyplot as plt\n",
        "import seaborn as sns\n",
        "\n",
        "# MODULES PATH\n",
        "import sys\n",
        "sys.path.append('/content/drive/MyDrive/TFM_Retail_Repo/03_Clustering')\n",
        "\n",
        "from modules import kmeans_module as km_m\n",
        "from modules import preprocessing_module as pm\n"
      ]
    },
    {
      "cell_type": "markdown",
      "metadata": {
        "id": "KVukA6x39fr-"
      },
      "source": [
        "## Importacion datos"
      ]
    },
    {
      "cell_type": "code",
      "execution_count": 3,
      "metadata": {
        "id": "-xsT9e-o9fr_"
      },
      "outputs": [],
      "source": [
        "from modules.get_data import get_data"
      ]
    },
    {
      "cell_type": "code",
      "execution_count": 4,
      "metadata": {
        "id": "AD-QdRmD9fsA",
        "colab": {
          "base_uri": "https://localhost:8080/"
        },
        "outputId": "f29c7597-76dd-4dd7-b82a-e0b0601b2628"
      },
      "outputs": [
        {
          "output_type": "stream",
          "name": "stderr",
          "text": [
            "/content/drive/MyDrive/TFM_Retail_Repo/03_Clustering/modules/get_data.py:23: DtypeWarning: Columns (11) have mixed types. Specify dtype option on import or set low_memory=False.\n",
            "  return pd.read_csv(file_path)\n"
          ]
        }
      ],
      "source": [
        "df_cal = get_data('exp_calendar.csv')\n",
        "df_items = get_data('exp_items.csv')\n",
        "df_shops = get_data('exp_shops.csv')\n",
        "# df_ws = get_data('exp_weekly_sales.csv')\n",
        "df_ws = get_data('daily_sales_with_events.csv') # Vamos a probar con diarias -> filtramos por años para que no pete la creacion de caracteristicas"
      ]
    },
    {
      "cell_type": "code",
      "source": [
        "# Seleccionar solo años 2014 a 2016 de df_ws\n",
        "df_ws = df_ws[(df_ws['year'] >= 2014) & (df_ws['year'] <= 2016)]\n",
        "\n",
        "# Cambiamos NaN de event por None\n",
        "df_ws['event'] = df_ws['event'].fillna('None')\n",
        "\n",
        "display(df_ws.shape)"
      ],
      "metadata": {
        "id": "9t5ti-7gqtk3",
        "colab": {
          "base_uri": "https://localhost:8080/",
          "height": 34
        },
        "outputId": "c75eb42f-b2aa-40f8-e0e4-8b66aa47a45b"
      },
      "execution_count": 5,
      "outputs": [
        {
          "output_type": "display_data",
          "data": {
            "text/plain": [
              "(9693001, 12)"
            ]
          },
          "metadata": {}
        }
      ]
    },
    {
      "cell_type": "markdown",
      "source": [
        "___\n",
        "___"
      ],
      "metadata": {
        "id": "Bpa2Ham6Bn49"
      }
    },
    {
      "cell_type": "markdown",
      "source": [
        "# CREACION FEATS. GENERALES"
      ],
      "metadata": {
        "id": "YewPDdZwBVA6"
      }
    },
    {
      "cell_type": "code",
      "source": [
        "!pip install featuretools # install the missing module"
      ],
      "metadata": {
        "id": "sciABY1SCAKi"
      },
      "execution_count": null,
      "outputs": []
    },
    {
      "cell_type": "code",
      "execution_count": 7,
      "metadata": {
        "id": "DJSlK_l99fsF"
      },
      "outputs": [],
      "source": [
        "from modules import feature_creation_module as fcm"
      ]
    },
    {
      "cell_type": "code",
      "source": [
        "df_ws = df_ws.drop(columns=['event']) # no nos sirve ahora"
      ],
      "metadata": {
        "id": "WLJl5ryZApno"
      },
      "execution_count": 8,
      "outputs": []
    },
    {
      "cell_type": "code",
      "execution_count": 9,
      "metadata": {
        "id": "EqNtd0s-9fsW",
        "colab": {
          "base_uri": "https://localhost:8080/"
        },
        "outputId": "c4e20f07-00e9-40cb-a877-9f5b8454b8df"
      },
      "outputs": [
        {
          "output_type": "stream",
          "name": "stderr",
          "text": [
            "/usr/local/lib/python3.10/dist-packages/woodwork/type_sys/utils.py:33: UserWarning: Could not infer format, so each element will be parsed individually, falling back to `dateutil`. To ensure parsing is consistent and as-expected, please specify a format.\n",
            "  pd.to_datetime(\n",
            "/usr/local/lib/python3.10/dist-packages/woodwork/type_sys/utils.py:33: UserWarning: Could not infer format, so each element will be parsed individually, falling back to `dateutil`. To ensure parsing is consistent and as-expected, please specify a format.\n",
            "  pd.to_datetime(\n",
            "/usr/local/lib/python3.10/dist-packages/woodwork/type_sys/utils.py:33: UserWarning: Could not infer format, so each element will be parsed individually, falling back to `dateutil`. To ensure parsing is consistent and as-expected, please specify a format.\n",
            "  pd.to_datetime(\n",
            "/usr/local/lib/python3.10/dist-packages/woodwork/type_sys/utils.py:33: UserWarning: Could not infer format, so each element will be parsed individually, falling back to `dateutil`. To ensure parsing is consistent and as-expected, please specify a format.\n",
            "  pd.to_datetime(\n",
            "/usr/local/lib/python3.10/dist-packages/woodwork/type_sys/utils.py:33: UserWarning: Could not infer format, so each element will be parsed individually, falling back to `dateutil`. To ensure parsing is consistent and as-expected, please specify a format.\n",
            "  pd.to_datetime(\n",
            "/usr/local/lib/python3.10/dist-packages/woodwork/type_sys/utils.py:33: UserWarning: Could not infer format, so each element will be parsed individually, falling back to `dateutil`. To ensure parsing is consistent and as-expected, please specify a format.\n",
            "  pd.to_datetime(\n",
            "/usr/local/lib/python3.10/dist-packages/woodwork/type_sys/utils.py:33: UserWarning: Could not infer format, so each element will be parsed individually, falling back to `dateutil`. To ensure parsing is consistent and as-expected, please specify a format.\n",
            "  pd.to_datetime(\n",
            "/usr/local/lib/python3.10/dist-packages/woodwork/type_sys/utils.py:33: UserWarning: Could not infer format, so each element will be parsed individually, falling back to `dateutil`. To ensure parsing is consistent and as-expected, please specify a format.\n",
            "  pd.to_datetime(\n",
            "/usr/local/lib/python3.10/dist-packages/woodwork/type_sys/utils.py:33: UserWarning: Could not infer format, so each element will be parsed individually, falling back to `dateutil`. To ensure parsing is consistent and as-expected, please specify a format.\n",
            "  pd.to_datetime(\n",
            "/usr/local/lib/python3.10/dist-packages/woodwork/type_sys/utils.py:33: UserWarning: Could not infer format, so each element will be parsed individually, falling back to `dateutil`. To ensure parsing is consistent and as-expected, please specify a format.\n",
            "  pd.to_datetime(\n",
            "/usr/local/lib/python3.10/dist-packages/woodwork/type_sys/utils.py:33: UserWarning: Could not infer format, so each element will be parsed individually, falling back to `dateutil`. To ensure parsing is consistent and as-expected, please specify a format.\n",
            "  pd.to_datetime(\n",
            "/usr/local/lib/python3.10/dist-packages/woodwork/type_sys/utils.py:33: UserWarning: Could not infer format, so each element will be parsed individually, falling back to `dateutil`. To ensure parsing is consistent and as-expected, please specify a format.\n",
            "  pd.to_datetime(\n",
            "/usr/local/lib/python3.10/dist-packages/woodwork/type_sys/utils.py:33: UserWarning: Could not infer format, so each element will be parsed individually, falling back to `dateutil`. To ensure parsing is consistent and as-expected, please specify a format.\n",
            "  pd.to_datetime(\n",
            "/usr/local/lib/python3.10/dist-packages/woodwork/type_sys/utils.py:33: UserWarning: Could not infer format, so each element will be parsed individually, falling back to `dateutil`. To ensure parsing is consistent and as-expected, please specify a format.\n",
            "  pd.to_datetime(\n",
            "/usr/local/lib/python3.10/dist-packages/woodwork/type_sys/utils.py:33: UserWarning: Could not infer format, so each element will be parsed individually, falling back to `dateutil`. To ensure parsing is consistent and as-expected, please specify a format.\n",
            "  pd.to_datetime(\n",
            "/usr/local/lib/python3.10/dist-packages/woodwork/type_sys/utils.py:33: UserWarning: Could not infer format, so each element will be parsed individually, falling back to `dateutil`. To ensure parsing is consistent and as-expected, please specify a format.\n",
            "  pd.to_datetime(\n",
            "/usr/local/lib/python3.10/dist-packages/woodwork/type_sys/utils.py:33: UserWarning: Could not infer format, so each element will be parsed individually, falling back to `dateutil`. To ensure parsing is consistent and as-expected, please specify a format.\n",
            "  pd.to_datetime(\n",
            "/usr/local/lib/python3.10/dist-packages/woodwork/type_sys/utils.py:33: UserWarning: Could not infer format, so each element will be parsed individually, falling back to `dateutil`. To ensure parsing is consistent and as-expected, please specify a format.\n",
            "  pd.to_datetime(\n",
            "/usr/local/lib/python3.10/dist-packages/featuretools/entityset/entityset.py:393: UserWarning: Logical type Categorical for child column store_code does not match parent column store_code logical type Unknown. Changing child logical type to match parent.\n",
            "  warnings.warn(\n",
            "/usr/local/lib/python3.10/dist-packages/featuretools/entityset/entityset.py:393: UserWarning: Logical type Categorical for child column item does not match parent column item logical type Unknown. Changing child logical type to match parent.\n",
            "  warnings.warn(\n",
            "/usr/local/lib/python3.10/dist-packages/featuretools/synthesis/dfs.py:321: UnusedPrimitiveWarning: Some specified primitives were not used during DFS:\n",
            "  trans_primitives: ['is_weekend']\n",
            "This may be caused by a using a value of max_depth that is too small, not setting interesting values, or it may indicate no compatible columns for the primitive were found in the data. If the DFS call contained multiple instances of a primitive in the list above, none of them were used.\n",
            "  warnings.warn(warning_msg, UnusedPrimitiveWarning)\n",
            "/usr/local/lib/python3.10/dist-packages/featuretools/computational_backends/feature_set_calculator.py:785: FutureWarning: The provided callable <function mean at 0x79e21751c280> is currently using SeriesGroupBy.mean. In a future version of pandas, the provided callable will be used directly. To keep current behavior pass the string \"mean\" instead.\n",
            "  ).agg(to_agg)\n",
            "/usr/local/lib/python3.10/dist-packages/featuretools/computational_backends/feature_set_calculator.py:785: FutureWarning: The provided callable <function max at 0x79e21a2eb910> is currently using SeriesGroupBy.max. In a future version of pandas, the provided callable will be used directly. To keep current behavior pass the string \"max\" instead.\n",
            "  ).agg(to_agg)\n",
            "/usr/local/lib/python3.10/dist-packages/featuretools/computational_backends/feature_set_calculator.py:785: FutureWarning: The provided callable <function std at 0x79e21751c3a0> is currently using SeriesGroupBy.std. In a future version of pandas, the provided callable will be used directly. To keep current behavior pass the string \"std\" instead.\n",
            "  ).agg(to_agg)\n",
            "/usr/local/lib/python3.10/dist-packages/featuretools/computational_backends/feature_set_calculator.py:785: FutureWarning: The provided callable <function sum at 0x79e21a2eb2e0> is currently using SeriesGroupBy.sum. In a future version of pandas, the provided callable will be used directly. To keep current behavior pass the string \"sum\" instead.\n",
            "  ).agg(to_agg)\n",
            "/usr/local/lib/python3.10/dist-packages/featuretools/computational_backends/feature_set_calculator.py:785: FutureWarning: The provided callable <function min at 0x79e21a2eba30> is currently using SeriesGroupBy.min. In a future version of pandas, the provided callable will be used directly. To keep current behavior pass the string \"min\" instead.\n",
            "  ).agg(to_agg)\n"
          ]
        }
      ],
      "source": [
        "# Creacion caracteristicas globales para tiendas (luego iremos filtrando)\n",
        "fc_config = {\n",
        "    'target_df': 'shops',  # El DataFrame que contiene información sobre las tiendas\n",
        "    'agg_primitives': [\n",
        "        'min',               # Mínimo\n",
        "        'max',               # Máximo\n",
        "        'mean',              # Promedio\n",
        "        'std',               # Desviación estándar\n",
        "        'sum',               # Suma\n",
        "        'count'              # Totales\n",
        "    ],\n",
        "    'trans_primitives': [\n",
        "        # Ya tenemos el month en este df_ws\n",
        "        # 'month',  # Extrae el mes para observar patrones estacionales a nivel semanal\n",
        "        'is_weekend'  # Indica si la semana incluye fines de semana\n",
        "    ],\n",
        "    'max_depth': 2  # Profundidad máxima de las características generadas\n",
        "}\n",
        "\n",
        "feature_matrix, feature_defs = fcm.create_features(df_items, df_shops, df_ws, fc_config)"
      ]
    },
    {
      "cell_type": "code",
      "source": [
        "feature_matrix.head()"
      ],
      "metadata": {
        "id": "5gHBNxHpHxDa",
        "colab": {
          "base_uri": "https://localhost:8080/",
          "height": 287
        },
        "outputId": "748c6526-0b01-4906-b8c4-43512deff6f3"
      },
      "execution_count": 10,
      "outputs": [
        {
          "output_type": "execute_result",
          "data": {
            "text/plain": [
              "            COUNT(sales)  MAX(sales.month)  MAX(sales.raw_earn)  \\\n",
              "store_code                                                        \n",
              "NYC_1            1090025              12.0              938.232   \n",
              "NYC_2             937591              12.0              458.451   \n",
              "NYC_3            1237088              12.0             1508.520   \n",
              "NYC_4             843046              12.0              465.000   \n",
              "BOS_1             866124              12.0              575.424   \n",
              "\n",
              "            MAX(sales.sell_price)  MAX(sales.units)  MAX(sales.week)  \\\n",
              "store_code                                                             \n",
              "NYC_1                     41.2034             260.0             53.0   \n",
              "NYC_2                     41.2034             185.0             53.0   \n",
              "NYC_3                     41.2034             376.0             53.0   \n",
              "NYC_4                     41.2034             300.0             53.0   \n",
              "BOS_1                     60.9750             323.0             53.0   \n",
              "\n",
              "            MAX(sales.weekday_number)  MAX(sales.year)  MEAN(sales.month)  \\\n",
              "store_code                                                                  \n",
              "NYC_1                             6.0           2016.0           5.996676   \n",
              "NYC_2                             6.0           2016.0           6.014574   \n",
              "NYC_3                             6.0           2016.0           5.973698   \n",
              "NYC_4                             6.0           2016.0           5.978209   \n",
              "BOS_1                             6.0           2016.0           5.968540   \n",
              "\n",
              "            MEAN(sales.raw_earn)  ...  STD(sales.week)  \\\n",
              "store_code                        ...                    \n",
              "NYC_1                  12.834098  ...        15.353946   \n",
              "NYC_2                  11.375500  ...        15.536503   \n",
              "NYC_3                  16.051698  ...        15.326362   \n",
              "NYC_4                   9.227017  ...        15.353289   \n",
              "BOS_1                  11.165976  ...        15.372303   \n",
              "\n",
              "            STD(sales.weekday_number)  STD(sales.year)  SUM(sales.month)  \\\n",
              "store_code                                                                 \n",
              "NYC_1                        2.035257         0.695401         6536527.0   \n",
              "NYC_2                        2.031580         0.710880         5639210.0   \n",
              "NYC_3                        2.027561         0.696121         7389990.0   \n",
              "NYC_4                        2.035564         0.699142         5039905.0   \n",
              "BOS_1                        2.034166         0.696255         5169496.0   \n",
              "\n",
              "            SUM(sales.raw_earn)  SUM(sales.sell_price)  SUM(sales.units)  \\\n",
              "store_code                                                                 \n",
              "NYC_1              1.398949e+07           5.431792e+06         3692451.0   \n",
              "NYC_2              1.066557e+07           4.692836e+06         2705376.0   \n",
              "NYC_3              1.985736e+07           6.192188e+06         5318014.0   \n",
              "NYC_4              7.778800e+06           4.080702e+06         2013616.0   \n",
              "BOS_1              9.671119e+06           4.159710e+06         2626055.0   \n",
              "\n",
              "            SUM(sales.week)  SUM(sales.weekday_number)  SUM(sales.year)  \n",
              "store_code                                                               \n",
              "NYC_1            26712944.0                  3406912.0     2.196112e+09  \n",
              "NYC_2            23102762.0                  2983687.0     1.889057e+09  \n",
              "NYC_3            30198468.0                  3802844.0     2.492403e+09  \n",
              "NYC_4            20600848.0                  2578568.0     1.698522e+09  \n",
              "BOS_1            21107029.0                  2696036.0     1.745016e+09  \n",
              "\n",
              "[5 rows x 36 columns]"
            ],
            "text/html": [
              "\n",
              "  <div id=\"df-6ea7e27f-d3e3-4be3-8305-9184462ec76e\" class=\"colab-df-container\">\n",
              "    <div>\n",
              "<style scoped>\n",
              "    .dataframe tbody tr th:only-of-type {\n",
              "        vertical-align: middle;\n",
              "    }\n",
              "\n",
              "    .dataframe tbody tr th {\n",
              "        vertical-align: top;\n",
              "    }\n",
              "\n",
              "    .dataframe thead th {\n",
              "        text-align: right;\n",
              "    }\n",
              "</style>\n",
              "<table border=\"1\" class=\"dataframe\">\n",
              "  <thead>\n",
              "    <tr style=\"text-align: right;\">\n",
              "      <th></th>\n",
              "      <th>COUNT(sales)</th>\n",
              "      <th>MAX(sales.month)</th>\n",
              "      <th>MAX(sales.raw_earn)</th>\n",
              "      <th>MAX(sales.sell_price)</th>\n",
              "      <th>MAX(sales.units)</th>\n",
              "      <th>MAX(sales.week)</th>\n",
              "      <th>MAX(sales.weekday_number)</th>\n",
              "      <th>MAX(sales.year)</th>\n",
              "      <th>MEAN(sales.month)</th>\n",
              "      <th>MEAN(sales.raw_earn)</th>\n",
              "      <th>...</th>\n",
              "      <th>STD(sales.week)</th>\n",
              "      <th>STD(sales.weekday_number)</th>\n",
              "      <th>STD(sales.year)</th>\n",
              "      <th>SUM(sales.month)</th>\n",
              "      <th>SUM(sales.raw_earn)</th>\n",
              "      <th>SUM(sales.sell_price)</th>\n",
              "      <th>SUM(sales.units)</th>\n",
              "      <th>SUM(sales.week)</th>\n",
              "      <th>SUM(sales.weekday_number)</th>\n",
              "      <th>SUM(sales.year)</th>\n",
              "    </tr>\n",
              "    <tr>\n",
              "      <th>store_code</th>\n",
              "      <th></th>\n",
              "      <th></th>\n",
              "      <th></th>\n",
              "      <th></th>\n",
              "      <th></th>\n",
              "      <th></th>\n",
              "      <th></th>\n",
              "      <th></th>\n",
              "      <th></th>\n",
              "      <th></th>\n",
              "      <th></th>\n",
              "      <th></th>\n",
              "      <th></th>\n",
              "      <th></th>\n",
              "      <th></th>\n",
              "      <th></th>\n",
              "      <th></th>\n",
              "      <th></th>\n",
              "      <th></th>\n",
              "      <th></th>\n",
              "      <th></th>\n",
              "    </tr>\n",
              "  </thead>\n",
              "  <tbody>\n",
              "    <tr>\n",
              "      <th>NYC_1</th>\n",
              "      <td>1090025</td>\n",
              "      <td>12.0</td>\n",
              "      <td>938.232</td>\n",
              "      <td>41.2034</td>\n",
              "      <td>260.0</td>\n",
              "      <td>53.0</td>\n",
              "      <td>6.0</td>\n",
              "      <td>2016.0</td>\n",
              "      <td>5.996676</td>\n",
              "      <td>12.834098</td>\n",
              "      <td>...</td>\n",
              "      <td>15.353946</td>\n",
              "      <td>2.035257</td>\n",
              "      <td>0.695401</td>\n",
              "      <td>6536527.0</td>\n",
              "      <td>1.398949e+07</td>\n",
              "      <td>5.431792e+06</td>\n",
              "      <td>3692451.0</td>\n",
              "      <td>26712944.0</td>\n",
              "      <td>3406912.0</td>\n",
              "      <td>2.196112e+09</td>\n",
              "    </tr>\n",
              "    <tr>\n",
              "      <th>NYC_2</th>\n",
              "      <td>937591</td>\n",
              "      <td>12.0</td>\n",
              "      <td>458.451</td>\n",
              "      <td>41.2034</td>\n",
              "      <td>185.0</td>\n",
              "      <td>53.0</td>\n",
              "      <td>6.0</td>\n",
              "      <td>2016.0</td>\n",
              "      <td>6.014574</td>\n",
              "      <td>11.375500</td>\n",
              "      <td>...</td>\n",
              "      <td>15.536503</td>\n",
              "      <td>2.031580</td>\n",
              "      <td>0.710880</td>\n",
              "      <td>5639210.0</td>\n",
              "      <td>1.066557e+07</td>\n",
              "      <td>4.692836e+06</td>\n",
              "      <td>2705376.0</td>\n",
              "      <td>23102762.0</td>\n",
              "      <td>2983687.0</td>\n",
              "      <td>1.889057e+09</td>\n",
              "    </tr>\n",
              "    <tr>\n",
              "      <th>NYC_3</th>\n",
              "      <td>1237088</td>\n",
              "      <td>12.0</td>\n",
              "      <td>1508.520</td>\n",
              "      <td>41.2034</td>\n",
              "      <td>376.0</td>\n",
              "      <td>53.0</td>\n",
              "      <td>6.0</td>\n",
              "      <td>2016.0</td>\n",
              "      <td>5.973698</td>\n",
              "      <td>16.051698</td>\n",
              "      <td>...</td>\n",
              "      <td>15.326362</td>\n",
              "      <td>2.027561</td>\n",
              "      <td>0.696121</td>\n",
              "      <td>7389990.0</td>\n",
              "      <td>1.985736e+07</td>\n",
              "      <td>6.192188e+06</td>\n",
              "      <td>5318014.0</td>\n",
              "      <td>30198468.0</td>\n",
              "      <td>3802844.0</td>\n",
              "      <td>2.492403e+09</td>\n",
              "    </tr>\n",
              "    <tr>\n",
              "      <th>NYC_4</th>\n",
              "      <td>843046</td>\n",
              "      <td>12.0</td>\n",
              "      <td>465.000</td>\n",
              "      <td>41.2034</td>\n",
              "      <td>300.0</td>\n",
              "      <td>53.0</td>\n",
              "      <td>6.0</td>\n",
              "      <td>2016.0</td>\n",
              "      <td>5.978209</td>\n",
              "      <td>9.227017</td>\n",
              "      <td>...</td>\n",
              "      <td>15.353289</td>\n",
              "      <td>2.035564</td>\n",
              "      <td>0.699142</td>\n",
              "      <td>5039905.0</td>\n",
              "      <td>7.778800e+06</td>\n",
              "      <td>4.080702e+06</td>\n",
              "      <td>2013616.0</td>\n",
              "      <td>20600848.0</td>\n",
              "      <td>2578568.0</td>\n",
              "      <td>1.698522e+09</td>\n",
              "    </tr>\n",
              "    <tr>\n",
              "      <th>BOS_1</th>\n",
              "      <td>866124</td>\n",
              "      <td>12.0</td>\n",
              "      <td>575.424</td>\n",
              "      <td>60.9750</td>\n",
              "      <td>323.0</td>\n",
              "      <td>53.0</td>\n",
              "      <td>6.0</td>\n",
              "      <td>2016.0</td>\n",
              "      <td>5.968540</td>\n",
              "      <td>11.165976</td>\n",
              "      <td>...</td>\n",
              "      <td>15.372303</td>\n",
              "      <td>2.034166</td>\n",
              "      <td>0.696255</td>\n",
              "      <td>5169496.0</td>\n",
              "      <td>9.671119e+06</td>\n",
              "      <td>4.159710e+06</td>\n",
              "      <td>2626055.0</td>\n",
              "      <td>21107029.0</td>\n",
              "      <td>2696036.0</td>\n",
              "      <td>1.745016e+09</td>\n",
              "    </tr>\n",
              "  </tbody>\n",
              "</table>\n",
              "<p>5 rows × 36 columns</p>\n",
              "</div>\n",
              "    <div class=\"colab-df-buttons\">\n",
              "\n",
              "  <div class=\"colab-df-container\">\n",
              "    <button class=\"colab-df-convert\" onclick=\"convertToInteractive('df-6ea7e27f-d3e3-4be3-8305-9184462ec76e')\"\n",
              "            title=\"Convert this dataframe to an interactive table.\"\n",
              "            style=\"display:none;\">\n",
              "\n",
              "  <svg xmlns=\"http://www.w3.org/2000/svg\" height=\"24px\" viewBox=\"0 -960 960 960\">\n",
              "    <path d=\"M120-120v-720h720v720H120Zm60-500h600v-160H180v160Zm220 220h160v-160H400v160Zm0 220h160v-160H400v160ZM180-400h160v-160H180v160Zm440 0h160v-160H620v160ZM180-180h160v-160H180v160Zm440 0h160v-160H620v160Z\"/>\n",
              "  </svg>\n",
              "    </button>\n",
              "\n",
              "  <style>\n",
              "    .colab-df-container {\n",
              "      display:flex;\n",
              "      gap: 12px;\n",
              "    }\n",
              "\n",
              "    .colab-df-convert {\n",
              "      background-color: #E8F0FE;\n",
              "      border: none;\n",
              "      border-radius: 50%;\n",
              "      cursor: pointer;\n",
              "      display: none;\n",
              "      fill: #1967D2;\n",
              "      height: 32px;\n",
              "      padding: 0 0 0 0;\n",
              "      width: 32px;\n",
              "    }\n",
              "\n",
              "    .colab-df-convert:hover {\n",
              "      background-color: #E2EBFA;\n",
              "      box-shadow: 0px 1px 2px rgba(60, 64, 67, 0.3), 0px 1px 3px 1px rgba(60, 64, 67, 0.15);\n",
              "      fill: #174EA6;\n",
              "    }\n",
              "\n",
              "    .colab-df-buttons div {\n",
              "      margin-bottom: 4px;\n",
              "    }\n",
              "\n",
              "    [theme=dark] .colab-df-convert {\n",
              "      background-color: #3B4455;\n",
              "      fill: #D2E3FC;\n",
              "    }\n",
              "\n",
              "    [theme=dark] .colab-df-convert:hover {\n",
              "      background-color: #434B5C;\n",
              "      box-shadow: 0px 1px 3px 1px rgba(0, 0, 0, 0.15);\n",
              "      filter: drop-shadow(0px 1px 2px rgba(0, 0, 0, 0.3));\n",
              "      fill: #FFFFFF;\n",
              "    }\n",
              "  </style>\n",
              "\n",
              "    <script>\n",
              "      const buttonEl =\n",
              "        document.querySelector('#df-6ea7e27f-d3e3-4be3-8305-9184462ec76e button.colab-df-convert');\n",
              "      buttonEl.style.display =\n",
              "        google.colab.kernel.accessAllowed ? 'block' : 'none';\n",
              "\n",
              "      async function convertToInteractive(key) {\n",
              "        const element = document.querySelector('#df-6ea7e27f-d3e3-4be3-8305-9184462ec76e');\n",
              "        const dataTable =\n",
              "          await google.colab.kernel.invokeFunction('convertToInteractive',\n",
              "                                                    [key], {});\n",
              "        if (!dataTable) return;\n",
              "\n",
              "        const docLinkHtml = 'Like what you see? Visit the ' +\n",
              "          '<a target=\"_blank\" href=https://colab.research.google.com/notebooks/data_table.ipynb>data table notebook</a>'\n",
              "          + ' to learn more about interactive tables.';\n",
              "        element.innerHTML = '';\n",
              "        dataTable['output_type'] = 'display_data';\n",
              "        await google.colab.output.renderOutput(dataTable, element);\n",
              "        const docLink = document.createElement('div');\n",
              "        docLink.innerHTML = docLinkHtml;\n",
              "        element.appendChild(docLink);\n",
              "      }\n",
              "    </script>\n",
              "  </div>\n",
              "\n",
              "\n",
              "<div id=\"df-6609fc08-87bc-49c2-ad79-6aee2e0eb088\">\n",
              "  <button class=\"colab-df-quickchart\" onclick=\"quickchart('df-6609fc08-87bc-49c2-ad79-6aee2e0eb088')\"\n",
              "            title=\"Suggest charts\"\n",
              "            style=\"display:none;\">\n",
              "\n",
              "<svg xmlns=\"http://www.w3.org/2000/svg\" height=\"24px\"viewBox=\"0 0 24 24\"\n",
              "     width=\"24px\">\n",
              "    <g>\n",
              "        <path d=\"M19 3H5c-1.1 0-2 .9-2 2v14c0 1.1.9 2 2 2h14c1.1 0 2-.9 2-2V5c0-1.1-.9-2-2-2zM9 17H7v-7h2v7zm4 0h-2V7h2v10zm4 0h-2v-4h2v4z\"/>\n",
              "    </g>\n",
              "</svg>\n",
              "  </button>\n",
              "\n",
              "<style>\n",
              "  .colab-df-quickchart {\n",
              "      --bg-color: #E8F0FE;\n",
              "      --fill-color: #1967D2;\n",
              "      --hover-bg-color: #E2EBFA;\n",
              "      --hover-fill-color: #174EA6;\n",
              "      --disabled-fill-color: #AAA;\n",
              "      --disabled-bg-color: #DDD;\n",
              "  }\n",
              "\n",
              "  [theme=dark] .colab-df-quickchart {\n",
              "      --bg-color: #3B4455;\n",
              "      --fill-color: #D2E3FC;\n",
              "      --hover-bg-color: #434B5C;\n",
              "      --hover-fill-color: #FFFFFF;\n",
              "      --disabled-bg-color: #3B4455;\n",
              "      --disabled-fill-color: #666;\n",
              "  }\n",
              "\n",
              "  .colab-df-quickchart {\n",
              "    background-color: var(--bg-color);\n",
              "    border: none;\n",
              "    border-radius: 50%;\n",
              "    cursor: pointer;\n",
              "    display: none;\n",
              "    fill: var(--fill-color);\n",
              "    height: 32px;\n",
              "    padding: 0;\n",
              "    width: 32px;\n",
              "  }\n",
              "\n",
              "  .colab-df-quickchart:hover {\n",
              "    background-color: var(--hover-bg-color);\n",
              "    box-shadow: 0 1px 2px rgba(60, 64, 67, 0.3), 0 1px 3px 1px rgba(60, 64, 67, 0.15);\n",
              "    fill: var(--button-hover-fill-color);\n",
              "  }\n",
              "\n",
              "  .colab-df-quickchart-complete:disabled,\n",
              "  .colab-df-quickchart-complete:disabled:hover {\n",
              "    background-color: var(--disabled-bg-color);\n",
              "    fill: var(--disabled-fill-color);\n",
              "    box-shadow: none;\n",
              "  }\n",
              "\n",
              "  .colab-df-spinner {\n",
              "    border: 2px solid var(--fill-color);\n",
              "    border-color: transparent;\n",
              "    border-bottom-color: var(--fill-color);\n",
              "    animation:\n",
              "      spin 1s steps(1) infinite;\n",
              "  }\n",
              "\n",
              "  @keyframes spin {\n",
              "    0% {\n",
              "      border-color: transparent;\n",
              "      border-bottom-color: var(--fill-color);\n",
              "      border-left-color: var(--fill-color);\n",
              "    }\n",
              "    20% {\n",
              "      border-color: transparent;\n",
              "      border-left-color: var(--fill-color);\n",
              "      border-top-color: var(--fill-color);\n",
              "    }\n",
              "    30% {\n",
              "      border-color: transparent;\n",
              "      border-left-color: var(--fill-color);\n",
              "      border-top-color: var(--fill-color);\n",
              "      border-right-color: var(--fill-color);\n",
              "    }\n",
              "    40% {\n",
              "      border-color: transparent;\n",
              "      border-right-color: var(--fill-color);\n",
              "      border-top-color: var(--fill-color);\n",
              "    }\n",
              "    60% {\n",
              "      border-color: transparent;\n",
              "      border-right-color: var(--fill-color);\n",
              "    }\n",
              "    80% {\n",
              "      border-color: transparent;\n",
              "      border-right-color: var(--fill-color);\n",
              "      border-bottom-color: var(--fill-color);\n",
              "    }\n",
              "    90% {\n",
              "      border-color: transparent;\n",
              "      border-bottom-color: var(--fill-color);\n",
              "    }\n",
              "  }\n",
              "</style>\n",
              "\n",
              "  <script>\n",
              "    async function quickchart(key) {\n",
              "      const quickchartButtonEl =\n",
              "        document.querySelector('#' + key + ' button');\n",
              "      quickchartButtonEl.disabled = true;  // To prevent multiple clicks.\n",
              "      quickchartButtonEl.classList.add('colab-df-spinner');\n",
              "      try {\n",
              "        const charts = await google.colab.kernel.invokeFunction(\n",
              "            'suggestCharts', [key], {});\n",
              "      } catch (error) {\n",
              "        console.error('Error during call to suggestCharts:', error);\n",
              "      }\n",
              "      quickchartButtonEl.classList.remove('colab-df-spinner');\n",
              "      quickchartButtonEl.classList.add('colab-df-quickchart-complete');\n",
              "    }\n",
              "    (() => {\n",
              "      let quickchartButtonEl =\n",
              "        document.querySelector('#df-6609fc08-87bc-49c2-ad79-6aee2e0eb088 button');\n",
              "      quickchartButtonEl.style.display =\n",
              "        google.colab.kernel.accessAllowed ? 'block' : 'none';\n",
              "    })();\n",
              "  </script>\n",
              "</div>\n",
              "\n",
              "    </div>\n",
              "  </div>\n"
            ],
            "application/vnd.google.colaboratory.intrinsic+json": {
              "type": "dataframe",
              "variable_name": "feature_matrix"
            }
          },
          "metadata": {},
          "execution_count": 10
        }
      ]
    },
    {
      "cell_type": "markdown",
      "source": [
        "## Descripciones"
      ],
      "metadata": {
        "id": "xPiqwbtRBiQi"
      }
    },
    {
      "cell_type": "code",
      "source": [
        "# Revision definiciones caracteristicas creadas\n",
        "features_descriptions = fcm.get_features_descriptions(feature_defs)\n",
        "\n",
        "display(type(features_descriptions))\n",
        "\n",
        "display(features_descriptions)"
      ],
      "metadata": {
        "id": "W-KUntBiBdxi",
        "colab": {
          "base_uri": "https://localhost:8080/",
          "height": 676
        },
        "outputId": "6b8ee056-24e2-4554-a60d-41f976c1061b"
      },
      "execution_count": 11,
      "outputs": [
        {
          "output_type": "display_data",
          "data": {
            "text/plain": [
              "list"
            ]
          },
          "metadata": {}
        },
        {
          "output_type": "display_data",
          "data": {
            "text/plain": [
              "['<Feature: COUNT(sales)>: The number of all instances of \"sales\" for each \"store_code\" in \"shops\".',\n",
              " '<Feature: MAX(sales.month)>: The maximum of the \"month\" of all instances of \"sales\" for each \"store_code\" in \"shops\".',\n",
              " '<Feature: MAX(sales.raw_earn)>: The maximum of the \"raw_earn\" of all instances of \"sales\" for each \"store_code\" in \"shops\".',\n",
              " '<Feature: MAX(sales.sell_price)>: The maximum of the \"sell_price\" of all instances of \"sales\" for each \"store_code\" in \"shops\".',\n",
              " '<Feature: MAX(sales.units)>: The maximum of the \"units\" of all instances of \"sales\" for each \"store_code\" in \"shops\".',\n",
              " '<Feature: MAX(sales.week)>: The maximum of the \"week\" of all instances of \"sales\" for each \"store_code\" in \"shops\".',\n",
              " '<Feature: MAX(sales.weekday_number)>: The maximum of the \"weekday_number\" of all instances of \"sales\" for each \"store_code\" in \"shops\".',\n",
              " '<Feature: MAX(sales.year)>: The maximum of the \"year\" of all instances of \"sales\" for each \"store_code\" in \"shops\".',\n",
              " '<Feature: MEAN(sales.month)>: The average of the \"month\" of all instances of \"sales\" for each \"store_code\" in \"shops\".',\n",
              " '<Feature: MEAN(sales.raw_earn)>: The average of the \"raw_earn\" of all instances of \"sales\" for each \"store_code\" in \"shops\".',\n",
              " '<Feature: MEAN(sales.sell_price)>: The average of the \"sell_price\" of all instances of \"sales\" for each \"store_code\" in \"shops\".',\n",
              " '<Feature: MEAN(sales.units)>: The average of the \"units\" of all instances of \"sales\" for each \"store_code\" in \"shops\".',\n",
              " '<Feature: MEAN(sales.week)>: The average of the \"week\" of all instances of \"sales\" for each \"store_code\" in \"shops\".',\n",
              " '<Feature: MEAN(sales.weekday_number)>: The average of the \"weekday_number\" of all instances of \"sales\" for each \"store_code\" in \"shops\".',\n",
              " '<Feature: MEAN(sales.year)>: The average of the \"year\" of all instances of \"sales\" for each \"store_code\" in \"shops\".',\n",
              " '<Feature: MIN(sales.month)>: The minimum of the \"month\" of all instances of \"sales\" for each \"store_code\" in \"shops\".',\n",
              " '<Feature: MIN(sales.raw_earn)>: The minimum of the \"raw_earn\" of all instances of \"sales\" for each \"store_code\" in \"shops\".',\n",
              " '<Feature: MIN(sales.sell_price)>: The minimum of the \"sell_price\" of all instances of \"sales\" for each \"store_code\" in \"shops\".',\n",
              " '<Feature: MIN(sales.units)>: The minimum of the \"units\" of all instances of \"sales\" for each \"store_code\" in \"shops\".',\n",
              " '<Feature: MIN(sales.week)>: The minimum of the \"week\" of all instances of \"sales\" for each \"store_code\" in \"shops\".',\n",
              " '<Feature: MIN(sales.weekday_number)>: The minimum of the \"weekday_number\" of all instances of \"sales\" for each \"store_code\" in \"shops\".',\n",
              " '<Feature: MIN(sales.year)>: The minimum of the \"year\" of all instances of \"sales\" for each \"store_code\" in \"shops\".',\n",
              " '<Feature: STD(sales.month)>: The standard deviation of the \"month\" of all instances of \"sales\" for each \"store_code\" in \"shops\".',\n",
              " '<Feature: STD(sales.raw_earn)>: The standard deviation of the \"raw_earn\" of all instances of \"sales\" for each \"store_code\" in \"shops\".',\n",
              " '<Feature: STD(sales.sell_price)>: The standard deviation of the \"sell_price\" of all instances of \"sales\" for each \"store_code\" in \"shops\".',\n",
              " '<Feature: STD(sales.units)>: The standard deviation of the \"units\" of all instances of \"sales\" for each \"store_code\" in \"shops\".',\n",
              " '<Feature: STD(sales.week)>: The standard deviation of the \"week\" of all instances of \"sales\" for each \"store_code\" in \"shops\".',\n",
              " '<Feature: STD(sales.weekday_number)>: The standard deviation of the \"weekday_number\" of all instances of \"sales\" for each \"store_code\" in \"shops\".',\n",
              " '<Feature: STD(sales.year)>: The standard deviation of the \"year\" of all instances of \"sales\" for each \"store_code\" in \"shops\".',\n",
              " '<Feature: SUM(sales.month)>: The sum of the \"month\" of all instances of \"sales\" for each \"store_code\" in \"shops\".',\n",
              " '<Feature: SUM(sales.raw_earn)>: The sum of the \"raw_earn\" of all instances of \"sales\" for each \"store_code\" in \"shops\".',\n",
              " '<Feature: SUM(sales.sell_price)>: The sum of the \"sell_price\" of all instances of \"sales\" for each \"store_code\" in \"shops\".',\n",
              " '<Feature: SUM(sales.units)>: The sum of the \"units\" of all instances of \"sales\" for each \"store_code\" in \"shops\".',\n",
              " '<Feature: SUM(sales.week)>: The sum of the \"week\" of all instances of \"sales\" for each \"store_code\" in \"shops\".',\n",
              " '<Feature: SUM(sales.weekday_number)>: The sum of the \"weekday_number\" of all instances of \"sales\" for each \"store_code\" in \"shops\".',\n",
              " '<Feature: SUM(sales.year)>: The sum of the \"year\" of all instances of \"sales\" for each \"store_code\" in \"shops\".']"
            ]
          },
          "metadata": {}
        }
      ]
    },
    {
      "cell_type": "markdown",
      "metadata": {
        "id": "7usXA9Da9fsW"
      },
      "source": [
        "# **TIENDAS: PERFORMANCE VENTAS GENERAL**  \n",
        "  \n",
        "Esta configuración se centra en la evaluación general del rendimiento de ventas en cada tienda.\n",
        "\n",
        "\n",
        "___\n",
        "___"
      ]
    },
    {
      "cell_type": "markdown",
      "source": [
        "## Selección caracteristicas"
      ],
      "metadata": {
        "id": "gEoGrJeVBH9i"
      }
    },
    {
      "cell_type": "code",
      "source": [
        "# V4 -> Probamos solo con las caracteristicas de ventas\n",
        "substrings = ['units', 'raw_earn']\n",
        "feat_selected = fcm.select_features(features_descriptions, substrings)\n",
        "feature_matrix_selected = feature_matrix[feat_selected].copy()\n",
        "print(f'Length Feats Selected: {feature_matrix_selected.shape}')\n",
        "\n",
        "# display(feature_matrix_selected.head(5))\n",
        "\n",
        "# Aplicar filtros a las caracteristicas creadas\n",
        "# Remove low information, highly correlated, highly null and single value features\n",
        "filtered_feature_matrix = fcm.filter_feature_matrix(feature_matrix_selected)\n",
        "\n",
        "# Renombrar características si es necesario # Evitamos este paso de momento\n",
        "# feature_matrix_renamed = fcm.rename_features(filtered_feature_matrix, price_range_features)\n",
        "feature_matrix_renamed = filtered_feature_matrix.copy()\n",
        "\n",
        "display(feature_matrix_renamed.head(5))"
      ],
      "metadata": {
        "id": "HLb3hKECBIYA",
        "colab": {
          "base_uri": "https://localhost:8080/",
          "height": 324
        },
        "outputId": "95670664-4672-4c88-87c0-72e772e3c063"
      },
      "execution_count": 12,
      "outputs": [
        {
          "output_type": "stream",
          "name": "stdout",
          "text": [
            "Length Feats Selected: (10, 10)\n",
            "- - - - - - - - - - - - - - - - - - - - - - - - - - - - - - - - - - - - - - - - - - - - - - - - - - - - - - - - - - - - \n",
            "Shape before filtering: 10\n",
            "Shape after filtering: 5\n",
            "- - - - - - - - - - - - - - - - - - - - - - - - - - - - - - - - - - - - - - - - - - - - - - - - - - - - - - - - - - - - \n"
          ]
        },
        {
          "output_type": "display_data",
          "data": {
            "text/plain": [
              "            MAX(sales.raw_earn)  MAX(sales.units)  MEAN(sales.raw_earn)  \\\n",
              "store_code                                                                \n",
              "NYC_1                   938.232             260.0             12.834098   \n",
              "NYC_2                   458.451             185.0             11.375500   \n",
              "NYC_3                  1508.520             376.0             16.051698   \n",
              "NYC_4                   465.000             300.0              9.227017   \n",
              "BOS_1                   575.424             323.0             11.165976   \n",
              "\n",
              "            MIN(sales.raw_earn)  STD(sales.raw_earn)  \n",
              "store_code                                            \n",
              "NYC_1                    0.0665            18.205904  \n",
              "NYC_2                    0.2400            13.294661  \n",
              "NYC_3                    0.2400            24.534254  \n",
              "NYC_4                    0.2400            10.458066  \n",
              "BOS_1                    0.0600            14.811843  "
            ],
            "text/html": [
              "\n",
              "  <div id=\"df-24bdf62b-dd3a-4a66-a667-ce59627b571c\" class=\"colab-df-container\">\n",
              "    <div>\n",
              "<style scoped>\n",
              "    .dataframe tbody tr th:only-of-type {\n",
              "        vertical-align: middle;\n",
              "    }\n",
              "\n",
              "    .dataframe tbody tr th {\n",
              "        vertical-align: top;\n",
              "    }\n",
              "\n",
              "    .dataframe thead th {\n",
              "        text-align: right;\n",
              "    }\n",
              "</style>\n",
              "<table border=\"1\" class=\"dataframe\">\n",
              "  <thead>\n",
              "    <tr style=\"text-align: right;\">\n",
              "      <th></th>\n",
              "      <th>MAX(sales.raw_earn)</th>\n",
              "      <th>MAX(sales.units)</th>\n",
              "      <th>MEAN(sales.raw_earn)</th>\n",
              "      <th>MIN(sales.raw_earn)</th>\n",
              "      <th>STD(sales.raw_earn)</th>\n",
              "    </tr>\n",
              "    <tr>\n",
              "      <th>store_code</th>\n",
              "      <th></th>\n",
              "      <th></th>\n",
              "      <th></th>\n",
              "      <th></th>\n",
              "      <th></th>\n",
              "    </tr>\n",
              "  </thead>\n",
              "  <tbody>\n",
              "    <tr>\n",
              "      <th>NYC_1</th>\n",
              "      <td>938.232</td>\n",
              "      <td>260.0</td>\n",
              "      <td>12.834098</td>\n",
              "      <td>0.0665</td>\n",
              "      <td>18.205904</td>\n",
              "    </tr>\n",
              "    <tr>\n",
              "      <th>NYC_2</th>\n",
              "      <td>458.451</td>\n",
              "      <td>185.0</td>\n",
              "      <td>11.375500</td>\n",
              "      <td>0.2400</td>\n",
              "      <td>13.294661</td>\n",
              "    </tr>\n",
              "    <tr>\n",
              "      <th>NYC_3</th>\n",
              "      <td>1508.520</td>\n",
              "      <td>376.0</td>\n",
              "      <td>16.051698</td>\n",
              "      <td>0.2400</td>\n",
              "      <td>24.534254</td>\n",
              "    </tr>\n",
              "    <tr>\n",
              "      <th>NYC_4</th>\n",
              "      <td>465.000</td>\n",
              "      <td>300.0</td>\n",
              "      <td>9.227017</td>\n",
              "      <td>0.2400</td>\n",
              "      <td>10.458066</td>\n",
              "    </tr>\n",
              "    <tr>\n",
              "      <th>BOS_1</th>\n",
              "      <td>575.424</td>\n",
              "      <td>323.0</td>\n",
              "      <td>11.165976</td>\n",
              "      <td>0.0600</td>\n",
              "      <td>14.811843</td>\n",
              "    </tr>\n",
              "  </tbody>\n",
              "</table>\n",
              "</div>\n",
              "    <div class=\"colab-df-buttons\">\n",
              "\n",
              "  <div class=\"colab-df-container\">\n",
              "    <button class=\"colab-df-convert\" onclick=\"convertToInteractive('df-24bdf62b-dd3a-4a66-a667-ce59627b571c')\"\n",
              "            title=\"Convert this dataframe to an interactive table.\"\n",
              "            style=\"display:none;\">\n",
              "\n",
              "  <svg xmlns=\"http://www.w3.org/2000/svg\" height=\"24px\" viewBox=\"0 -960 960 960\">\n",
              "    <path d=\"M120-120v-720h720v720H120Zm60-500h600v-160H180v160Zm220 220h160v-160H400v160Zm0 220h160v-160H400v160ZM180-400h160v-160H180v160Zm440 0h160v-160H620v160ZM180-180h160v-160H180v160Zm440 0h160v-160H620v160Z\"/>\n",
              "  </svg>\n",
              "    </button>\n",
              "\n",
              "  <style>\n",
              "    .colab-df-container {\n",
              "      display:flex;\n",
              "      gap: 12px;\n",
              "    }\n",
              "\n",
              "    .colab-df-convert {\n",
              "      background-color: #E8F0FE;\n",
              "      border: none;\n",
              "      border-radius: 50%;\n",
              "      cursor: pointer;\n",
              "      display: none;\n",
              "      fill: #1967D2;\n",
              "      height: 32px;\n",
              "      padding: 0 0 0 0;\n",
              "      width: 32px;\n",
              "    }\n",
              "\n",
              "    .colab-df-convert:hover {\n",
              "      background-color: #E2EBFA;\n",
              "      box-shadow: 0px 1px 2px rgba(60, 64, 67, 0.3), 0px 1px 3px 1px rgba(60, 64, 67, 0.15);\n",
              "      fill: #174EA6;\n",
              "    }\n",
              "\n",
              "    .colab-df-buttons div {\n",
              "      margin-bottom: 4px;\n",
              "    }\n",
              "\n",
              "    [theme=dark] .colab-df-convert {\n",
              "      background-color: #3B4455;\n",
              "      fill: #D2E3FC;\n",
              "    }\n",
              "\n",
              "    [theme=dark] .colab-df-convert:hover {\n",
              "      background-color: #434B5C;\n",
              "      box-shadow: 0px 1px 3px 1px rgba(0, 0, 0, 0.15);\n",
              "      filter: drop-shadow(0px 1px 2px rgba(0, 0, 0, 0.3));\n",
              "      fill: #FFFFFF;\n",
              "    }\n",
              "  </style>\n",
              "\n",
              "    <script>\n",
              "      const buttonEl =\n",
              "        document.querySelector('#df-24bdf62b-dd3a-4a66-a667-ce59627b571c button.colab-df-convert');\n",
              "      buttonEl.style.display =\n",
              "        google.colab.kernel.accessAllowed ? 'block' : 'none';\n",
              "\n",
              "      async function convertToInteractive(key) {\n",
              "        const element = document.querySelector('#df-24bdf62b-dd3a-4a66-a667-ce59627b571c');\n",
              "        const dataTable =\n",
              "          await google.colab.kernel.invokeFunction('convertToInteractive',\n",
              "                                                    [key], {});\n",
              "        if (!dataTable) return;\n",
              "\n",
              "        const docLinkHtml = 'Like what you see? Visit the ' +\n",
              "          '<a target=\"_blank\" href=https://colab.research.google.com/notebooks/data_table.ipynb>data table notebook</a>'\n",
              "          + ' to learn more about interactive tables.';\n",
              "        element.innerHTML = '';\n",
              "        dataTable['output_type'] = 'display_data';\n",
              "        await google.colab.output.renderOutput(dataTable, element);\n",
              "        const docLink = document.createElement('div');\n",
              "        docLink.innerHTML = docLinkHtml;\n",
              "        element.appendChild(docLink);\n",
              "      }\n",
              "    </script>\n",
              "  </div>\n",
              "\n",
              "\n",
              "<div id=\"df-e646dde2-801e-44fe-8f0c-77fb6f90e3ca\">\n",
              "  <button class=\"colab-df-quickchart\" onclick=\"quickchart('df-e646dde2-801e-44fe-8f0c-77fb6f90e3ca')\"\n",
              "            title=\"Suggest charts\"\n",
              "            style=\"display:none;\">\n",
              "\n",
              "<svg xmlns=\"http://www.w3.org/2000/svg\" height=\"24px\"viewBox=\"0 0 24 24\"\n",
              "     width=\"24px\">\n",
              "    <g>\n",
              "        <path d=\"M19 3H5c-1.1 0-2 .9-2 2v14c0 1.1.9 2 2 2h14c1.1 0 2-.9 2-2V5c0-1.1-.9-2-2-2zM9 17H7v-7h2v7zm4 0h-2V7h2v10zm4 0h-2v-4h2v4z\"/>\n",
              "    </g>\n",
              "</svg>\n",
              "  </button>\n",
              "\n",
              "<style>\n",
              "  .colab-df-quickchart {\n",
              "      --bg-color: #E8F0FE;\n",
              "      --fill-color: #1967D2;\n",
              "      --hover-bg-color: #E2EBFA;\n",
              "      --hover-fill-color: #174EA6;\n",
              "      --disabled-fill-color: #AAA;\n",
              "      --disabled-bg-color: #DDD;\n",
              "  }\n",
              "\n",
              "  [theme=dark] .colab-df-quickchart {\n",
              "      --bg-color: #3B4455;\n",
              "      --fill-color: #D2E3FC;\n",
              "      --hover-bg-color: #434B5C;\n",
              "      --hover-fill-color: #FFFFFF;\n",
              "      --disabled-bg-color: #3B4455;\n",
              "      --disabled-fill-color: #666;\n",
              "  }\n",
              "\n",
              "  .colab-df-quickchart {\n",
              "    background-color: var(--bg-color);\n",
              "    border: none;\n",
              "    border-radius: 50%;\n",
              "    cursor: pointer;\n",
              "    display: none;\n",
              "    fill: var(--fill-color);\n",
              "    height: 32px;\n",
              "    padding: 0;\n",
              "    width: 32px;\n",
              "  }\n",
              "\n",
              "  .colab-df-quickchart:hover {\n",
              "    background-color: var(--hover-bg-color);\n",
              "    box-shadow: 0 1px 2px rgba(60, 64, 67, 0.3), 0 1px 3px 1px rgba(60, 64, 67, 0.15);\n",
              "    fill: var(--button-hover-fill-color);\n",
              "  }\n",
              "\n",
              "  .colab-df-quickchart-complete:disabled,\n",
              "  .colab-df-quickchart-complete:disabled:hover {\n",
              "    background-color: var(--disabled-bg-color);\n",
              "    fill: var(--disabled-fill-color);\n",
              "    box-shadow: none;\n",
              "  }\n",
              "\n",
              "  .colab-df-spinner {\n",
              "    border: 2px solid var(--fill-color);\n",
              "    border-color: transparent;\n",
              "    border-bottom-color: var(--fill-color);\n",
              "    animation:\n",
              "      spin 1s steps(1) infinite;\n",
              "  }\n",
              "\n",
              "  @keyframes spin {\n",
              "    0% {\n",
              "      border-color: transparent;\n",
              "      border-bottom-color: var(--fill-color);\n",
              "      border-left-color: var(--fill-color);\n",
              "    }\n",
              "    20% {\n",
              "      border-color: transparent;\n",
              "      border-left-color: var(--fill-color);\n",
              "      border-top-color: var(--fill-color);\n",
              "    }\n",
              "    30% {\n",
              "      border-color: transparent;\n",
              "      border-left-color: var(--fill-color);\n",
              "      border-top-color: var(--fill-color);\n",
              "      border-right-color: var(--fill-color);\n",
              "    }\n",
              "    40% {\n",
              "      border-color: transparent;\n",
              "      border-right-color: var(--fill-color);\n",
              "      border-top-color: var(--fill-color);\n",
              "    }\n",
              "    60% {\n",
              "      border-color: transparent;\n",
              "      border-right-color: var(--fill-color);\n",
              "    }\n",
              "    80% {\n",
              "      border-color: transparent;\n",
              "      border-right-color: var(--fill-color);\n",
              "      border-bottom-color: var(--fill-color);\n",
              "    }\n",
              "    90% {\n",
              "      border-color: transparent;\n",
              "      border-bottom-color: var(--fill-color);\n",
              "    }\n",
              "  }\n",
              "</style>\n",
              "\n",
              "  <script>\n",
              "    async function quickchart(key) {\n",
              "      const quickchartButtonEl =\n",
              "        document.querySelector('#' + key + ' button');\n",
              "      quickchartButtonEl.disabled = true;  // To prevent multiple clicks.\n",
              "      quickchartButtonEl.classList.add('colab-df-spinner');\n",
              "      try {\n",
              "        const charts = await google.colab.kernel.invokeFunction(\n",
              "            'suggestCharts', [key], {});\n",
              "      } catch (error) {\n",
              "        console.error('Error during call to suggestCharts:', error);\n",
              "      }\n",
              "      quickchartButtonEl.classList.remove('colab-df-spinner');\n",
              "      quickchartButtonEl.classList.add('colab-df-quickchart-complete');\n",
              "    }\n",
              "    (() => {\n",
              "      let quickchartButtonEl =\n",
              "        document.querySelector('#df-e646dde2-801e-44fe-8f0c-77fb6f90e3ca button');\n",
              "      quickchartButtonEl.style.display =\n",
              "        google.colab.kernel.accessAllowed ? 'block' : 'none';\n",
              "    })();\n",
              "  </script>\n",
              "</div>\n",
              "\n",
              "    </div>\n",
              "  </div>\n"
            ],
            "application/vnd.google.colaboratory.intrinsic+json": {
              "type": "dataframe",
              "summary": "{\n  \"name\": \"display(feature_matrix_renamed\",\n  \"rows\": 5,\n  \"fields\": [\n    {\n      \"column\": \"store_code\",\n      \"properties\": {\n        \"dtype\": \"string\",\n        \"num_unique_values\": 5,\n        \"samples\": [\n          \"NYC_2\",\n          \"BOS_1\",\n          \"NYC_3\"\n        ],\n        \"semantic_type\": \"\",\n        \"description\": \"\"\n      }\n    },\n    {\n      \"column\": \"MAX(sales.raw_earn)\",\n      \"properties\": {\n        \"dtype\": \"number\",\n        \"std\": 447.1667727971299,\n        \"min\": 458.451,\n        \"max\": 1508.52,\n        \"num_unique_values\": 5,\n        \"samples\": [\n          458.451,\n          575.424,\n          1508.52\n        ],\n        \"semantic_type\": \"\",\n        \"description\": \"\"\n      }\n    },\n    {\n      \"column\": \"MAX(sales.units)\",\n      \"properties\": {\n        \"dtype\": \"number\",\n        \"std\": 71.59399416152168,\n        \"min\": 185.0,\n        \"max\": 376.0,\n        \"num_unique_values\": 5,\n        \"samples\": [\n          185.0,\n          323.0,\n          376.0\n        ],\n        \"semantic_type\": \"\",\n        \"description\": \"\"\n      }\n    },\n    {\n      \"column\": \"MEAN(sales.raw_earn)\",\n      \"properties\": {\n        \"dtype\": \"number\",\n        \"std\": 2.539753333184103,\n        \"min\": 9.227016881759715,\n        \"max\": 16.051697757233114,\n        \"num_unique_values\": 5,\n        \"samples\": [\n          11.375500027410673,\n          11.165975636975768,\n          16.051697757233114\n        ],\n        \"semantic_type\": \"\",\n        \"description\": \"\"\n      }\n    },\n    {\n      \"column\": \"MIN(sales.raw_earn)\",\n      \"properties\": {\n        \"dtype\": \"number\",\n        \"std\": 0.0968372345743103,\n        \"min\": 0.06,\n        \"max\": 0.24,\n        \"num_unique_values\": 3,\n        \"samples\": [\n          0.0665,\n          0.24,\n          0.06\n        ],\n        \"semantic_type\": \"\",\n        \"description\": \"\"\n      }\n    },\n    {\n      \"column\": \"STD(sales.raw_earn)\",\n      \"properties\": {\n        \"dtype\": \"number\",\n        \"std\": 5.40376375251045,\n        \"min\": 10.458066052165965,\n        \"max\": 24.534253977996958,\n        \"num_unique_values\": 5,\n        \"samples\": [\n          13.294660514578661,\n          14.811843383681115,\n          24.534253977996958\n        ],\n        \"semantic_type\": \"\",\n        \"description\": \"\"\n      }\n    }\n  ]\n}"
            }
          },
          "metadata": {}
        }
      ]
    },
    {
      "cell_type": "markdown",
      "source": [
        "## Preprocesamiento datos"
      ],
      "metadata": {
        "id": "D351FLjlB6A0"
      }
    },
    {
      "cell_type": "code",
      "source": [
        "scaled_df = pm.preprocess_features(feature_matrix_renamed)"
      ],
      "metadata": {
        "id": "gz4C2fg2B6Tp",
        "colab": {
          "base_uri": "https://localhost:8080/"
        },
        "outputId": "08e9fbf2-411d-45ee-d649-e56f853dc8b4"
      },
      "execution_count": 13,
      "outputs": [
        {
          "output_type": "stream",
          "name": "stdout",
          "text": [
            "Cat cols: 0\n",
            "Num cols: 5\n"
          ]
        }
      ]
    },
    {
      "cell_type": "markdown",
      "source": [
        "## Kmeans"
      ],
      "metadata": {
        "id": "-xEbi4vZCBQg"
      }
    },
    {
      "cell_type": "markdown",
      "source": [
        "Elbow & Silhoutee"
      ],
      "metadata": {
        "id": "msQ1E2x5CuQY"
      }
    },
    {
      "cell_type": "code",
      "source": [
        "km_m.plot_elbow_silhouette(scaled_df, 9)"
      ],
      "metadata": {
        "id": "j9ZIsyQHCBR2",
        "colab": {
          "base_uri": "https://localhost:8080/",
          "height": 490
        },
        "outputId": "8ba8b10e-0675-4df6-b99b-cf2b7f3b36a4"
      },
      "execution_count": 14,
      "outputs": [
        {
          "output_type": "display_data",
          "data": {
            "text/plain": [
              "<Figure size 1400x600 with 2 Axes>"
            ],
            "image/png": "[encoded data removed]"
          },
          "metadata": {}
        }
      ]
    },
    {
      "cell_type": "code",
      "source": [
        "optimal_k = 6 # codo + silueta\n",
        "\n",
        "kmeans_model, feature_matrix_with_clusters = km_m.apply_kmeans_and_plot(optimal_k, scaled_df, feature_matrix_renamed)\n",
        "\n",
        "feature_matrix_with_clusters.head(5)"
      ],
      "metadata": {
        "id": "SjW9aMpVC1wh",
        "colab": {
          "base_uri": "https://localhost:8080/",
          "height": 785
        },
        "outputId": "f9d03c23-9b96-4bf8-a3c4-a58c5fa52133"
      },
      "execution_count": 15,
      "outputs": [
        {
          "output_type": "display_data",
          "data": {
            "text/plain": [
              "<Figure size 1000x600 with 1 Axes>"
            ],
            "image/png": "[encoded data removed]"
          },
          "metadata": {}
        },
        {
          "output_type": "execute_result",
          "data": {
            "text/plain": [
              "            MAX(sales.raw_earn)  MAX(sales.units)  MEAN(sales.raw_earn)  \\\n",
              "store_code                                                                \n",
              "NYC_1                   938.232             260.0             12.834098   \n",
              "NYC_2                   458.451             185.0             11.375500   \n",
              "NYC_3                  1508.520             376.0             16.051698   \n",
              "NYC_4                   465.000             300.0              9.227017   \n",
              "BOS_1                   575.424             323.0             11.165976   \n",
              "\n",
              "            MIN(sales.raw_earn)  STD(sales.raw_earn)  Cluster  \n",
              "store_code                                                     \n",
              "NYC_1                    0.0665            18.205904        1  \n",
              "NYC_2                    0.2400            13.294661        0  \n",
              "NYC_3                    0.2400            24.534254        2  \n",
              "NYC_4                    0.2400            10.458066        0  \n",
              "BOS_1                    0.0600            14.811843        4  "
            ],
            "text/html": [
              "\n",
              "  <div id=\"df-ef684636-379c-4012-893e-97c8580d7ef2\" class=\"colab-df-container\">\n",
              "    <div>\n",
              "<style scoped>\n",
              "    .dataframe tbody tr th:only-of-type {\n",
              "        vertical-align: middle;\n",
              "    }\n",
              "\n",
              "    .dataframe tbody tr th {\n",
              "        vertical-align: top;\n",
              "    }\n",
              "\n",
              "    .dataframe thead th {\n",
              "        text-align: right;\n",
              "    }\n",
              "</style>\n",
              "<table border=\"1\" class=\"dataframe\">\n",
              "  <thead>\n",
              "    <tr style=\"text-align: right;\">\n",
              "      <th></th>\n",
              "      <th>MAX(sales.raw_earn)</th>\n",
              "      <th>MAX(sales.units)</th>\n",
              "      <th>MEAN(sales.raw_earn)</th>\n",
              "      <th>MIN(sales.raw_earn)</th>\n",
              "      <th>STD(sales.raw_earn)</th>\n",
              "      <th>Cluster</th>\n",
              "    </tr>\n",
              "    <tr>\n",
              "      <th>store_code</th>\n",
              "      <th></th>\n",
              "      <th></th>\n",
              "      <th></th>\n",
              "      <th></th>\n",
              "      <th></th>\n",
              "      <th></th>\n",
              "    </tr>\n",
              "  </thead>\n",
              "  <tbody>\n",
              "    <tr>\n",
              "      <th>NYC_1</th>\n",
              "      <td>938.232</td>\n",
              "      <td>260.0</td>\n",
              "      <td>12.834098</td>\n",
              "      <td>0.0665</td>\n",
              "      <td>18.205904</td>\n",
              "      <td>1</td>\n",
              "    </tr>\n",
              "    <tr>\n",
              "      <th>NYC_2</th>\n",
              "      <td>458.451</td>\n",
              "      <td>185.0</td>\n",
              "      <td>11.375500</td>\n",
              "      <td>0.2400</td>\n",
              "      <td>13.294661</td>\n",
              "      <td>0</td>\n",
              "    </tr>\n",
              "    <tr>\n",
              "      <th>NYC_3</th>\n",
              "      <td>1508.520</td>\n",
              "      <td>376.0</td>\n",
              "      <td>16.051698</td>\n",
              "      <td>0.2400</td>\n",
              "      <td>24.534254</td>\n",
              "      <td>2</td>\n",
              "    </tr>\n",
              "    <tr>\n",
              "      <th>NYC_4</th>\n",
              "      <td>465.000</td>\n",
              "      <td>300.0</td>\n",
              "      <td>9.227017</td>\n",
              "      <td>0.2400</td>\n",
              "      <td>10.458066</td>\n",
              "      <td>0</td>\n",
              "    </tr>\n",
              "    <tr>\n",
              "      <th>BOS_1</th>\n",
              "      <td>575.424</td>\n",
              "      <td>323.0</td>\n",
              "      <td>11.165976</td>\n",
              "      <td>0.0600</td>\n",
              "      <td>14.811843</td>\n",
              "      <td>4</td>\n",
              "    </tr>\n",
              "  </tbody>\n",
              "</table>\n",
              "</div>\n",
              "    <div class=\"colab-df-buttons\">\n",
              "\n",
              "  <div class=\"colab-df-container\">\n",
              "    <button class=\"colab-df-convert\" onclick=\"convertToInteractive('df-ef684636-379c-4012-893e-97c8580d7ef2')\"\n",
              "            title=\"Convert this dataframe to an interactive table.\"\n",
              "            style=\"display:none;\">\n",
              "\n",
              "  <svg xmlns=\"http://www.w3.org/2000/svg\" height=\"24px\" viewBox=\"0 -960 960 960\">\n",
              "    <path d=\"M120-120v-720h720v720H120Zm60-500h600v-160H180v160Zm220 220h160v-160H400v160Zm0 220h160v-160H400v160ZM180-400h160v-160H180v160Zm440 0h160v-160H620v160ZM180-180h160v-160H180v160Zm440 0h160v-160H620v160Z\"/>\n",
              "  </svg>\n",
              "    </button>\n",
              "\n",
              "  <style>\n",
              "    .colab-df-container {\n",
              "      display:flex;\n",
              "      gap: 12px;\n",
              "    }\n",
              "\n",
              "    .colab-df-convert {\n",
              "      background-color: #E8F0FE;\n",
              "      border: none;\n",
              "      border-radius: 50%;\n",
              "      cursor: pointer;\n",
              "      display: none;\n",
              "      fill: #1967D2;\n",
              "      height: 32px;\n",
              "      padding: 0 0 0 0;\n",
              "      width: 32px;\n",
              "    }\n",
              "\n",
              "    .colab-df-convert:hover {\n",
              "      background-color: #E2EBFA;\n",
              "      box-shadow: 0px 1px 2px rgba(60, 64, 67, 0.3), 0px 1px 3px 1px rgba(60, 64, 67, 0.15);\n",
              "      fill: #174EA6;\n",
              "    }\n",
              "\n",
              "    .colab-df-buttons div {\n",
              "      margin-bottom: 4px;\n",
              "    }\n",
              "\n",
              "    [theme=dark] .colab-df-convert {\n",
              "      background-color: #3B4455;\n",
              "      fill: #D2E3FC;\n",
              "    }\n",
              "\n",
              "    [theme=dark] .colab-df-convert:hover {\n",
              "      background-color: #434B5C;\n",
              "      box-shadow: 0px 1px 3px 1px rgba(0, 0, 0, 0.15);\n",
              "      filter: drop-shadow(0px 1px 2px rgba(0, 0, 0, 0.3));\n",
              "      fill: #FFFFFF;\n",
              "    }\n",
              "  </style>\n",
              "\n",
              "    <script>\n",
              "      const buttonEl =\n",
              "        document.querySelector('#df-ef684636-379c-4012-893e-97c8580d7ef2 button.colab-df-convert');\n",
              "      buttonEl.style.display =\n",
              "        google.colab.kernel.accessAllowed ? 'block' : 'none';\n",
              "\n",
              "      async function convertToInteractive(key) {\n",
              "        const element = document.querySelector('#df-ef684636-379c-4012-893e-97c8580d7ef2');\n",
              "        const dataTable =\n",
              "          await google.colab.kernel.invokeFunction('convertToInteractive',\n",
              "                                                    [key], {});\n",
              "        if (!dataTable) return;\n",
              "\n",
              "        const docLinkHtml = 'Like what you see? Visit the ' +\n",
              "          '<a target=\"_blank\" href=https://colab.research.google.com/notebooks/data_table.ipynb>data table notebook</a>'\n",
              "          + ' to learn more about interactive tables.';\n",
              "        element.innerHTML = '';\n",
              "        dataTable['output_type'] = 'display_data';\n",
              "        await google.colab.output.renderOutput(dataTable, element);\n",
              "        const docLink = document.createElement('div');\n",
              "        docLink.innerHTML = docLinkHtml;\n",
              "        element.appendChild(docLink);\n",
              "      }\n",
              "    </script>\n",
              "  </div>\n",
              "\n",
              "\n",
              "<div id=\"df-244bd861-2874-4680-9979-97f2394b3905\">\n",
              "  <button class=\"colab-df-quickchart\" onclick=\"quickchart('df-244bd861-2874-4680-9979-97f2394b3905')\"\n",
              "            title=\"Suggest charts\"\n",
              "            style=\"display:none;\">\n",
              "\n",
              "<svg xmlns=\"http://www.w3.org/2000/svg\" height=\"24px\"viewBox=\"0 0 24 24\"\n",
              "     width=\"24px\">\n",
              "    <g>\n",
              "        <path d=\"M19 3H5c-1.1 0-2 .9-2 2v14c0 1.1.9 2 2 2h14c1.1 0 2-.9 2-2V5c0-1.1-.9-2-2-2zM9 17H7v-7h2v7zm4 0h-2V7h2v10zm4 0h-2v-4h2v4z\"/>\n",
              "    </g>\n",
              "</svg>\n",
              "  </button>\n",
              "\n",
              "<style>\n",
              "  .colab-df-quickchart {\n",
              "      --bg-color: #E8F0FE;\n",
              "      --fill-color: #1967D2;\n",
              "      --hover-bg-color: #E2EBFA;\n",
              "      --hover-fill-color: #174EA6;\n",
              "      --disabled-fill-color: #AAA;\n",
              "      --disabled-bg-color: #DDD;\n",
              "  }\n",
              "\n",
              "  [theme=dark] .colab-df-quickchart {\n",
              "      --bg-color: #3B4455;\n",
              "      --fill-color: #D2E3FC;\n",
              "      --hover-bg-color: #434B5C;\n",
              "      --hover-fill-color: #FFFFFF;\n",
              "      --disabled-bg-color: #3B4455;\n",
              "      --disabled-fill-color: #666;\n",
              "  }\n",
              "\n",
              "  .colab-df-quickchart {\n",
              "    background-color: var(--bg-color);\n",
              "    border: none;\n",
              "    border-radius: 50%;\n",
              "    cursor: pointer;\n",
              "    display: none;\n",
              "    fill: var(--fill-color);\n",
              "    height: 32px;\n",
              "    padding: 0;\n",
              "    width: 32px;\n",
              "  }\n",
              "\n",
              "  .colab-df-quickchart:hover {\n",
              "    background-color: var(--hover-bg-color);\n",
              "    box-shadow: 0 1px 2px rgba(60, 64, 67, 0.3), 0 1px 3px 1px rgba(60, 64, 67, 0.15);\n",
              "    fill: var(--button-hover-fill-color);\n",
              "  }\n",
              "\n",
              "  .colab-df-quickchart-complete:disabled,\n",
              "  .colab-df-quickchart-complete:disabled:hover {\n",
              "    background-color: var(--disabled-bg-color);\n",
              "    fill: var(--disabled-fill-color);\n",
              "    box-shadow: none;\n",
              "  }\n",
              "\n",
              "  .colab-df-spinner {\n",
              "    border: 2px solid var(--fill-color);\n",
              "    border-color: transparent;\n",
              "    border-bottom-color: var(--fill-color);\n",
              "    animation:\n",
              "      spin 1s steps(1) infinite;\n",
              "  }\n",
              "\n",
              "  @keyframes spin {\n",
              "    0% {\n",
              "      border-color: transparent;\n",
              "      border-bottom-color: var(--fill-color);\n",
              "      border-left-color: var(--fill-color);\n",
              "    }\n",
              "    20% {\n",
              "      border-color: transparent;\n",
              "      border-left-color: var(--fill-color);\n",
              "      border-top-color: var(--fill-color);\n",
              "    }\n",
              "    30% {\n",
              "      border-color: transparent;\n",
              "      border-left-color: var(--fill-color);\n",
              "      border-top-color: var(--fill-color);\n",
              "      border-right-color: var(--fill-color);\n",
              "    }\n",
              "    40% {\n",
              "      border-color: transparent;\n",
              "      border-right-color: var(--fill-color);\n",
              "      border-top-color: var(--fill-color);\n",
              "    }\n",
              "    60% {\n",
              "      border-color: transparent;\n",
              "      border-right-color: var(--fill-color);\n",
              "    }\n",
              "    80% {\n",
              "      border-color: transparent;\n",
              "      border-right-color: var(--fill-color);\n",
              "      border-bottom-color: var(--fill-color);\n",
              "    }\n",
              "    90% {\n",
              "      border-color: transparent;\n",
              "      border-bottom-color: var(--fill-color);\n",
              "    }\n",
              "  }\n",
              "</style>\n",
              "\n",
              "  <script>\n",
              "    async function quickchart(key) {\n",
              "      const quickchartButtonEl =\n",
              "        document.querySelector('#' + key + ' button');\n",
              "      quickchartButtonEl.disabled = true;  // To prevent multiple clicks.\n",
              "      quickchartButtonEl.classList.add('colab-df-spinner');\n",
              "      try {\n",
              "        const charts = await google.colab.kernel.invokeFunction(\n",
              "            'suggestCharts', [key], {});\n",
              "      } catch (error) {\n",
              "        console.error('Error during call to suggestCharts:', error);\n",
              "      }\n",
              "      quickchartButtonEl.classList.remove('colab-df-spinner');\n",
              "      quickchartButtonEl.classList.add('colab-df-quickchart-complete');\n",
              "    }\n",
              "    (() => {\n",
              "      let quickchartButtonEl =\n",
              "        document.querySelector('#df-244bd861-2874-4680-9979-97f2394b3905 button');\n",
              "      quickchartButtonEl.style.display =\n",
              "        google.colab.kernel.accessAllowed ? 'block' : 'none';\n",
              "    })();\n",
              "  </script>\n",
              "</div>\n",
              "\n",
              "    </div>\n",
              "  </div>\n"
            ],
            "application/vnd.google.colaboratory.intrinsic+json": {
              "type": "dataframe",
              "variable_name": "feature_matrix_with_clusters",
              "summary": "{\n  \"name\": \"feature_matrix_with_clusters\",\n  \"rows\": 10,\n  \"fields\": [\n    {\n      \"column\": \"store_code\",\n      \"properties\": {\n        \"dtype\": \"string\",\n        \"num_unique_values\": 10,\n        \"samples\": [\n          \"PHI_2\",\n          \"NYC_2\",\n          \"BOS_2\"\n        ],\n        \"semantic_type\": \"\",\n        \"description\": \"\"\n      }\n    },\n    {\n      \"column\": \"MAX(sales.raw_earn)\",\n      \"properties\": {\n        \"dtype\": \"number\",\n        \"std\": 541.8686550104333,\n        \"min\": 458.451,\n        \"max\": 2152.4454,\n        \"num_unique_values\": 10,\n        \"samples\": [\n          845.064,\n          458.451,\n          903.168\n        ],\n        \"semantic_type\": \"\",\n        \"description\": \"\"\n      }\n    },\n    {\n      \"column\": \"MAX(sales.units)\",\n      \"properties\": {\n        \"dtype\": \"number\",\n        \"std\": 120.63632215142428,\n        \"min\": 183.0,\n        \"max\": 606.0,\n        \"num_unique_values\": 10,\n        \"samples\": [\n          248.0,\n          185.0,\n          606.0\n        ],\n        \"semantic_type\": \"\",\n        \"description\": \"\"\n      }\n    },\n    {\n      \"column\": \"MEAN(sales.raw_earn)\",\n      \"properties\": {\n        \"dtype\": \"number\",\n        \"std\": 1.8871989699815865,\n        \"min\": 9.227016881759715,\n        \"max\": 16.051697757233114,\n        \"num_unique_values\": 10,\n        \"samples\": [\n          12.857641428322014,\n          11.375500027410673,\n          12.205707675528922\n        ],\n        \"semantic_type\": \"\",\n        \"description\": \"\"\n      }\n    },\n    {\n      \"column\": \"MIN(sales.raw_earn)\",\n      \"properties\": {\n        \"dtype\": \"number\",\n        \"std\": 0.09213420163604344,\n        \"min\": 0.012,\n        \"max\": 0.24,\n        \"num_unique_values\": 6,\n        \"samples\": [\n          0.0665,\n          0.24,\n          0.0125\n        ],\n        \"semantic_type\": \"\",\n        \"description\": \"\"\n      }\n    },\n    {\n      \"column\": \"STD(sales.raw_earn)\",\n      \"properties\": {\n        \"dtype\": \"number\",\n        \"std\": 5.621736598497242,\n        \"min\": 10.458066052165965,\n        \"max\": 27.768951237921538,\n        \"num_unique_values\": 10,\n        \"samples\": [\n          19.703166453939485,\n          13.294660514578661,\n          19.438689764630734\n        ],\n        \"semantic_type\": \"\",\n        \"description\": \"\"\n      }\n    },\n    {\n      \"column\": \"Cluster\",\n      \"properties\": {\n        \"dtype\": \"int32\",\n        \"num_unique_values\": 6,\n        \"samples\": [\n          1,\n          0,\n          3\n        ],\n        \"semantic_type\": \"\",\n        \"description\": \"\"\n      }\n    }\n  ]\n}"
            }
          },
          "metadata": {},
          "execution_count": 15
        }
      ]
    },
    {
      "cell_type": "markdown",
      "source": [
        "Analisis"
      ],
      "metadata": {
        "id": "7-gKU3sxC7v8"
      }
    },
    {
      "cell_type": "code",
      "source": [
        "# Vemos varianza acumulada en componentes principales\n",
        "variance_ratio = km_m.view_pca_variance(scaled_df)\n",
        "\n",
        "acc_var = km_m.calculate_accumulated_variance(variance_ratio)\n",
        "\n",
        "display(acc_var)"
      ],
      "metadata": {
        "id": "SuXMDS18d9ng",
        "colab": {
          "base_uri": "https://localhost:8080/",
          "height": 845
        },
        "outputId": "c1359284-04c9-4478-e64d-147bd495a004"
      },
      "execution_count": 16,
      "outputs": [
        {
          "output_type": "display_data",
          "data": {
            "text/plain": [
              "<Figure size 1500x1000 with 2 Axes>"
            ],
            "image/png": "[encoded data removed]"
          },
          "metadata": {}
        },
        {
          "output_type": "stream",
          "name": "stdout",
          "text": [
            "Varianza explicada por cada componente (%): [58.  28.7  8.6  4.1  0.5]\n"
          ]
        },
        {
          "output_type": "display_data",
          "data": {
            "text/plain": [
              "   Componente 1  Componente 2  Componente 3  Componente 4  Componente 5\n",
              "0          58.0          86.7          95.3          99.4          99.9"
            ],
            "text/html": [
              "\n",
              "  <div id=\"df-a2685215-ae75-47b7-b9e0-718d8d92f525\" class=\"colab-df-container\">\n",
              "    <div>\n",
              "<style scoped>\n",
              "    .dataframe tbody tr th:only-of-type {\n",
              "        vertical-align: middle;\n",
              "    }\n",
              "\n",
              "    .dataframe tbody tr th {\n",
              "        vertical-align: top;\n",
              "    }\n",
              "\n",
              "    .dataframe thead th {\n",
              "        text-align: right;\n",
              "    }\n",
              "</style>\n",
              "<table border=\"1\" class=\"dataframe\">\n",
              "  <thead>\n",
              "    <tr style=\"text-align: right;\">\n",
              "      <th></th>\n",
              "      <th>Componente 1</th>\n",
              "      <th>Componente 2</th>\n",
              "      <th>Componente 3</th>\n",
              "      <th>Componente 4</th>\n",
              "      <th>Componente 5</th>\n",
              "    </tr>\n",
              "  </thead>\n",
              "  <tbody>\n",
              "    <tr>\n",
              "      <th>0</th>\n",
              "      <td>58.0</td>\n",
              "      <td>86.7</td>\n",
              "      <td>95.3</td>\n",
              "      <td>99.4</td>\n",
              "      <td>99.9</td>\n",
              "    </tr>\n",
              "  </tbody>\n",
              "</table>\n",
              "</div>\n",
              "    <div class=\"colab-df-buttons\">\n",
              "\n",
              "  <div class=\"colab-df-container\">\n",
              "    <button class=\"colab-df-convert\" onclick=\"convertToInteractive('df-a2685215-ae75-47b7-b9e0-718d8d92f525')\"\n",
              "            title=\"Convert this dataframe to an interactive table.\"\n",
              "            style=\"display:none;\">\n",
              "\n",
              "  <svg xmlns=\"http://www.w3.org/2000/svg\" height=\"24px\" viewBox=\"0 -960 960 960\">\n",
              "    <path d=\"M120-120v-720h720v720H120Zm60-500h600v-160H180v160Zm220 220h160v-160H400v160Zm0 220h160v-160H400v160ZM180-400h160v-160H180v160Zm440 0h160v-160H620v160ZM180-180h160v-160H180v160Zm440 0h160v-160H620v160Z\"/>\n",
              "  </svg>\n",
              "    </button>\n",
              "\n",
              "  <style>\n",
              "    .colab-df-container {\n",
              "      display:flex;\n",
              "      gap: 12px;\n",
              "    }\n",
              "\n",
              "    .colab-df-convert {\n",
              "      background-color: #E8F0FE;\n",
              "      border: none;\n",
              "      border-radius: 50%;\n",
              "      cursor: pointer;\n",
              "      display: none;\n",
              "      fill: #1967D2;\n",
              "      height: 32px;\n",
              "      padding: 0 0 0 0;\n",
              "      width: 32px;\n",
              "    }\n",
              "\n",
              "    .colab-df-convert:hover {\n",
              "      background-color: #E2EBFA;\n",
              "      box-shadow: 0px 1px 2px rgba(60, 64, 67, 0.3), 0px 1px 3px 1px rgba(60, 64, 67, 0.15);\n",
              "      fill: #174EA6;\n",
              "    }\n",
              "\n",
              "    .colab-df-buttons div {\n",
              "      margin-bottom: 4px;\n",
              "    }\n",
              "\n",
              "    [theme=dark] .colab-df-convert {\n",
              "      background-color: #3B4455;\n",
              "      fill: #D2E3FC;\n",
              "    }\n",
              "\n",
              "    [theme=dark] .colab-df-convert:hover {\n",
              "      background-color: #434B5C;\n",
              "      box-shadow: 0px 1px 3px 1px rgba(0, 0, 0, 0.15);\n",
              "      filter: drop-shadow(0px 1px 2px rgba(0, 0, 0, 0.3));\n",
              "      fill: #FFFFFF;\n",
              "    }\n",
              "  </style>\n",
              "\n",
              "    <script>\n",
              "      const buttonEl =\n",
              "        document.querySelector('#df-a2685215-ae75-47b7-b9e0-718d8d92f525 button.colab-df-convert');\n",
              "      buttonEl.style.display =\n",
              "        google.colab.kernel.accessAllowed ? 'block' : 'none';\n",
              "\n",
              "      async function convertToInteractive(key) {\n",
              "        const element = document.querySelector('#df-a2685215-ae75-47b7-b9e0-718d8d92f525');\n",
              "        const dataTable =\n",
              "          await google.colab.kernel.invokeFunction('convertToInteractive',\n",
              "                                                    [key], {});\n",
              "        if (!dataTable) return;\n",
              "\n",
              "        const docLinkHtml = 'Like what you see? Visit the ' +\n",
              "          '<a target=\"_blank\" href=https://colab.research.google.com/notebooks/data_table.ipynb>data table notebook</a>'\n",
              "          + ' to learn more about interactive tables.';\n",
              "        element.innerHTML = '';\n",
              "        dataTable['output_type'] = 'display_data';\n",
              "        await google.colab.output.renderOutput(dataTable, element);\n",
              "        const docLink = document.createElement('div');\n",
              "        docLink.innerHTML = docLinkHtml;\n",
              "        element.appendChild(docLink);\n",
              "      }\n",
              "    </script>\n",
              "  </div>\n",
              "\n",
              "\n",
              "  <div id=\"id_9199f69a-dd82-4aa3-b5c0-0b4d68881d05\">\n",
              "    <style>\n",
              "      .colab-df-generate {\n",
              "        background-color: #E8F0FE;\n",
              "        border: none;\n",
              "        border-radius: 50%;\n",
              "        cursor: pointer;\n",
              "        display: none;\n",
              "        fill: #1967D2;\n",
              "        height: 32px;\n",
              "        padding: 0 0 0 0;\n",
              "        width: 32px;\n",
              "      }\n",
              "\n",
              "      .colab-df-generate:hover {\n",
              "        background-color: #E2EBFA;\n",
              "        box-shadow: 0px 1px 2px rgba(60, 64, 67, 0.3), 0px 1px 3px 1px rgba(60, 64, 67, 0.15);\n",
              "        fill: #174EA6;\n",
              "      }\n",
              "\n",
              "      [theme=dark] .colab-df-generate {\n",
              "        background-color: #3B4455;\n",
              "        fill: #D2E3FC;\n",
              "      }\n",
              "\n",
              "      [theme=dark] .colab-df-generate:hover {\n",
              "        background-color: #434B5C;\n",
              "        box-shadow: 0px 1px 3px 1px rgba(0, 0, 0, 0.15);\n",
              "        filter: drop-shadow(0px 1px 2px rgba(0, 0, 0, 0.3));\n",
              "        fill: #FFFFFF;\n",
              "      }\n",
              "    </style>\n",
              "    <button class=\"colab-df-generate\" onclick=\"generateWithVariable('acc_var')\"\n",
              "            title=\"Generate code using this dataframe.\"\n",
              "            style=\"display:none;\">\n",
              "\n",
              "  <svg xmlns=\"http://www.w3.org/2000/svg\" height=\"24px\"viewBox=\"0 0 24 24\"\n",
              "       width=\"24px\">\n",
              "    <path d=\"M7,19H8.4L18.45,9,17,7.55,7,17.6ZM5,21V16.75L18.45,3.32a2,2,0,0,1,2.83,0l1.4,1.43a1.91,1.91,0,0,1,.58,1.4,1.91,1.91,0,0,1-.58,1.4L9.25,21ZM18.45,9,17,7.55Zm-12,3A5.31,5.31,0,0,0,4.9,8.1,5.31,5.31,0,0,0,1,6.5,5.31,5.31,0,0,0,4.9,4.9,5.31,5.31,0,0,0,6.5,1,5.31,5.31,0,0,0,8.1,4.9,5.31,5.31,0,0,0,12,6.5,5.46,5.46,0,0,0,6.5,12Z\"/>\n",
              "  </svg>\n",
              "    </button>\n",
              "    <script>\n",
              "      (() => {\n",
              "      const buttonEl =\n",
              "        document.querySelector('#id_9199f69a-dd82-4aa3-b5c0-0b4d68881d05 button.colab-df-generate');\n",
              "      buttonEl.style.display =\n",
              "        google.colab.kernel.accessAllowed ? 'block' : 'none';\n",
              "\n",
              "      buttonEl.onclick = () => {\n",
              "        google.colab.notebook.generateWithVariable('acc_var');\n",
              "      }\n",
              "      })();\n",
              "    </script>\n",
              "  </div>\n",
              "\n",
              "    </div>\n",
              "  </div>\n"
            ],
            "application/vnd.google.colaboratory.intrinsic+json": {
              "type": "dataframe",
              "variable_name": "acc_var",
              "summary": "{\n  \"name\": \"acc_var\",\n  \"rows\": 1,\n  \"fields\": [\n    {\n      \"column\": \"Componente 1\",\n      \"properties\": {\n        \"dtype\": \"number\",\n        \"std\": null,\n        \"min\": 58.0,\n        \"max\": 58.0,\n        \"num_unique_values\": 1,\n        \"samples\": [\n          58.0\n        ],\n        \"semantic_type\": \"\",\n        \"description\": \"\"\n      }\n    },\n    {\n      \"column\": \"Componente 2\",\n      \"properties\": {\n        \"dtype\": \"number\",\n        \"std\": null,\n        \"min\": 86.7,\n        \"max\": 86.7,\n        \"num_unique_values\": 1,\n        \"samples\": [\n          86.7\n        ],\n        \"semantic_type\": \"\",\n        \"description\": \"\"\n      }\n    },\n    {\n      \"column\": \"Componente 3\",\n      \"properties\": {\n        \"dtype\": \"number\",\n        \"std\": null,\n        \"min\": 95.3,\n        \"max\": 95.3,\n        \"num_unique_values\": 1,\n        \"samples\": [\n          95.3\n        ],\n        \"semantic_type\": \"\",\n        \"description\": \"\"\n      }\n    },\n    {\n      \"column\": \"Componente 4\",\n      \"properties\": {\n        \"dtype\": \"number\",\n        \"std\": null,\n        \"min\": 99.39999999999999,\n        \"max\": 99.39999999999999,\n        \"num_unique_values\": 1,\n        \"samples\": [\n          99.39999999999999\n        ],\n        \"semantic_type\": \"\",\n        \"description\": \"\"\n      }\n    },\n    {\n      \"column\": \"Componente 5\",\n      \"properties\": {\n        \"dtype\": \"number\",\n        \"std\": null,\n        \"min\": 99.89999999999999,\n        \"max\": 99.89999999999999,\n        \"num_unique_values\": 1,\n        \"samples\": [\n          99.89999999999999\n        ],\n        \"semantic_type\": \"\",\n        \"description\": \"\"\n      }\n    }\n  ]\n}"
            }
          },
          "metadata": {}
        }
      ]
    },
    {
      "cell_type": "markdown",
      "source": [
        "Importancia caracteristicas"
      ],
      "metadata": {
        "id": "9EsNY4GzDFXi"
      }
    },
    {
      "cell_type": "code",
      "source": [
        "# Importancia de caracteristicas\n",
        "# Preprocesamos datos\n",
        "cluster_col='Cluster'\n",
        "df_clusters = feature_matrix_with_clusters[[cluster_col]].copy().reset_index(drop=True)\n",
        "\n",
        "# Combinar los DataFrames basándose en la columna 'Index'\n",
        "preprocessed_df = pd.concat([scaled_df, df_clusters], axis=1)\n",
        "\n",
        "clusters = kmeans_model.labels_\n",
        "\n",
        "IMPORTANCE_THRES=0.05\n",
        "importance_df = km_m.get_feature_importances(preprocessed_df, clusters, imp_threshold=IMPORTANCE_THRES)\n",
        "\n",
        "# Seleccionamos solo las caracteristicas que tienen importancia por encima o igual del umbral\n",
        "selected_features = importance_df[importance_df['Importance'] >= IMPORTANCE_THRES]\n",
        "\n",
        "# Creamos una lista con las features más importantes usando la columna feature de importance_df\n",
        "most_important_features = selected_features['Feature'].tolist()\n",
        "\n",
        "# display(importance_df.head(10))"
      ],
      "metadata": {
        "id": "PB2Tx1OyDE-t",
        "colab": {
          "base_uri": "https://localhost:8080/",
          "height": 719
        },
        "outputId": "6068ff04-a824-4e55-8af5-65d1e99328f9"
      },
      "execution_count": 18,
      "outputs": [
        {
          "output_type": "display_data",
          "data": {
            "text/plain": [
              "<Figure size 1000x800 with 1 Axes>"
            ],
            "image/png": "[encoded data removed]"
          },
          "metadata": {}
        }
      ]
    },
    {
      "cell_type": "markdown",
      "source": [
        "## Dim redux"
      ],
      "metadata": {
        "id": "1Xc-jLodDLwM"
      }
    },
    {
      "cell_type": "code",
      "source": [
        "# Ejecutar PCA y clustering\n",
        "n_components = 3 # Segun visto en varianza acumulada -> +90%\n",
        "\n",
        "# Obtenemos scaled df con componentes y clusters\n",
        "df_with_pca, loadings_df = km_m.pca_and_cluster(scaled_df, n_clusters=optimal_k, n_components=n_components)\n",
        "\n",
        "# # Mostrar el DataFrame con PCA y clustering\n",
        "# display(df_with_pca.head(5))\n",
        "\n",
        "# Graficar la cantidad de items por cluster\n",
        "show_clusters = km_m.plot_cluster_sizes(df_with_pca)"
      ],
      "metadata": {
        "id": "PUogHR9bDNjq",
        "colab": {
          "base_uri": "https://localhost:8080/",
          "height": 565
        },
        "outputId": "c941ad1c-2c04-4e83-c2a6-41c38f9285e5"
      },
      "execution_count": 19,
      "outputs": [
        {
          "output_type": "display_data",
          "data": {
            "text/plain": [
              "<Figure size 1000x600 with 1 Axes>"
            ],
            "image/png": "[encoded data removed]"
          },
          "metadata": {}
        }
      ]
    },
    {
      "cell_type": "markdown",
      "source": [
        "## Descripcion de clusters"
      ],
      "metadata": {
        "id": "susn5Bl9CBpv"
      }
    },
    {
      "cell_type": "code",
      "source": [
        "# Visualizacion clusters\n",
        "cols = n_components + 1 # -> Seleccionamos solo las columnas de PC + Cluster\n",
        "df_pairplot = df_with_pca.iloc[:, -(cols):]\n",
        "\n",
        "df_pairplot['Cluster'] = df_with_pca['Cluster']\n",
        "sns.pairplot(df_pairplot[0:], hue='Cluster', palette='viridis')"
      ],
      "metadata": {
        "id": "msMgm7K0CBpy",
        "colab": {
          "base_uri": "https://localhost:8080/",
          "height": 899
        },
        "outputId": "93495247-0c0e-404a-8eba-960011b44905"
      },
      "execution_count": 20,
      "outputs": [
        {
          "output_type": "stream",
          "name": "stderr",
          "text": [
            "/usr/local/lib/python3.10/dist-packages/seaborn/_base.py:949: FutureWarning: When grouping with a length-1 list-like, you will need to pass a length-1 tuple to get_group in a future version of pandas. Pass `(name,)` instead of `name` to silence this warning.\n",
            "  data_subset = grouped_data.get_group(pd_key)\n",
            "/usr/local/lib/python3.10/dist-packages/seaborn/_base.py:949: FutureWarning: When grouping with a length-1 list-like, you will need to pass a length-1 tuple to get_group in a future version of pandas. Pass `(name,)` instead of `name` to silence this warning.\n",
            "  data_subset = grouped_data.get_group(pd_key)\n",
            "/usr/local/lib/python3.10/dist-packages/seaborn/_base.py:949: FutureWarning: When grouping with a length-1 list-like, you will need to pass a length-1 tuple to get_group in a future version of pandas. Pass `(name,)` instead of `name` to silence this warning.\n",
            "  data_subset = grouped_data.get_group(pd_key)\n"
          ]
        },
        {
          "output_type": "execute_result",
          "data": {
            "text/plain": [
              "<seaborn.axisgrid.PairGrid at 0x79e1c50ed360>"
            ]
          },
          "metadata": {},
          "execution_count": 20
        },
        {
          "output_type": "display_data",
          "data": {
            "text/plain": [
              "<Figure size 810.361x750 with 12 Axes>"
            ],
            "image/png": "[encoded data removed]"
          },
          "metadata": {}
        }
      ]
    },
    {
      "cell_type": "code",
      "source": [
        "# T SNE visualizacion de clusters\n",
        "km_m.tsne_visualization(df_pairplot, n_components=2, perplexity=9)"
      ],
      "metadata": {
        "id": "CWPd_6SbwF7w",
        "colab": {
          "base_uri": "https://localhost:8080/",
          "height": 482
        },
        "outputId": "2f80fb0f-289a-4405-95e7-b2254c5992b3"
      },
      "execution_count": 22,
      "outputs": [
        {
          "output_type": "display_data",
          "data": {
            "text/plain": [
              "<Figure size 1500x500 with 2 Axes>"
            ],
            "image/png": "[encoded data removed]"
          },
          "metadata": {}
        }
      ]
    },
    {
      "cell_type": "markdown",
      "source": [
        "**Analisis**  \n",
        "  \n",
        "Quizás habria que probar con un optimal_k de 3.  \n",
        "6 para diez tiendas parece mucho."
      ],
      "metadata": {
        "id": "PaI5eMJTXo4n"
      }
    },
    {
      "cell_type": "code",
      "source": [
        "# Seleccionamos las features según la lista most_important_features obtenida con random forest\n",
        "importance_df_filt = importance_df[importance_df['Feature'].isin(most_important_features)]\n",
        "\n",
        "# Crear y mostrar descripciones de los clusters\n",
        "description_df = km_m.create_cluster_descriptions(df_with_pca, importance_df_filt)\n",
        "print('###########################################################')\n",
        "print('Descripcion de los clusters')\n",
        "print('###########################################################')\n",
        "# Ordenamos columnas de description_df usando sort\n",
        "description_df = description_df[sorted(description_df.columns)]\n",
        "display(description_df)"
      ],
      "metadata": {
        "id": "iRoRQEAHDZmV"
      },
      "execution_count": null,
      "outputs": []
    },
    {
      "cell_type": "code",
      "source": [
        "# Añadimos clusters a df_items\n",
        "df_shops = df_shops.reset_index(drop=True) # Recuperamos indices originales\n",
        "\n",
        "df_shops_with_clusters = df_shops.merge(df_with_pca[['Cluster']], left_index=True, right_index=True)\n",
        "\n",
        "df_shops_with_clusters.head()"
      ],
      "metadata": {
        "id": "eWc3FgBWDeHg"
      },
      "execution_count": null,
      "outputs": []
    },
    {
      "cell_type": "code",
      "source": [
        "# Crear dataframe con las descripciones de los clusters\n",
        "cluster_summary = {\n",
        "\n",
        "}\n",
        "\n",
        "cluster_summary_df = pd.DataFrame.from_dict(cluster_summary, orient='index')\n",
        "\n",
        "# Asumiendo que tienes un dataframe `items_df` que tiene una columna 'cluster' con los números de cluster\n",
        "# Realiza un merge con el resumen de clusters para añadir los nombres y descripciones al dataframe original\n",
        "shops_with_cluster_info = df_shops_with_clusters.merge(cluster_summary_df, left_on='Cluster', right_index=True, how='left')\n",
        "\n",
        "shops_with_cluster_info = shops_with_cluster_info.rename(columns={'Cluster':'cluster'})\n",
        "\n",
        "# Resultado: `shops_with_cluster_info` tendrá las columnas adicionales 'cluster_name' y 'description'\n",
        "display(shops_with_cluster_info.head())"
      ],
      "metadata": {
        "id": "jIsqerkwDxRS"
      },
      "execution_count": null,
      "outputs": []
    },
    {
      "cell_type": "code",
      "source": [
        "km_m.plot_clusters_with_name(shops_with_cluster_info)"
      ],
      "metadata": {
        "id": "9uUzKiTViMhw"
      },
      "execution_count": null,
      "outputs": []
    },
    {
      "cell_type": "markdown",
      "source": [
        "## Guardar CSV"
      ],
      "metadata": {
        "id": "K2ikNdroCI7J"
      }
    },
    {
      "cell_type": "code",
      "source": [
        "# Guardamos df como csv\n",
        "from google.colab import files\n",
        "\n",
        "file_name = 'shops_global_sales_performance.csv'\n",
        "\n",
        "# # Exportar DataFrame a CSV (reemplaza 'df' por el nombre de tu DataFrame)\n",
        "# shops_with_cluster_info.to_csv(file_name, index=False)\n",
        "\n",
        "# # Descargar el archivo CSV\n",
        "# files.download(file_name)"
      ],
      "metadata": {
        "id": "AVvlCI1VCJMO"
      },
      "execution_count": null,
      "outputs": []
    },
    {
      "cell_type": "markdown",
      "metadata": {
        "id": "5_Wls-YA9fsX"
      },
      "source": [
        "# **MIX DE PRODUCTOS: Segun cluster performance ventas global**  \n",
        "  \n",
        "Esta configuración se centra en entender la variedad y popularidad de los productos en diferentes tiendas.\n",
        "___\n",
        "___"
      ]
    },
    {
      "cell_type": "markdown",
      "source": [
        "## Importacion de datos"
      ],
      "metadata": {
        "id": "rGQctw2fegEm"
      }
    },
    {
      "cell_type": "code",
      "source": [
        "# Cargamos df de items con segmentacion segun ventas diarias de 2014 a 2016 de estos\n",
        "# PENDING -> Actualizar fichero con clusters segun fix de PCAs\n",
        "df_items_sp_clusters = get_data('_clusters/items_clusters_raw_earn.csv')"
      ],
      "metadata": {
        "id": "3v7csieZeYY8"
      },
      "execution_count": 24,
      "outputs": []
    },
    {
      "cell_type": "code",
      "source": [
        "display(df_items_sp_clusters.head())\n",
        "display(df_shops.head())\n",
        "display(df_ws.head())"
      ],
      "metadata": {
        "id": "wfKBjgCld_Xm"
      },
      "execution_count": null,
      "outputs": []
    },
    {
      "cell_type": "code",
      "source": [
        "# ONE HOT ENCODING DE LOS CLUSTERS - PARA EVITAR CREAR CARACTERISTICAS NUMERICAS BASADAS EN ELLOS\n",
        "# Guardamos los nombres y definiciones de los clusters aparte para trabajar solo con la columna Cluster de productos\n",
        "# Crear el diccionario de nombres y descripciones de clusters\n",
        "cluster_dict = df_items_sp_clusters[['Cluster', 'cluster_name', 'description']].drop_duplicates().set_index('Cluster').to_dict('index')\n",
        "\n",
        "df_items_ohe = df_items_sp_clusters.copy()\n",
        "\n",
        "# Hacer OHE usando scikit learn\n",
        "from sklearn.preprocessing import OneHotEncoder\n",
        "df_items_ohe = df_items_ohe.drop(columns=['Cluster', 'description'])\n",
        "\n",
        "ohe = OneHotEncoder(sparse_output=False, handle_unknown='ignore')\n",
        "df_items_ohe = ohe.fit_transform(df_items_ohe[['cluster_name']])\n",
        "df_items_ohe = pd.DataFrame(df_items_ohe, columns=ohe.get_feature_names_out(['cluster_name']))\n",
        "df_items_ohe = pd.concat([df_items_sp_clusters[['item']], df_items_ohe], axis=1)\n",
        "\n",
        "# display(df_items_ohe.head())"
      ],
      "metadata": {
        "id": "c9Z2pabEe0x6"
      },
      "execution_count": 28,
      "outputs": []
    },
    {
      "cell_type": "markdown",
      "source": [
        "## Seleccion / Creacion caracteristicas"
      ],
      "metadata": {
        "id": "zMTxV_RBCUB6"
      }
    },
    {
      "cell_type": "code",
      "execution_count": null,
      "metadata": {
        "id": "a5wlTJhVgouN"
      },
      "outputs": [],
      "source": [
        "# Creacion caracteristicas globales para tiendas (luego iremos filtrando)\n",
        "fc_config = {\n",
        "    'target_df': 'shops',  # El DataFrame que contiene información sobre las tiendas\n",
        "    'agg_primitives': [\n",
        "        'mean',              # Promedio\n",
        "        'sum',               # Suma\n",
        "        'count'              # Totales\n",
        "    ],\n",
        "    'trans_primitives': [\n",
        "        'percentile'\n",
        "    ],\n",
        "    'max_depth': 2  # Profundidad máxima de las características generadas\n",
        "}\n",
        "\n",
        "feature_matrix, feature_defs = fcm.create_features(df_items_ohe, df_shops, df_ws, fc_config)"
      ]
    },
    {
      "cell_type": "code",
      "source": [
        "# Revision definiciones caracteristicas creadas\n",
        "features_descriptions = fcm.get_features_descriptions(feature_defs)\n",
        "\n",
        "display(type(features_descriptions))\n",
        "\n",
        "display(features_descriptions)"
      ],
      "metadata": {
        "id": "JlIFUFTihLIN"
      },
      "execution_count": null,
      "outputs": []
    },
    {
      "cell_type": "markdown",
      "source": [
        "## Seleccion caracteristicas"
      ],
      "metadata": {
        "id": "P2yQniz-kjY0"
      }
    },
    {
      "cell_type": "code",
      "source": [
        "substrings = substrings = [\n",
        "    'items',\n",
        "    'units',\n",
        "    'raw_earn',\n",
        "    'sell_price',\n",
        "    'cluster_name'\n",
        "]\n",
        "\n",
        "feat_selected = fcm.select_features(features_descriptions, substrings)\n",
        "\n",
        "print(f'Length Feats Selected: {len(feat_selected)}')\n",
        "# display(feat_selected)\n",
        "\n",
        "feature_matrix_selected = feature_matrix[feat_selected].copy()\n",
        "\n",
        "# display(feature_matrix_selected.head(5))\n",
        "\n",
        "# Aplicar filtros a las caracteristicas creadas\n",
        "# Remove low information, highly correlated, highly null and single value features\n",
        "filtered_feature_matrix = fcm.filter_feature_matrix(feature_matrix_selected)\n",
        "\n",
        "# Renombrar características si es necesario # Evitamos este paso de momento\n",
        "# feature_matrix_renamed = fcm.rename_features(filtered_feature_matrix, price_range_features)\n",
        "feature_matrix_renamed = filtered_feature_matrix.copy()\n",
        "\n",
        "display(feature_matrix_renamed.head(5))"
      ],
      "metadata": {
        "id": "55RrCKEVkhSw"
      },
      "execution_count": null,
      "outputs": []
    },
    {
      "cell_type": "markdown",
      "source": [
        "## Preprocesamiento datos"
      ],
      "metadata": {
        "id": "XRbHniRjCW6r"
      }
    },
    {
      "cell_type": "code",
      "source": [
        "scaled_df = pm.preprocess_features(feature_matrix_renamed)"
      ],
      "metadata": {
        "id": "TcdGkpVzCW6_"
      },
      "execution_count": null,
      "outputs": []
    },
    {
      "cell_type": "markdown",
      "source": [
        "## Kmeans"
      ],
      "metadata": {
        "id": "i00GTowzCW7A"
      }
    },
    {
      "cell_type": "markdown",
      "source": [
        "Elbow & Silhoutte"
      ],
      "metadata": {
        "id": "B5fH9dgxmfVV"
      }
    },
    {
      "cell_type": "code",
      "source": [
        "km_m.plot_elbow_silhouette(scaled_df, 9)"
      ],
      "metadata": {
        "id": "YNZ5bofQCW7A"
      },
      "execution_count": null,
      "outputs": []
    },
    {
      "cell_type": "code",
      "source": [
        "optimal_k = 6 # codo + silueta\n",
        "\n",
        "kmeans_model, feature_matrix_with_clusters = km_m.apply_kmeans_and_plot(optimal_k, scaled_df, feature_matrix_renamed)\n",
        "\n",
        "feature_matrix_with_clusters.head(5)"
      ],
      "metadata": {
        "id": "RH_rLAi3moS6"
      },
      "execution_count": null,
      "outputs": []
    },
    {
      "cell_type": "markdown",
      "source": [
        "Analisis"
      ],
      "metadata": {
        "id": "kIkpYCyZmui8"
      }
    },
    {
      "cell_type": "code",
      "source": [
        "# Vemos varianza acumulada en componentes principales\n",
        "variance_ratio = km_m.view_pca_variance(scaled_df)\n",
        "\n",
        "acc_var = km_m.calculate_accumulated_variance(variance_ratio)\n",
        "\n",
        "display(acc_var)"
      ],
      "metadata": {
        "id": "y4TR6GygeBDQ"
      },
      "execution_count": null,
      "outputs": []
    },
    {
      "cell_type": "markdown",
      "source": [
        "Importancia caracteristicas"
      ],
      "metadata": {
        "id": "QKts0zlCm6_z"
      }
    },
    {
      "cell_type": "code",
      "source": [
        "# Importancia de caracteristicas\n",
        "# Preprocesamos datos\n",
        "cluster_col='Cluster'\n",
        "df_clusters = feature_matrix_with_clusters[[cluster_col]].copy().reset_index(drop=True)\n",
        "\n",
        "# Combinar los DataFrames basándose en la columna 'Index'\n",
        "preprocessed_df = pd.concat([scaled_df, df_clusters], axis=1)\n",
        "\n",
        "clusters = kmeans_model.labels_\n",
        "\n",
        "IMPORTANCE_THRES=0.05\n",
        "importance_df = km_m.get_feature_importances(preprocessed_df, clusters, imp_threshold=IMPORTANCE_THRES)\n",
        "\n",
        "# Seleccionamos solo las caracteristicas que tienen importancia por encima o igual del umbral\n",
        "selected_features = importance_df[importance_df['Importance'] >= IMPORTANCE_THRES]\n",
        "\n",
        "# Creamos una lista con las features más importantes usando la columna feature de importance_df\n",
        "most_important_features = selected_features['Feature'].tolist()\n",
        "\n",
        "# display(importance_df.head(10))"
      ],
      "metadata": {
        "id": "SHQhu-iom6iK"
      },
      "execution_count": null,
      "outputs": []
    },
    {
      "cell_type": "markdown",
      "source": [
        "## Dim redux"
      ],
      "metadata": {
        "id": "yQfdRqDTnBLD"
      }
    },
    {
      "cell_type": "code",
      "source": [
        "# Ejecutar PCA y clustering\n",
        "n_components = 3 # Segun visto en varianza acumulada -> casi 95%\n",
        "\n",
        "# Obtenemos scaled df con componentes y clusters\n",
        "df_with_pca, loadings_df = km_m.pca_and_cluster(scaled_df, n_clusters=optimal_k, n_components=n_components)\n",
        "\n",
        "# # Mostrar el DataFrame con PCA y clustering\n",
        "# display(df_with_pca.head(5))\n",
        "\n",
        "# Graficar la cantidad de items por cluster\n",
        "show_clusters = km_m.plot_cluster_sizes(df_with_pca)"
      ],
      "metadata": {
        "id": "NT8RTBfdnBhc"
      },
      "execution_count": null,
      "outputs": []
    },
    {
      "cell_type": "markdown",
      "source": [
        "## Descripcion de clusters"
      ],
      "metadata": {
        "id": "dBfxJ5LbCW7A"
      }
    },
    {
      "cell_type": "code",
      "source": [
        "# Visualizacion clusters\n",
        "cols = n_components + 1 # -> Seleccionamos solo las columnas de PC + Cluster\n",
        "df_pairplot = df_with_pca.iloc[:, -(cols):]\n",
        "\n",
        "df_pairplot['Cluster'] = df_with_pca['Cluster']\n",
        "sns.pairplot(df_pairplot[0:], hue='Cluster', palette='viridis')"
      ],
      "metadata": {
        "id": "5NHOV2LcnLgL"
      },
      "execution_count": null,
      "outputs": []
    },
    {
      "cell_type": "code",
      "source": [
        "# T SNE visualizacion de clusters\n",
        "km_m.tsne_visualization(df_pairplot, n_components=2, perplexity=30)"
      ],
      "metadata": {
        "id": "Dobz7_bUw00P"
      },
      "execution_count": null,
      "outputs": []
    },
    {
      "cell_type": "code",
      "source": [
        "# Seleccionamos las features según la lista most_important_features obtenida con random forest\n",
        "importance_df_filt = importance_df[importance_df['Feature'].isin(most_important_features)]\n",
        "\n",
        "# Crear y mostrar descripciones de los clusters\n",
        "description_df = km_m.create_cluster_descriptions(df_with_pca, importance_df_filt)\n",
        "print('###########################################################')\n",
        "print('Descripcion de los clusters')\n",
        "print('###########################################################')\n",
        "# Ordenamos columnas de description_df usando sort\n",
        "description_df = description_df[sorted(description_df.columns)]\n",
        "display(description_df)"
      ],
      "metadata": {
        "id": "C8_dLcyGCW7B"
      },
      "execution_count": null,
      "outputs": []
    },
    {
      "cell_type": "code",
      "source": [
        "# Añadimos clusters a df_items\n",
        "df_shops = df_shops.reset_index(drop=True) # Recuperamos indices originales\n",
        "\n",
        "df_shops_with_clusters = df_shops.merge(df_with_pca[['Cluster']], left_index=True, right_index=True)\n",
        "\n",
        "df_shops_with_clusters.head()"
      ],
      "metadata": {
        "id": "P6-5l0tSnnMj"
      },
      "execution_count": null,
      "outputs": []
    },
    {
      "cell_type": "code",
      "source": [
        "# Crear dataframe con las descripciones de los clusters\n",
        "cluster_summary = {\n",
        "\n",
        "}\n",
        "\n",
        "cluster_summary_df = pd.DataFrame.from_dict(cluster_summary, orient='index')\n",
        "\n",
        "# Asumiendo que tienes un dataframe `items_df` que tiene una columna 'cluster' con los números de cluster\n",
        "# Realiza un merge con el resumen de clusters para añadir los nombres y descripciones al dataframe original\n",
        "shops_with_cluster_info = df_shops_with_clusters.merge(cluster_summary_df, left_on='Cluster', right_index=True, how='left')\n",
        "\n",
        "shops_with_cluster_info = shops_with_cluster_info.rename(columns={'Cluster':'cluster'})\n",
        "\n",
        "# Resultado: `shops_with_cluster_info` tendrá las columnas adicionales 'cluster_name' y 'description'\n",
        "display(shops_with_cluster_info.head())"
      ],
      "metadata": {
        "id": "6-qrEScIn3Ln"
      },
      "execution_count": null,
      "outputs": []
    },
    {
      "cell_type": "code",
      "source": [
        "shops_with_cluster_info"
      ],
      "metadata": {
        "id": "7wM43z3-6gFZ"
      },
      "execution_count": null,
      "outputs": []
    },
    {
      "cell_type": "code",
      "source": [
        "km_m.plot_clusters_with_name(shops_with_cluster_info)"
      ],
      "metadata": {
        "id": "NS_IIr1EiQf2"
      },
      "execution_count": null,
      "outputs": []
    },
    {
      "cell_type": "markdown",
      "source": [
        "## Guardar CSV"
      ],
      "metadata": {
        "id": "DXeCoLOXCW7B"
      }
    },
    {
      "cell_type": "code",
      "source": [
        "# Guardamos df como csv\n",
        "from google.colab import files\n",
        "\n",
        "file_name = 'shops_products_mix.csv'\n",
        "\n",
        "# # Exportar DataFrame a CSV (reemplaza 'df' por el nombre de tu DataFrame)\n",
        "# shops_with_cluster_info.to_csv(file_name, index=False)\n",
        "\n",
        "# # Descargar el archivo CSV\n",
        "# files.download(file_name)"
      ],
      "metadata": {
        "id": "Tc2buHovCW7B"
      },
      "execution_count": null,
      "outputs": []
    },
    {
      "cell_type": "markdown",
      "metadata": {
        "id": "yGEc0KFX9fsE"
      },
      "source": [
        "# **TIENDAS: SALES w EVENTS**\n",
        "___\n",
        "___"
      ]
    },
    {
      "cell_type": "code",
      "source": [
        "# Recuperamos full df con eventos\n",
        "df_ws = get_data('daily_sales_with_events.csv')\n",
        "\n",
        "# Seleccionar solo años 2014 a 2016 de df_ws\n",
        "df_ws = df_ws[(df_ws['year'] >= 2014) & (df_ws['year'] <= 2016)]\n",
        "\n",
        "# Cambiamos NaN de event por None\n",
        "df_ws['event'] = df_ws['event'].fillna('None')\n",
        "\n",
        "display(df_ws.shape)"
      ],
      "metadata": {
        "id": "-9gH_D8xjNTL"
      },
      "execution_count": null,
      "outputs": []
    },
    {
      "cell_type": "markdown",
      "metadata": {
        "id": "FuDqBSJM9fsF"
      },
      "source": [
        "## Creacion caracteristicas"
      ]
    },
    {
      "cell_type": "code",
      "source": [
        "# OHE para columna event en df_ws usando sklearn.preprocessing\n",
        "from sklearn.preprocessing import OneHotEncoder\n",
        "\n",
        "# Seleccionar la columna 'event' para codificar\n",
        "events = df_ws[['event']]\n",
        "\n",
        "# Crear el OneHotEncoder\n",
        "ohe = OneHotEncoder(sparse_output=False, handle_unknown='ignore')\n",
        "\n",
        "# Ajustar y transformar los eventos con OHE\n",
        "event_encoded = ohe.fit_transform(events)\n",
        "\n",
        "# Crear un DataFrame con las columnas codificadas\n",
        "event_encoded_df = pd.DataFrame(event_encoded, columns=ohe.get_feature_names_out(['event']))\n",
        "\n",
        "# Concatenar con el DataFrame original de ventas\n",
        "df_ws_ohe = pd.concat([df_ws.reset_index(drop=True), event_encoded_df], axis=1)\n",
        "\n"
      ],
      "metadata": {
        "id": "vzvKVXMTCXbr"
      },
      "execution_count": null,
      "outputs": []
    },
    {
      "cell_type": "code",
      "source": [
        "display(df_ws_ohe.head())"
      ],
      "metadata": {
        "id": "5STU0OyD5guj"
      },
      "execution_count": null,
      "outputs": []
    },
    {
      "cell_type": "code",
      "source": [
        "# Seteamos index de df_shops a columna store_code\n",
        "# df_shops.set_index('store_code', inplace=True)\n",
        "df_shops.head()"
      ],
      "metadata": {
        "id": "SRkoM-3ELvc0"
      },
      "execution_count": null,
      "outputs": []
    },
    {
      "cell_type": "code",
      "source": [
        "import featuretools as ft\n",
        "\n",
        "# Crear un EntitySet\n",
        "es = ft.EntitySet(id='sales_data')\n",
        "\n",
        "# Agregar entidades\n",
        "es = es.add_dataframe(dataframe_name=\"items\", dataframe=df_items, index=\"item\")\n",
        "es = es.add_dataframe(dataframe_name=\"shops\", dataframe=df_shops, index=\"store_code\")\n",
        "es = es.add_dataframe(dataframe_name=\"sales\", dataframe=df_ws_ohe, index=\"id\",\n",
        "                      time_index=\"week\",)\n",
        "                      # secondary_time_index={'year': ['units', 'sell_price', 'raw_earn']})\n",
        "\n",
        "# Definir relaciones\n",
        "es = es.add_relationship(\"items\", \"item\", \"sales\", \"item\")\n",
        "es = es.add_relationship(\"shops\", \"store_code\", \"sales\", \"store_code\")\n",
        "\n",
        "# Generar características automáticas, ahora centradas en \"items\"\n",
        "feature_matrix, feature_defs = ft.dfs(entityset=es,\n",
        "                                      target_dataframe_name=\"shops\",  # Objetivo: productos\n",
        "                                      agg_primitives=[\n",
        "                                          'min',               # Mínimo\n",
        "                                          'max',               # Máximo\n",
        "                                          'mean',              # Promedio\n",
        "                                          'std',               # Desviación estándar\n",
        "                                          'sum',               # Suma\n",
        "                                          'count'              # Totales\n",
        "                                      ],\n",
        "                                      trans_primitives=[\n",
        "                                          # Month no hace falta ya lo tenemos en esta iteracion\n",
        "                                          # 'month',  # Extrae el mes para observar patrones estacionales a nivel semanal\n",
        "                                          'is_weekend'  # Indica si la semana incluye fines de semana\n",
        "                                      ],\n",
        "                                      max_depth=2)\n",
        "\n",
        "feature_matrix.head(10)"
      ],
      "metadata": {
        "id": "8SITwedw6tUW"
      },
      "execution_count": null,
      "outputs": []
    },
    {
      "cell_type": "code",
      "source": [
        "# Revision definiciones caracteristicas creadas\n",
        "features_descriptions = fcm.get_features_descriptions(feature_defs)\n",
        "\n",
        "display(type(features_descriptions))\n",
        "\n",
        "display(features_descriptions)"
      ],
      "metadata": {
        "id": "gZE9q4QG_5nH"
      },
      "execution_count": null,
      "outputs": []
    },
    {
      "cell_type": "markdown",
      "source": [
        "## Seleccion caracteristicas"
      ],
      "metadata": {
        "id": "bOD0QW6G_2Lf"
      }
    },
    {
      "cell_type": "code",
      "source": [
        "# V3\n",
        "substrings = ['raw_earn', 'units', 'event'] # Nos quedamos solo con las que afectan a ventas y eventos\n",
        "\n",
        "print(f'Length All features: {len(features_descriptions)}')\n",
        "\n",
        "feat_selected = fcm.select_features(features_descriptions, substrings)\n",
        "\n",
        "print(f'Length Feats Selected: {len(feat_selected)}')\n",
        "# display(feat_selected)\n",
        "\n",
        "feature_matrix_selected = feature_matrix[feat_selected].copy()\n",
        "\n",
        "# display(feature_matrix_selected.head(5))\n",
        "\n",
        "# Aplicar filtros a las caracteristicas creadas\n",
        "# Remove low information, highly correlated, highly null and single value features\n",
        "filtered_feature_matrix = fcm.filter_feature_matrix(feature_matrix_selected)\n",
        "\n",
        "# Renombrar características si es necesario # Evitamos este paso de momento\n",
        "# feature_matrix_renamed = fcm.rename_features(filtered_feature_matrix, price_range_features)\n",
        "feature_matrix_renamed = filtered_feature_matrix.copy()\n",
        "\n",
        "display(feature_matrix_renamed.head(5))"
      ],
      "metadata": {
        "id": "nPfG-o9fD33R"
      },
      "execution_count": null,
      "outputs": []
    },
    {
      "cell_type": "markdown",
      "metadata": {
        "id": "HXM6uKtV9fsI"
      },
      "source": [
        "## Preprocesamiento de los datos"
      ]
    },
    {
      "cell_type": "code",
      "execution_count": null,
      "metadata": {
        "id": "vZYos01X9fsI"
      },
      "outputs": [],
      "source": [
        "scaled_df = pm.preprocess_features(feature_matrix_renamed)"
      ]
    },
    {
      "cell_type": "markdown",
      "metadata": {
        "id": "dDcZuPN09fsJ"
      },
      "source": [
        "## Kmeans"
      ]
    },
    {
      "cell_type": "markdown",
      "metadata": {
        "id": "_DxbJZHB9fsK"
      },
      "source": [
        "Elbow & Silouette"
      ]
    },
    {
      "cell_type": "code",
      "execution_count": null,
      "metadata": {
        "id": "jFoTkzsi9fsK"
      },
      "outputs": [],
      "source": [
        "km_m.plot_elbow_silhouette(scaled_df, 9) # No podemos usar más de n_shops - 1"
      ]
    },
    {
      "cell_type": "code",
      "execution_count": null,
      "metadata": {
        "id": "BAkXs7hX9fsL"
      },
      "outputs": [],
      "source": [
        "optimal_k = 6\n",
        "\n",
        "kmeans_model, feature_matrix_with_clusters = km_m.apply_kmeans_and_plot(optimal_k, scaled_df, feature_matrix_renamed)\n",
        "\n",
        "feature_matrix_with_clusters.head(5)"
      ]
    },
    {
      "cell_type": "markdown",
      "metadata": {
        "id": "WXO8urH-9fsL"
      },
      "source": [
        "Analisis"
      ]
    },
    {
      "cell_type": "markdown",
      "metadata": {
        "id": "3qKCEnEd9fsM"
      },
      "source": [
        "PCAs"
      ]
    },
    {
      "cell_type": "code",
      "source": [
        "# Vemos varianza acumulada en componentes principales\n",
        "variance_ratio = km_m.view_pca_variance(scaled_df)\n",
        "\n",
        "acc_var = km_m.calculate_accumulated_variance(variance_ratio)\n",
        "\n",
        "display(acc_var)"
      ],
      "metadata": {
        "id": "Rw5qERMWeE3A"
      },
      "execution_count": null,
      "outputs": []
    },
    {
      "cell_type": "markdown",
      "metadata": {
        "id": "BLV3QQOQ9fsN"
      },
      "source": [
        "Importancia caracteristicas"
      ]
    },
    {
      "cell_type": "code",
      "execution_count": null,
      "metadata": {
        "id": "MtMX6PQv9fsN"
      },
      "outputs": [],
      "source": [
        "# Importancia de caracteristicas\n",
        "# Preprocesamos datos\n",
        "cluster_col='Cluster'\n",
        "df_clusters = feature_matrix_with_clusters[[cluster_col]].copy().reset_index(drop=True)\n",
        "\n",
        "# Combinar los DataFrames basándose en la columna 'Index'\n",
        "preprocessed_df = pd.concat([scaled_df, df_clusters], axis=1)\n",
        "\n",
        "clusters = kmeans_model.labels_\n",
        "\n",
        "IMPORTANCE_THRES=0.05\n",
        "importance_df = km_m.get_feature_importances(preprocessed_df, clusters, imp_threshold=IMPORTANCE_THRES)\n",
        "\n",
        "# Seleccionamos solo las caracteristicas que tienen importancia por encima o igual del umbral\n",
        "selected_features = importance_df[importance_df['Importance'] >= IMPORTANCE_THRES]\n",
        "\n",
        "# Creamos una lista con las features más importantes usando la columna feature de importance_df\n",
        "most_important_features = selected_features['Feature'].tolist()\n",
        "\n",
        "# display(importance_df.head(10))"
      ]
    },
    {
      "cell_type": "markdown",
      "metadata": {
        "id": "rBWD4q169fsN"
      },
      "source": [
        "## Dimension Redux"
      ]
    },
    {
      "cell_type": "code",
      "execution_count": null,
      "metadata": {
        "id": "PvCzmtIb9fsT"
      },
      "outputs": [],
      "source": [
        "# Ejecutar PCA y clustering\n",
        "n_components = 5 # Segun visto en varianza acumulada -> casi 95%\n",
        "\n",
        "# Obtenemos scaled df con componentes y clusters\n",
        "df_with_pca, loadings_df = km_m.pca_and_cluster(scaled_df, n_clusters=optimal_k, n_components=n_components)\n",
        "\n",
        "# # Mostrar el DataFrame con PCA y clustering\n",
        "# display(df_with_pca.head(5))\n",
        "\n",
        "# Graficar la cantidad de items por cluster\n",
        "show_clusters = km_m.plot_cluster_sizes(df_with_pca)"
      ]
    },
    {
      "cell_type": "markdown",
      "metadata": {
        "id": "q6yDps0a9fsU"
      },
      "source": [
        "## Descripcion de los clusters"
      ]
    },
    {
      "cell_type": "code",
      "source": [
        "# Visualizacion clusters\n",
        "cols = n_components + 1 # -> Seleccionamos solo las columnas de PC + Cluster\n",
        "df_pairplot = df_with_pca.iloc[:, -(cols):]\n",
        "\n",
        "df_pairplot['Cluster'] = df_with_pca['Cluster']\n",
        "sns.pairplot(df_pairplot[0:], hue='Cluster', palette='viridis')"
      ],
      "metadata": {
        "id": "L61G5p3UAK8i"
      },
      "execution_count": null,
      "outputs": []
    },
    {
      "cell_type": "code",
      "source": [
        "# T SNE visualizacion de clusters\n",
        "km_m.tsne_visualization(df_pairplot, n_components=2, perplexity=30)"
      ],
      "metadata": {
        "id": "-0NTGR7N3f40"
      },
      "execution_count": null,
      "outputs": []
    },
    {
      "cell_type": "markdown",
      "source": [
        "Mostrar descripciones"
      ],
      "metadata": {
        "id": "najRJCtHF3KF"
      }
    },
    {
      "cell_type": "code",
      "source": [
        "# Seleccionamos las features según la lista most_important_features obtenida con random forest\n",
        "importance_df_filt = importance_df[importance_df['Feature'].isin(most_important_features)]\n",
        "\n",
        "# Crear y mostrar descripciones de los clusters\n",
        "description_df = km_m.create_cluster_descriptions(df_with_pca, importance_df_filt)\n",
        "print('###########################################################')\n",
        "print('Descripcion de los clusters')\n",
        "print('###########################################################')\n",
        "# Ordenamos columnas de description_df usando sort\n",
        "description_df = description_df[sorted(description_df.columns)]\n",
        "display(description_df)"
      ],
      "metadata": {
        "id": "jtBTWSz7AKus"
      },
      "execution_count": null,
      "outputs": []
    },
    {
      "cell_type": "code",
      "source": [
        "# Asignacion clusters a shops\n",
        "df_shops = df_shops.reset_index(drop=True) # Recuperamos indices originales\n",
        "\n",
        "df_shops_with_clusters = df_shops.merge(df_with_pca[['Cluster']], left_index=True, right_index=True)\n",
        "\n",
        "df_shops_with_clusters.head()"
      ],
      "metadata": {
        "id": "gRaUbDKwGkFu"
      },
      "execution_count": null,
      "outputs": []
    },
    {
      "cell_type": "code",
      "source": [
        "# Crear dataframe con las descripciones de los clusters\n",
        "cluster_summary = {\n",
        "\n",
        "}\n",
        "\n",
        "cluster_summary_df = pd.DataFrame.from_dict(cluster_summary, orient='index')\n",
        "\n",
        "# Realiza un merge con el resumen de clusters para añadir los nombres y descripciones al dataframe original\n",
        "shops_with_cluster_info = df_shops_with_clusters.merge(cluster_summary_df, left_on='Cluster', right_index=True, how='left')\n",
        "\n",
        "# Resultado: `items_with_cluster_info` tendrá las columnas adicionales 'cluster_name' y 'description'\n",
        "display(shops_with_cluster_info.head())"
      ],
      "metadata": {
        "id": "69778xrqAI2R"
      },
      "execution_count": null,
      "outputs": []
    },
    {
      "cell_type": "code",
      "source": [
        "km_m.plot_clusters_with_name(shops_with_cluster_info)"
      ],
      "metadata": {
        "id": "ojJ-9ftoiVZX"
      },
      "execution_count": null,
      "outputs": []
    },
    {
      "cell_type": "markdown",
      "source": [
        "## Guardamos csv"
      ],
      "metadata": {
        "id": "XAO9SjheHHy_"
      }
    },
    {
      "cell_type": "code",
      "source": [
        "# Guardamos df como csv\n",
        "from google.colab import files\n",
        "\n",
        "file_name = 'shops_clusters_events_influence_sales.csv'\n",
        "\n",
        "# # Exportar DataFrame a CSV (reemplaza 'df' por el nombre de tu DataFrame)\n",
        "# shops_with_cluster_info.to_csv(file_name, index=False)\n",
        "\n",
        "# # Descargar el archivo CSV\n",
        "# files.download(file_name)"
      ],
      "metadata": {
        "id": "tjOYksnLGbrP"
      },
      "execution_count": null,
      "outputs": []
    }
  ],
  "metadata": {
    "kernelspec": {
      "display_name": "Python 3",
      "name": "python3"
    },
    "language_info": {
      "codemirror_mode": {
        "name": "ipython",
        "version": 3
      },
      "file_extension": ".py",
      "mimetype": "text/x-python",
      "name": "python",
      "nbconvert_exporter": "python",
      "pygments_lexer": "ipython3",
      "version": "3.11.9"
    },
    "colab": {
      "provenance": [],
      "gpuType": "T4",
      "toc_visible": true
    },
    "accelerator": "GPU"
  },
  "nbformat": 4,
  "nbformat_minor": 0
}